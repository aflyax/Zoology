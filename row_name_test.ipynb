{
 "metadata": {
  "name": "",
  "signature": "sha256:127c115a8ab33429d41a7463539fa70f27a67e9bc91d2b886310f77231d461db"
 },
 "nbformat": 3,
 "nbformat_minor": 0,
 "worksheets": [
  {
   "cells": [
    {
     "cell_type": "code",
     "collapsed": false,
     "input": [
      "import pandas as pd"
     ],
     "language": "python",
     "metadata": {},
     "outputs": [],
     "prompt_number": 68
    },
    {
     "cell_type": "code",
     "collapsed": false,
     "input": [
      "sample_submission_df = pd.read_csv('C:\\\\Users\\\\E\\\\Desktop\\\\Zoology_kaggle\\\\sampleSubmission.csv')\n",
      "myRF_submission_df = pd.read_csv('C:\\\\Users\\\\E\\\\Desktop\\\\Zoology_kaggle\\\\test_write.csv')\n"
     ],
     "language": "python",
     "metadata": {},
     "outputs": [],
     "prompt_number": 192
    },
    {
     "cell_type": "code",
     "collapsed": false,
     "input": [
      "print sample_submission_df.shape\n",
      "print myRF_submission_df.shape"
     ],
     "language": "python",
     "metadata": {},
     "outputs": [
      {
       "output_type": "stream",
       "stream": "stdout",
       "text": [
        "(130400, 122)\n",
        "(130398, 122)\n"
       ]
      }
     ],
     "prompt_number": 193
    },
    {
     "cell_type": "code",
     "collapsed": false,
     "input": [
      "sample_row_names = set(sample_submission_df['image'])\n",
      "my_submit_row_names = set(myRF_submission_df['image'])\n",
      "print \"In sample_submission but not in myRF_submission\"\n",
      "print sample_row_names.difference(my_submit_row_names)\n",
      "print \"In myRF_submission but not in sample_submission\"\n",
      "print my_submit_row_names.difference(sample_row_names)"
     ],
     "language": "python",
     "metadata": {},
     "outputs": [
      {
       "output_type": "stream",
       "stream": "stdout",
       "text": [
        "In sample_submission but not in myRF_submission\n",
        "set(['100.jpg', '10.jpg', '1.jpg'])\n",
        "In myRF_submission but not in sample_submission\n",
        "set(['0.jpg'])\n"
       ]
      }
     ],
     "prompt_number": 194
    },
    {
     "cell_type": "code",
     "collapsed": false,
     "input": [
      "revised_submission_df = myRF_submission_df.copy()\n",
      "\n",
      "revised_submission_df = revised_submission_df.append(sample_submission_df[sample_submission_df['image'] == '100.jpg'])\n",
      "print revised_submission_df.shape\n",
      "revised_submission_df = revised_submission_df.append(sample_submission_df[sample_submission_df['image'] == '10.jpg'])\n",
      "print revised_submission_df.shape\n",
      "revised_submission_df = revised_submission_df.append(sample_submission_df[sample_submission_df['image'] == '1.jpg'])\n",
      "print revised_submission_df.shape\n",
      "revised_submission_df = revised_submission_df[revised_submission_df['image'] != '0.jpg']\n",
      "print revised_submission_df.shape"
     ],
     "language": "python",
     "metadata": {},
     "outputs": [
      {
       "output_type": "stream",
       "stream": "stdout",
       "text": [
        "(130399, 122)\n",
        "(130400, 122)"
       ]
      },
      {
       "output_type": "stream",
       "stream": "stdout",
       "text": [
        "\n",
        "(130401, 122)"
       ]
      },
      {
       "output_type": "stream",
       "stream": "stdout",
       "text": [
        "\n",
        "(130400, 122)"
       ]
      },
      {
       "output_type": "stream",
       "stream": "stdout",
       "text": [
        "\n"
       ]
      }
     ],
     "prompt_number": 195
    },
    {
     "cell_type": "code",
     "collapsed": false,
     "input": [
      "#Write the new file to a csv\n",
      "revised_submission_df.to_csv('C:\\\\Users\\\\E\\\\Desktop\\\\Zoology_kaggle\\\\correctRFouput.csv', index = False)"
     ],
     "language": "python",
     "metadata": {},
     "outputs": [],
     "prompt_number": 200
    },
    {
     "cell_type": "code",
     "collapsed": false,
     "input": [
      "tester = pd.read_csv('C:\\\\Users\\\\E\\\\Desktop\\\\Zoology_kaggle\\\\correctRFouput.csv')"
     ],
     "language": "python",
     "metadata": {},
     "outputs": [],
     "prompt_number": 201
    },
    {
     "cell_type": "code",
     "collapsed": false,
     "input": [
      "tester.shape"
     ],
     "language": "python",
     "metadata": {},
     "outputs": [
      {
       "metadata": {},
       "output_type": "pyout",
       "prompt_number": 202,
       "text": [
        "(130400, 122)"
       ]
      }
     ],
     "prompt_number": 202
    },
    {
     "cell_type": "code",
     "collapsed": false,
     "input": [],
     "language": "python",
     "metadata": {},
     "outputs": []
    }
   ],
   "metadata": {}
  }
 ]
}