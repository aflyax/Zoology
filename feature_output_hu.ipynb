{
 "metadata": {
  "name": "",
  "signature": "sha256:d8eac6bb06d304c99f122c884cf219feb7bec2762d3d8cee8a1ee7021261ea28"
 },
 "nbformat": 3,
 "nbformat_minor": 0,
 "worksheets": [
  {
   "cells": [
    {
     "cell_type": "code",
     "collapsed": false,
     "input": [
      "#Import libraries for doing image analysis\n",
      "from skimage.io import imread\n",
      "from skimage.transform import resize\n",
      "from skimage.transform import rotate\n",
      "from sklearn.ensemble import RandomForestClassifier as RF\n",
      "import glob\n",
      "import os\n",
      "import pandas as pd\n",
      "from sklearn import cross_validation\n",
      "from sklearn.cross_validation import StratifiedKFold as KFold\n",
      "from sklearn.metrics import classification_report\n",
      "from matplotlib import pyplot as plt\n",
      "from matplotlib import colors\n",
      "from pylab import cm\n",
      "from skimage import segmentation\n",
      "from skimage.morphology import watershed\n",
      "from skimage import measure\n",
      "from skimage import morphology\n",
      "import numpy as np\n",
      "import pandas as pd\n",
      "from scipy import ndimage\n",
      "from skimage.feature import peak_local_max\n",
      "from sklearn import tree\n",
      "import pickle\n",
      "# make graphics inline\n",
      "%matplotlib inline"
     ],
     "language": "python",
     "metadata": {},
     "outputs": [],
     "prompt_number": 1
    },
    {
     "cell_type": "code",
     "collapsed": false,
     "input": [
      "import warnings\n",
      "warnings.filterwarnings(\"ignore\")"
     ],
     "language": "python",
     "metadata": {},
     "outputs": [],
     "prompt_number": 2
    },
    {
     "cell_type": "code",
     "collapsed": false,
     "input": [
      "def getLargestRegion(props, labelmap, imagethres):\n",
      "    #Receives as an input the regionlist (a list of regionprops objects), the labelelled image and the normal image. \n",
      "    regionmaxprop = None\n",
      "    for regionprop in props:\n",
      "        # check to see if the region is at least 50% nonzero.  This allows for the possiblity that no region is chosen.\n",
      "        if sum(imagethres[labelmap == regionprop.label])*1.0/regionprop.area < 0.50:\n",
      "            continue\n",
      "        #Loop to choose the maxregion.\n",
      "        if regionmaxprop is None:\n",
      "            regionmaxprop = regionprop\n",
      "        if regionmaxprop.filled_area < regionprop.filled_area:\n",
      "            regionmaxprop = regionprop\n",
      "    \n",
      "    #Validate that some region has been chosen and set # of regions.  If not, set the number of regions to return to -1\n",
      "    if regionmaxprop == None:\n",
      "        region_count = -1\n",
      "    else:\n",
      "        region_count = len(props)\n",
      "    \n",
      "    #Return the tuple of the max region object and the region count.\n",
      "    return (regionmaxprop, region_count)"
     ],
     "language": "python",
     "metadata": {},
     "outputs": [],
     "prompt_number": 3
    },
    {
     "cell_type": "code",
     "collapsed": false,
     "input": [
      "def getFeatures(image_input):\n",
      "    #Get the string and turn it into an image\n",
      "    max_pixel = 25\n",
      "    #--Make the image grey scale\n",
      "    im = imread(image_input, as_grey=True)\n",
      "    #--Rescale the image to 25x25\n",
      "    im_resized = resize(im, (max_pixel, max_pixel))\n",
      "    #--Threshold the image.\n",
      "    im_thr = np.where(im_resized > np.mean(im_resized),0.,1.0)\n",
      "    \n",
      "    # Create the label list from the image\n",
      "    label_list = measure.label(im_thr)\n",
      "    \n",
      "    #Dilate the image--is this necessary?\n",
      "    #imdilated = morphology.dilation(imagethr, np.ones((4,4)))\n",
      "    \n",
      "    #Take the label list and make the image into the label list of ints.\n",
      "    label_list = im_thr*label_list\n",
      "    label_list = label_list.astype(int)\n",
      "    \n",
      "    #This is  a list of measure.regionprops type objects.  It is created from a labellist.\n",
      "    region_list = measure.regionprops(label_list)\n",
      "    \n",
      "    #Get the largest region and the region count.  This returns a tuple that is the maxregion and the region count.\n",
      "    #It is important that the maxregion returns 0 if the image is empty for some reason.\n",
      "    (maxregion, region_count) = getLargestRegion(region_list, label_list, im_thr)\n",
      "    \n",
      "    #Get the largest area of the image and rotation amount.  Make sure it will work if the image as no big area.  \n",
      "    if region_count == -1:\n",
      "        max_region_num = -1\n",
      "        to_rotate = 0\n",
      "    else:\n",
      "        max_region_num = maxregion.label\n",
      "        to_rotate = maxregion.orientation\n",
      "    \n",
      "    #Get the largest group from the image and rotate it to orient toward the left.\n",
      "    im_big = np.where(label_list == max_region_num, 1.0, 0.0)\n",
      "    im_rotate = rotate(im_big, angle=-90*2*to_rotate/pi, order=0)\n",
      "    \n",
      "    if region_count == -1:\n",
      "        #There was no max region selected.  Print the file name (as this is an error.)\n",
      "        feat_list = np.asarray([-1,0,0,0,0,0,0,0,0,0,0,0])\n",
      "        print \"Zero file-- \" + image_input\n",
      "    else:\n",
      "        feat_list = np.asarray([region_count, maxregion.area, maxregion.convex_area, maxregion.eccentricity, \n",
      "                                maxregion.equivalent_diameter,maxregion.extent, maxregion.filled_area, maxregion.major_axis_length, \n",
      "                                maxregion.minor_axis_length, maxregion.orientation, maxregion.perimeter, maxregion.solidity] )\n",
      "\n",
      "    #Flatten the rotated, pixelized image into an array.\n",
      "    image_size = im_rotate.shape[0]*im_rotate.shape[1]\n",
      "    im_pixel_list = np.reshape(im_rotate, (1, image_size))\n",
      "    \n",
      "    #Creat the array to return, \n",
      "    output_features = np.zeros(image_size + len(feat_list))\n",
      "    output_features[0:len(feat_list)] = np.asarray(feat_list)\n",
      "    output_features[len(feat_list)::] = im_pixel_list\n",
      "    return output_features"
     ],
     "language": "python",
     "metadata": {},
     "outputs": [],
     "prompt_number": 4
    },
    {
     "cell_type": "code",
     "collapsed": false,
     "input": [
      "example_file_names = []\n",
      "example_file_names.append(\"C:\\\\Users\\\\E\\\\Desktop\\\\Zoology_kaggle\\\\test\\\\1.jpg\")\n",
      "example_file_names.append(\"C:\\\\Users\\\\E\\\\Desktop\\\\Zoology_kaggle\\\\test\\\\10.jpg\")\n",
      "example_file_names.append(\"C:\\\\Users\\\\E\\\\Desktop\\\\Zoology_kaggle\\\\train\\\\hydromedusae_partial_dark\\\\2173.jpg\")\n",
      "example_file_names.append(\"C:\\\\Users\\\\E\\\\Desktop\\\\Zoology_kaggle\\\\train\\\\artifacts\\\\401.jpg\")"
     ],
     "language": "python",
     "metadata": {},
     "outputs": [],
     "prompt_number": 5
    },
    {
     "cell_type": "code",
     "collapsed": false,
     "input": [
      "#Need to decide whether to process as an image or a directory name of an image\n",
      "#This is to test on a few examples.\n",
      "#plt.imshow(imread(example_file_names[2]))\n",
      "#feat_list = getFeatures(example_file_names[2])\n",
      "#print feat_list\n",
      "#plt.imshow(reshape(feat_list[-625::],(25,25)))\n",
      "#--Make the image grey scale\n",
      "def hu_moments(im_name):\n",
      "    im = imread(im_name, as_grey=True)\n",
      "    im_thresh = np.where(im > np.mean(im),0.,1.0)\n",
      "    label_list = measure.label(im_thresh)\n",
      "    region_list = measure.regionprops(label_list)\n",
      "    largest_region = getLargestRegion(region_list, label_list, im_thresh)\n",
      "    return_array_properties = np.zeros(36)\n",
      "    return_array_properties[0:5] = np.array([im.shape[0], im.shape[1], np.mean(im), np.std(im), largest_region[1]])\n",
      "    #largest_region = None\n",
      "    if largest_region[0] == None:\n",
      "        print im_name + \" has no largest region.\"\n",
      "    else:\n",
      "        return_array_properties[5:36] = [largest_region[0].area,\n",
      "                                        largest_region[0].bbox[0], largest_region[0].bbox[1], largest_region[0].bbox[2], largest_region[0].bbox[3],\n",
      "                                        largest_region[0].centroid[0], largest_region[0].centroid[1],\n",
      "                                        largest_region[0].convex_area,\n",
      "                                        largest_region[0].eccentricity,\n",
      "                                        largest_region[0].equivalent_diameter,\n",
      "                                        largest_region[0].euler_number,\n",
      "                                        largest_region[0].extent,\n",
      "                                        largest_region[0].filled_area,\n",
      "                                        largest_region[0].inertia_tensor[0,0], largest_region[0].inertia_tensor[0,1], largest_region[0].inertia_tensor[1,0], largest_region[0].inertia_tensor[1,1],\n",
      "                                        largest_region[0].inertia_tensor_eigvals[0], largest_region[0].inertia_tensor_eigvals[1],\n",
      "                                        largest_region[0].major_axis_length,\n",
      "                                        largest_region[0].minor_axis_length,\n",
      "                                        largest_region[0].moments_hu[0],\n",
      "                                        largest_region[0].moments_hu[1],\n",
      "                                        largest_region[0].moments_hu[2],\n",
      "                                        largest_region[0].moments_hu[3],\n",
      "                                        largest_region[0].moments_hu[4],\n",
      "                                        largest_region[0].moments_hu[5],\n",
      "                                        largest_region[0].moments_hu[6],\n",
      "                                        largest_region[0].orientation,\n",
      "                                        largest_region[0].perimeter,\n",
      "                                        largest_region[0].solidity,]    \n",
      "    return return_array_properties\n"
     ],
     "language": "python",
     "metadata": {},
     "outputs": [],
     "prompt_number": 144
    },
    {
     "cell_type": "code",
     "collapsed": false,
     "input": [
      "hu_moments(example_file_names[1])"
     ],
     "language": "python",
     "metadata": {},
     "outputs": [
      {
       "metadata": {},
       "output_type": "pyout",
       "prompt_number": 139,
       "text": [
        "array([  4.40000000e+01,   5.20000000e+01,   2.48130245e+02,\n",
        "         2.80508809e+01,   3.00000000e+00,   2.15000000e+02,\n",
        "         1.10000000e+01,   1.20000000e+01,   3.20000000e+01,\n",
        "         4.10000000e+01,   2.51069767e+01,   2.76930233e+01,\n",
        "         3.71000000e+02,   7.73474589e-01,   1.65452864e+01,\n",
        "         0.00000000e+00,   3.53037767e-01,   2.15000000e+02,\n",
        "         4.80825095e+01,   9.50204435e+00,   9.50204435e+00,\n",
        "         2.39280909e+01,   5.13724024e+01,   2.06381979e+01,\n",
        "         2.86698176e+01,   1.81717134e+01,   3.34933025e-01,\n",
        "         2.04346420e-02,   3.01085895e-02,   1.66912474e-03,\n",
        "        -1.18117903e-05,  -1.46386655e-04,  -7.00627512e-07,\n",
        "         3.33312317e-01,   9.29411255e+01,   5.79514825e-01])"
       ]
      }
     ],
     "prompt_number": 139
    },
    {
     "cell_type": "code",
     "collapsed": false,
     "input": [
      "# get the classnames from the directory structure\n",
      "directory_names = list(set(glob.glob(os.path.join(\"C:\\Users\\E\\Desktop\\Zoology_kaggle\",\"train\", \"*\"))\\\n",
      " ).difference(set(glob.glob(os.path.join(\"C:\\Users\\E\\Desktop\\Zoology_kaggle\",\"train\",\"*.*\")))))"
     ],
     "language": "python",
     "metadata": {},
     "outputs": [],
     "prompt_number": 141
    },
    {
     "cell_type": "code",
     "collapsed": false,
     "input": [
      "# Rescale the images and create the combined metrics and training labels\n",
      "\n",
      "#get the total training images\n",
      "numberofImages = 0\n",
      "for folder in directory_names:\n",
      "    for fileNameDir in os.walk(folder):   \n",
      "        for fileName in fileNameDir[2]:\n",
      "             # Only read in the images\n",
      "            if fileName[-4:] != \".jpg\":\n",
      "              continue\n",
      "            numberofImages += 1\n",
      "\n",
      "#Initialize variables: \n",
      "files = []    #List of file names\n",
      "num_rows = numberofImages    #Number of rows in train set\n",
      "num_cols = 36   #Number of cols in feature set (known in advance)\n",
      "i = 0    #Counter\n",
      "label = 0    #For the labels.\n",
      "namesClasses = list()   #List of the class names\n",
      "y = np.zeros((num_rows))    #Classes\n",
      "x_train = np.zeros((num_rows, num_cols))    #Train dataset\n",
      "\n",
      "print \"Reading images\"\n",
      "\n",
      "# Navigate through the list of directories\n",
      "for folder in directory_names:\n",
      "    #Find the name, which is the last directory in the path.  Set that as the class name for each class/directory.\n",
      "    currentClass = folder.split(os.pathsep)[-1]\n",
      "    namesClasses.append(currentClass)\n",
      "    \n",
      "    if label%10 == 0:\n",
      "        print currentClass\n",
      "        print str(label) + \" \" + str(i)\n",
      "    \n",
      "    #For each dir in the class folder do the inner loop (this is confusing, there shouldn't be directories in a class dir.)\n",
      "    for fileNameDir in os.walk(folder):   \n",
      "        #Read each filename in the class directory.\n",
      "        for fileName in fileNameDir[2]:\n",
      "            \n",
      "            # Only read in the images\n",
      "            if fileName[-4:] != \".jpg\":\n",
      "                print fileName + \" not a jpg.\"\n",
      "                continue\n",
      "            \n",
      "            # Get the path and add to the files list.\n",
      "            nameFileImage = \"{0}{1}{2}\".format(fileNameDir[0], os.sep, fileName)\n",
      "            files.append(nameFileImage)\n",
      "            \n",
      "            # Store the classlabel, this corresponds with the namesClasses.  Extract features and add them to train features.\n",
      "            y[i] = label\n",
      "            feat_list = hu_moments(nameFileImage)\n",
      "            x_train[i] = feat_list\n",
      "            i += 1\n",
      "            \n",
      "            # report progress for each 5% done  \n",
      "            #report = [int((i+1)*num_rows/20.) for i in range(20)]\n",
      "            #if i in report: \n",
      "            #    print np.ceil(i *100.0 / num_rows), \"% done\"\n",
      "            #    print x_train[i]\n",
      "            #    print nameFileImage\n",
      "    label += 1"
     ],
     "language": "python",
     "metadata": {},
     "outputs": [
      {
       "output_type": "stream",
       "stream": "stdout",
       "text": [
        "Reading images\n",
        "C:\\Users\\E\\Desktop\\Zoology_kaggle\\train\\copepod_calanoid_small_longantennae\n",
        "0 0\n",
        "Thumbs.db not a jpg."
       ]
      },
      {
       "output_type": "stream",
       "stream": "stdout",
       "text": [
        "\n",
        "C:\\Users\\E\\Desktop\\Zoology_kaggle\\train\\diatom_chain_string"
       ]
      },
      {
       "output_type": "stream",
       "stream": "stdout",
       "text": [
        "\n",
        "10 2278\n",
        "Thumbs.db not a jpg."
       ]
      },
      {
       "output_type": "stream",
       "stream": "stdout",
       "text": [
        "\n",
        "C:\\Users\\E\\Desktop\\Zoology_kaggle\\train\\decapods"
       ]
      },
      {
       "output_type": "stream",
       "stream": "stdout",
       "text": [
        "\n",
        "20 5074\n",
        "C:\\Users\\E\\Desktop\\Zoology_kaggle\\train\\invertebrate_larvae_other_B"
       ]
      },
      {
       "output_type": "stream",
       "stream": "stdout",
       "text": [
        "\n",
        "30 5906\n",
        "C:\\Users\\E\\Desktop\\Zoology_kaggle\\train\\crustacean_other"
       ]
      },
      {
       "output_type": "stream",
       "stream": "stdout",
       "text": [
        "\n",
        "40 7383\n",
        "C:\\Users\\E\\Desktop\\Zoology_kaggle\\train\\echinoderm_larva_seastar_brachiolaria"
       ]
      },
      {
       "output_type": "stream",
       "stream": "stdout",
       "text": [
        "\n",
        "50 9665\n",
        "Thumbs.db not a jpg."
       ]
      },
      {
       "output_type": "stream",
       "stream": "stdout",
       "text": [
        "\n",
        "C:\\Users\\E\\Desktop\\Zoology_kaggle\\train\\tunicate_doliolid"
       ]
      },
      {
       "output_type": "stream",
       "stream": "stdout",
       "text": [
        "\n",
        "60 12804\n",
        "Thumbs.db not a jpg."
       ]
      },
      {
       "output_type": "stream",
       "stream": "stdout",
       "text": [
        "\n",
        "C:\\Users\\E\\Desktop\\Zoology_kaggle\\train\\pteropod_butterfly"
       ]
      },
      {
       "output_type": "stream",
       "stream": "stdout",
       "text": [
        "\n",
        "70 15304\n",
        "Thumbs.db not a jpg."
       ]
      },
      {
       "output_type": "stream",
       "stream": "stdout",
       "text": [
        "\n",
        "C:\\Users\\E\\Desktop\\Zoology_kaggle\\train\\hydromedusae_typeF"
       ]
      },
      {
       "output_type": "stream",
       "stream": "stdout",
       "text": [
        "\n",
        "80 17463\n",
        "C:\\Users\\E\\Desktop\\Zoology_kaggle\\train\\ephyra"
       ]
      },
      {
       "output_type": "stream",
       "stream": "stdout",
       "text": [
        "\n",
        "90 19799\n",
        "Thumbs.db not a jpg."
       ]
      },
      {
       "output_type": "stream",
       "stream": "stdout",
       "text": [
        "\n",
        "Thumbs.db not a jpg."
       ]
      },
      {
       "output_type": "stream",
       "stream": "stdout",
       "text": [
        "\n",
        "C:\\Users\\E\\Desktop\\Zoology_kaggle\\train\\acantharia_protist_halo\n",
        "100 22955\n",
        "C:\\Users\\E\\Desktop\\Zoology_kaggle\\train\\siphonophore_calycophoran_sphaeronectes_stem"
       ]
      },
      {
       "output_type": "stream",
       "stream": "stdout",
       "text": [
        "\n",
        "110 26635\n",
        "Thumbs.db not a jpg."
       ]
      },
      {
       "output_type": "stream",
       "stream": "stdout",
       "text": [
        "\n",
        "Thumbs.db not a jpg."
       ]
      },
      {
       "output_type": "stream",
       "stream": "stdout",
       "text": [
        "\n",
        "Thumbs.db not a jpg."
       ]
      },
      {
       "output_type": "stream",
       "stream": "stdout",
       "text": [
        "\n",
        "C:\\Users\\E\\Desktop\\Zoology_kaggle\\train\\trichodesmium_multiple\n",
        "120 30280\n",
        "Thumbs.db not a jpg."
       ]
      },
      {
       "output_type": "stream",
       "stream": "stdout",
       "text": [
        "\n"
       ]
      }
     ],
     "prompt_number": 142
    },
    {
     "cell_type": "code",
     "collapsed": false,
     "input": [
      "test_length = 130400\n",
      "num_cols = 36\n",
      "x_test = np.zeros((test_length, num_cols))\n",
      "test_file_names = []\n",
      "j = 0\n",
      "test_dir = \"C:\\\\Users\\\\E\\\\Desktop\\\\Zoology_kaggle\\\\test\\\\\"\n",
      "for fileNameList in os.walk(test_dir):   \n",
      "    for fileName in fileNameList[2]:\n",
      "        if fileName[-4:] != \".jpg\":\n",
      "            print fileName\n",
      "            continue\n",
      "        test_file_names.append(fileName)\n",
      "        x_test[j] = hu_moments(test_dir + fileName)\n",
      "        j += 1\n",
      "        if j%1000 == 0:\n",
      "            print j"
     ],
     "language": "python",
     "metadata": {},
     "outputs": [
      {
       "output_type": "stream",
       "stream": "stdout",
       "text": [
        "1000\n",
        "2000"
       ]
      },
      {
       "output_type": "stream",
       "stream": "stdout",
       "text": [
        "\n",
        "3000"
       ]
      },
      {
       "output_type": "stream",
       "stream": "stdout",
       "text": [
        "\n",
        "4000"
       ]
      },
      {
       "output_type": "stream",
       "stream": "stdout",
       "text": [
        "\n",
        "5000"
       ]
      },
      {
       "output_type": "stream",
       "stream": "stdout",
       "text": [
        "\n",
        "C:\\Users\\E\\Desktop\\Zoology_kaggle\\test\\105948.jpg has no largest region."
       ]
      },
      {
       "output_type": "stream",
       "stream": "stdout",
       "text": [
        "\n",
        "6000"
       ]
      },
      {
       "output_type": "stream",
       "stream": "stdout",
       "text": [
        "\n",
        "7000"
       ]
      },
      {
       "output_type": "stream",
       "stream": "stdout",
       "text": [
        "\n",
        "C:\\Users\\E\\Desktop\\Zoology_kaggle\\test\\108275.jpg has no largest region."
       ]
      },
      {
       "output_type": "stream",
       "stream": "stdout",
       "text": [
        "\n",
        "8000"
       ]
      },
      {
       "output_type": "stream",
       "stream": "stdout",
       "text": [
        "\n",
        "9000"
       ]
      },
      {
       "output_type": "stream",
       "stream": "stdout",
       "text": [
        "\n",
        "10000"
       ]
      },
      {
       "output_type": "stream",
       "stream": "stdout",
       "text": [
        "\n",
        "11000"
       ]
      },
      {
       "output_type": "stream",
       "stream": "stdout",
       "text": [
        "\n",
        "12000"
       ]
      },
      {
       "output_type": "stream",
       "stream": "stdout",
       "text": [
        "\n",
        "13000"
       ]
      },
      {
       "output_type": "stream",
       "stream": "stdout",
       "text": [
        "\n",
        "14000"
       ]
      },
      {
       "output_type": "stream",
       "stream": "stdout",
       "text": [
        "\n",
        "15000"
       ]
      },
      {
       "output_type": "stream",
       "stream": "stdout",
       "text": [
        "\n",
        "16000"
       ]
      },
      {
       "output_type": "stream",
       "stream": "stdout",
       "text": [
        "\n",
        "17000"
       ]
      },
      {
       "output_type": "stream",
       "stream": "stdout",
       "text": [
        "\n",
        "18000"
       ]
      },
      {
       "output_type": "stream",
       "stream": "stdout",
       "text": [
        "\n",
        "19000"
       ]
      },
      {
       "output_type": "stream",
       "stream": "stdout",
       "text": [
        "\n",
        "20000"
       ]
      },
      {
       "output_type": "stream",
       "stream": "stdout",
       "text": [
        "\n",
        "21000"
       ]
      },
      {
       "output_type": "stream",
       "stream": "stdout",
       "text": [
        "\n",
        "22000"
       ]
      },
      {
       "output_type": "stream",
       "stream": "stdout",
       "text": [
        "\n",
        "23000"
       ]
      },
      {
       "output_type": "stream",
       "stream": "stdout",
       "text": [
        "\n",
        "24000"
       ]
      },
      {
       "output_type": "stream",
       "stream": "stdout",
       "text": [
        "\n",
        "25000"
       ]
      },
      {
       "output_type": "stream",
       "stream": "stdout",
       "text": [
        "\n",
        "26000"
       ]
      },
      {
       "output_type": "stream",
       "stream": "stdout",
       "text": [
        "\n",
        "27000"
       ]
      },
      {
       "output_type": "stream",
       "stream": "stdout",
       "text": [
        "\n",
        "28000"
       ]
      },
      {
       "output_type": "stream",
       "stream": "stdout",
       "text": [
        "\n",
        "29000"
       ]
      },
      {
       "output_type": "stream",
       "stream": "stdout",
       "text": [
        "\n",
        "30000"
       ]
      },
      {
       "output_type": "stream",
       "stream": "stdout",
       "text": [
        "\n",
        "31000"
       ]
      },
      {
       "output_type": "stream",
       "stream": "stdout",
       "text": [
        "\n",
        "32000"
       ]
      },
      {
       "output_type": "stream",
       "stream": "stdout",
       "text": [
        "\n",
        "33000"
       ]
      },
      {
       "output_type": "stream",
       "stream": "stdout",
       "text": [
        "\n",
        "34000"
       ]
      },
      {
       "output_type": "stream",
       "stream": "stdout",
       "text": [
        "\n",
        "35000"
       ]
      },
      {
       "output_type": "stream",
       "stream": "stdout",
       "text": [
        "\n",
        "36000"
       ]
      },
      {
       "output_type": "stream",
       "stream": "stdout",
       "text": [
        "\n",
        "37000"
       ]
      },
      {
       "output_type": "stream",
       "stream": "stdout",
       "text": [
        "\n",
        "38000"
       ]
      },
      {
       "output_type": "stream",
       "stream": "stdout",
       "text": [
        "\n",
        "39000"
       ]
      },
      {
       "output_type": "stream",
       "stream": "stdout",
       "text": [
        "\n",
        "40000"
       ]
      },
      {
       "output_type": "stream",
       "stream": "stdout",
       "text": [
        "\n",
        "41000"
       ]
      },
      {
       "output_type": "stream",
       "stream": "stdout",
       "text": [
        "\n",
        "42000"
       ]
      },
      {
       "output_type": "stream",
       "stream": "stdout",
       "text": [
        "\n",
        "43000"
       ]
      },
      {
       "output_type": "stream",
       "stream": "stdout",
       "text": [
        "\n",
        "44000"
       ]
      },
      {
       "output_type": "stream",
       "stream": "stdout",
       "text": [
        "\n",
        "45000"
       ]
      },
      {
       "output_type": "stream",
       "stream": "stdout",
       "text": [
        "\n",
        "46000"
       ]
      },
      {
       "output_type": "stream",
       "stream": "stdout",
       "text": [
        "\n",
        "47000"
       ]
      },
      {
       "output_type": "stream",
       "stream": "stdout",
       "text": [
        "\n",
        "48000"
       ]
      },
      {
       "output_type": "stream",
       "stream": "stdout",
       "text": [
        "\n",
        "49000"
       ]
      },
      {
       "output_type": "stream",
       "stream": "stdout",
       "text": [
        "\n",
        "50000"
       ]
      },
      {
       "output_type": "stream",
       "stream": "stdout",
       "text": [
        "\n",
        "51000"
       ]
      },
      {
       "output_type": "stream",
       "stream": "stdout",
       "text": [
        "\n",
        "52000"
       ]
      },
      {
       "output_type": "stream",
       "stream": "stdout",
       "text": [
        "\n",
        "53000"
       ]
      },
      {
       "output_type": "stream",
       "stream": "stdout",
       "text": [
        "\n",
        "54000"
       ]
      },
      {
       "output_type": "stream",
       "stream": "stdout",
       "text": [
        "\n",
        "55000"
       ]
      },
      {
       "output_type": "stream",
       "stream": "stdout",
       "text": [
        "\n",
        "56000"
       ]
      },
      {
       "output_type": "stream",
       "stream": "stdout",
       "text": [
        "\n",
        "57000"
       ]
      },
      {
       "output_type": "stream",
       "stream": "stdout",
       "text": [
        "\n",
        "58000"
       ]
      },
      {
       "output_type": "stream",
       "stream": "stdout",
       "text": [
        "\n",
        "59000"
       ]
      },
      {
       "output_type": "stream",
       "stream": "stdout",
       "text": [
        "\n",
        "60000"
       ]
      },
      {
       "output_type": "stream",
       "stream": "stdout",
       "text": [
        "\n",
        "61000"
       ]
      },
      {
       "output_type": "stream",
       "stream": "stdout",
       "text": [
        "\n",
        "62000"
       ]
      },
      {
       "output_type": "stream",
       "stream": "stdout",
       "text": [
        "\n",
        "63000"
       ]
      },
      {
       "output_type": "stream",
       "stream": "stdout",
       "text": [
        "\n",
        "64000"
       ]
      },
      {
       "output_type": "stream",
       "stream": "stdout",
       "text": [
        "\n",
        "65000"
       ]
      },
      {
       "output_type": "stream",
       "stream": "stdout",
       "text": [
        "\n",
        "66000"
       ]
      },
      {
       "output_type": "stream",
       "stream": "stdout",
       "text": [
        "\n",
        "67000"
       ]
      },
      {
       "output_type": "stream",
       "stream": "stdout",
       "text": [
        "\n",
        "68000"
       ]
      },
      {
       "output_type": "stream",
       "stream": "stdout",
       "text": [
        "\n",
        "69000"
       ]
      },
      {
       "output_type": "stream",
       "stream": "stdout",
       "text": [
        "\n",
        "70000"
       ]
      },
      {
       "output_type": "stream",
       "stream": "stdout",
       "text": [
        "\n",
        "71000"
       ]
      },
      {
       "output_type": "stream",
       "stream": "stdout",
       "text": [
        "\n",
        "72000"
       ]
      },
      {
       "output_type": "stream",
       "stream": "stdout",
       "text": [
        "\n",
        "73000"
       ]
      },
      {
       "output_type": "stream",
       "stream": "stdout",
       "text": [
        "\n",
        "74000"
       ]
      },
      {
       "output_type": "stream",
       "stream": "stdout",
       "text": [
        "\n",
        "75000"
       ]
      },
      {
       "output_type": "stream",
       "stream": "stdout",
       "text": [
        "\n",
        "76000"
       ]
      },
      {
       "output_type": "stream",
       "stream": "stdout",
       "text": [
        "\n",
        "77000"
       ]
      },
      {
       "output_type": "stream",
       "stream": "stdout",
       "text": [
        "\n",
        "78000"
       ]
      },
      {
       "output_type": "stream",
       "stream": "stdout",
       "text": [
        "\n",
        "C:\\Users\\E\\Desktop\\Zoology_kaggle\\test\\42626.jpg has no largest region."
       ]
      },
      {
       "output_type": "stream",
       "stream": "stdout",
       "text": [
        "\n",
        "79000"
       ]
      },
      {
       "output_type": "stream",
       "stream": "stdout",
       "text": [
        "\n",
        "C:\\Users\\E\\Desktop\\Zoology_kaggle\\test\\44086.jpg has no largest region."
       ]
      },
      {
       "output_type": "stream",
       "stream": "stdout",
       "text": [
        "\n",
        "80000"
       ]
      },
      {
       "output_type": "stream",
       "stream": "stdout",
       "text": [
        "\n",
        "81000"
       ]
      },
      {
       "output_type": "stream",
       "stream": "stdout",
       "text": [
        "\n",
        "82000"
       ]
      },
      {
       "output_type": "stream",
       "stream": "stdout",
       "text": [
        "\n",
        "83000"
       ]
      },
      {
       "output_type": "stream",
       "stream": "stdout",
       "text": [
        "\n",
        "84000"
       ]
      },
      {
       "output_type": "stream",
       "stream": "stdout",
       "text": [
        "\n",
        "85000"
       ]
      },
      {
       "output_type": "stream",
       "stream": "stdout",
       "text": [
        "\n",
        "86000"
       ]
      },
      {
       "output_type": "stream",
       "stream": "stdout",
       "text": [
        "\n",
        "87000"
       ]
      },
      {
       "output_type": "stream",
       "stream": "stdout",
       "text": [
        "\n",
        "88000"
       ]
      },
      {
       "output_type": "stream",
       "stream": "stdout",
       "text": [
        "\n",
        "89000"
       ]
      },
      {
       "output_type": "stream",
       "stream": "stdout",
       "text": [
        "\n",
        "90000"
       ]
      },
      {
       "output_type": "stream",
       "stream": "stdout",
       "text": [
        "\n",
        "91000"
       ]
      },
      {
       "output_type": "stream",
       "stream": "stdout",
       "text": [
        "\n",
        "92000"
       ]
      },
      {
       "output_type": "stream",
       "stream": "stdout",
       "text": [
        "\n",
        "93000"
       ]
      },
      {
       "output_type": "stream",
       "stream": "stdout",
       "text": [
        "\n",
        "94000"
       ]
      },
      {
       "output_type": "stream",
       "stream": "stdout",
       "text": [
        "\n",
        "95000"
       ]
      },
      {
       "output_type": "stream",
       "stream": "stdout",
       "text": [
        "\n",
        "96000"
       ]
      },
      {
       "output_type": "stream",
       "stream": "stdout",
       "text": [
        "\n",
        "97000"
       ]
      },
      {
       "output_type": "stream",
       "stream": "stdout",
       "text": [
        "\n",
        "98000"
       ]
      },
      {
       "output_type": "stream",
       "stream": "stdout",
       "text": [
        "\n",
        "99000"
       ]
      },
      {
       "output_type": "stream",
       "stream": "stdout",
       "text": [
        "\n",
        "100000"
       ]
      },
      {
       "output_type": "stream",
       "stream": "stdout",
       "text": [
        "\n",
        "101000"
       ]
      },
      {
       "output_type": "stream",
       "stream": "stdout",
       "text": [
        "\n",
        "102000"
       ]
      },
      {
       "output_type": "stream",
       "stream": "stdout",
       "text": [
        "\n",
        "103000"
       ]
      },
      {
       "output_type": "stream",
       "stream": "stdout",
       "text": [
        "\n",
        "104000"
       ]
      },
      {
       "output_type": "stream",
       "stream": "stdout",
       "text": [
        "\n",
        "105000"
       ]
      },
      {
       "output_type": "stream",
       "stream": "stdout",
       "text": [
        "\n",
        "106000"
       ]
      },
      {
       "output_type": "stream",
       "stream": "stdout",
       "text": [
        "\n",
        "107000"
       ]
      },
      {
       "output_type": "stream",
       "stream": "stdout",
       "text": [
        "\n",
        "108000"
       ]
      },
      {
       "output_type": "stream",
       "stream": "stdout",
       "text": [
        "\n",
        "109000"
       ]
      },
      {
       "output_type": "stream",
       "stream": "stdout",
       "text": [
        "\n",
        "110000"
       ]
      },
      {
       "output_type": "stream",
       "stream": "stdout",
       "text": [
        "\n",
        "111000"
       ]
      },
      {
       "output_type": "stream",
       "stream": "stdout",
       "text": [
        "\n",
        "112000"
       ]
      },
      {
       "output_type": "stream",
       "stream": "stdout",
       "text": [
        "\n",
        "113000"
       ]
      },
      {
       "output_type": "stream",
       "stream": "stdout",
       "text": [
        "\n",
        "114000"
       ]
      },
      {
       "output_type": "stream",
       "stream": "stdout",
       "text": [
        "\n",
        "115000"
       ]
      },
      {
       "output_type": "stream",
       "stream": "stdout",
       "text": [
        "\n",
        "116000"
       ]
      },
      {
       "output_type": "stream",
       "stream": "stdout",
       "text": [
        "\n",
        "117000"
       ]
      },
      {
       "output_type": "stream",
       "stream": "stdout",
       "text": [
        "\n",
        "118000"
       ]
      },
      {
       "output_type": "stream",
       "stream": "stdout",
       "text": [
        "\n",
        "119000"
       ]
      },
      {
       "output_type": "stream",
       "stream": "stdout",
       "text": [
        "\n",
        "120000"
       ]
      },
      {
       "output_type": "stream",
       "stream": "stdout",
       "text": [
        "\n",
        "121000"
       ]
      },
      {
       "output_type": "stream",
       "stream": "stdout",
       "text": [
        "\n",
        "122000"
       ]
      },
      {
       "output_type": "stream",
       "stream": "stdout",
       "text": [
        "\n",
        "123000"
       ]
      },
      {
       "output_type": "stream",
       "stream": "stdout",
       "text": [
        "\n",
        "124000"
       ]
      },
      {
       "output_type": "stream",
       "stream": "stdout",
       "text": [
        "\n",
        "125000"
       ]
      },
      {
       "output_type": "stream",
       "stream": "stdout",
       "text": [
        "\n",
        "C:\\Users\\E\\Desktop\\Zoology_kaggle\\test\\95094.jpg has no largest region."
       ]
      },
      {
       "output_type": "stream",
       "stream": "stdout",
       "text": [
        "\n",
        "126000"
       ]
      },
      {
       "output_type": "stream",
       "stream": "stdout",
       "text": [
        "\n",
        "127000"
       ]
      },
      {
       "output_type": "stream",
       "stream": "stdout",
       "text": [
        "\n",
        "128000"
       ]
      },
      {
       "output_type": "stream",
       "stream": "stdout",
       "text": [
        "\n",
        "129000"
       ]
      },
      {
       "output_type": "stream",
       "stream": "stdout",
       "text": [
        "\n",
        "130000"
       ]
      },
      {
       "output_type": "stream",
       "stream": "stdout",
       "text": [
        "\n",
        "Thumbs.db"
       ]
      },
      {
       "output_type": "stream",
       "stream": "stdout",
       "text": [
        "\n"
       ]
      }
     ],
     "prompt_number": 145
    },
    {
     "cell_type": "code",
     "collapsed": false,
     "input": [
      "y_hu_df = pd.DataFrame(y, index=files, columns=['label'])\n",
      "x_train_hu_df = pd.DataFrame(x_train, index=files)\n",
      "x_test_hu_df = pd.DataFrame(x_test, index=test_file_names)\n"
     ],
     "language": "python",
     "metadata": {},
     "outputs": [],
     "prompt_number": 146
    },
    {
     "cell_type": "code",
     "collapsed": false,
     "input": [
      "x_train_hu_df[0:10]"
     ],
     "language": "python",
     "metadata": {},
     "outputs": [
      {
       "html": [
        "<div style=\"max-height:1000px;max-width:1500px;overflow:auto;\">\n",
        "<table border=\"1\" class=\"dataframe\">\n",
        "  <thead>\n",
        "    <tr style=\"text-align: right;\">\n",
        "      <th></th>\n",
        "      <th>0</th>\n",
        "      <th>1</th>\n",
        "      <th>2</th>\n",
        "      <th>3</th>\n",
        "      <th>4</th>\n",
        "      <th>5</th>\n",
        "      <th>6</th>\n",
        "      <th>7</th>\n",
        "      <th>8</th>\n",
        "      <th>9</th>\n",
        "      <th>...</th>\n",
        "      <th>26</th>\n",
        "      <th>27</th>\n",
        "      <th>28</th>\n",
        "      <th>29</th>\n",
        "      <th>30</th>\n",
        "      <th>31</th>\n",
        "      <th>32</th>\n",
        "      <th>33</th>\n",
        "      <th>34</th>\n",
        "      <th>35</th>\n",
        "    </tr>\n",
        "  </thead>\n",
        "  <tbody>\n",
        "    <tr>\n",
        "      <th>C:\\Users\\E\\Desktop\\Zoology_kaggle\\train\\copepod_calanoid_small_longantennae\\100728.jpg</th>\n",
        "      <td> 80</td>\n",
        "      <td> 42</td>\n",
        "      <td> 248.138095</td>\n",
        "      <td> 28.767820</td>\n",
        "      <td>  3</td>\n",
        "      <td> 286</td>\n",
        "      <td> 10</td>\n",
        "      <td> 10</td>\n",
        "      <td> 70</td>\n",
        "      <td> 31</td>\n",
        "      <td>...</td>\n",
        "      <td> 0.748447</td>\n",
        "      <td> 0.390867</td>\n",
        "      <td> 0.121176</td>\n",
        "      <td> 0.037340</td>\n",
        "      <td> 0.002499</td>\n",
        "      <td> 0.019699</td>\n",
        "      <td>-0.000252</td>\n",
        "      <td> 1.474993</td>\n",
        "      <td> 166.911688</td>\n",
        "      <td> 0.401122</td>\n",
        "    </tr>\n",
        "    <tr>\n",
        "      <th>C:\\Users\\E\\Desktop\\Zoology_kaggle\\train\\copepod_calanoid_small_longantennae\\101339.jpg</th>\n",
        "      <td> 54</td>\n",
        "      <td> 55</td>\n",
        "      <td> 250.953872</td>\n",
        "      <td> 19.769077</td>\n",
        "      <td>  4</td>\n",
        "      <td> 184</td>\n",
        "      <td> 10</td>\n",
        "      <td> 10</td>\n",
        "      <td> 44</td>\n",
        "      <td> 45</td>\n",
        "      <td>...</td>\n",
        "      <td> 0.822990</td>\n",
        "      <td> 0.389136</td>\n",
        "      <td> 0.093413</td>\n",
        "      <td> 0.001919</td>\n",
        "      <td> 0.000001</td>\n",
        "      <td>-0.000573</td>\n",
        "      <td>-0.000026</td>\n",
        "      <td>-0.763950</td>\n",
        "      <td> 123.267027</td>\n",
        "      <td> 0.349810</td>\n",
        "    </tr>\n",
        "    <tr>\n",
        "      <th>C:\\Users\\E\\Desktop\\Zoology_kaggle\\train\\copepod_calanoid_small_longantennae\\103093.jpg</th>\n",
        "      <td> 47</td>\n",
        "      <td> 71</td>\n",
        "      <td> 252.200779</td>\n",
        "      <td> 18.141814</td>\n",
        "      <td> 31</td>\n",
        "      <td> 141</td>\n",
        "      <td> 10</td>\n",
        "      <td> 10</td>\n",
        "      <td> 38</td>\n",
        "      <td> 61</td>\n",
        "      <td>...</td>\n",
        "      <td> 1.405627</td>\n",
        "      <td> 1.549564</td>\n",
        "      <td> 0.342275</td>\n",
        "      <td> 0.022350</td>\n",
        "      <td>-0.001942</td>\n",
        "      <td>-0.027794</td>\n",
        "      <td>-0.000224</td>\n",
        "      <td>-0.424051</td>\n",
        "      <td> 110.390873</td>\n",
        "      <td> 0.246073</td>\n",
        "    </tr>\n",
        "    <tr>\n",
        "      <th>C:\\Users\\E\\Desktop\\Zoology_kaggle\\train\\copepod_calanoid_small_longantennae\\104949.jpg</th>\n",
        "      <td> 42</td>\n",
        "      <td> 92</td>\n",
        "      <td> 251.164337</td>\n",
        "      <td> 19.445474</td>\n",
        "      <td> 15</td>\n",
        "      <td> 229</td>\n",
        "      <td> 10</td>\n",
        "      <td> 10</td>\n",
        "      <td> 32</td>\n",
        "      <td> 83</td>\n",
        "      <td>...</td>\n",
        "      <td> 1.798855</td>\n",
        "      <td> 2.892600</td>\n",
        "      <td> 0.033119</td>\n",
        "      <td> 0.001643</td>\n",
        "      <td>-0.000003</td>\n",
        "      <td>-0.001663</td>\n",
        "      <td> 0.000012</td>\n",
        "      <td> 0.190685</td>\n",
        "      <td> 166.633514</td>\n",
        "      <td> 0.250273</td>\n",
        "    </tr>\n",
        "    <tr>\n",
        "      <th>C:\\Users\\E\\Desktop\\Zoology_kaggle\\train\\copepod_calanoid_small_longantennae\\106043.jpg</th>\n",
        "      <td> 58</td>\n",
        "      <td> 86</td>\n",
        "      <td> 249.691860</td>\n",
        "      <td> 23.083473</td>\n",
        "      <td>  3</td>\n",
        "      <td> 354</td>\n",
        "      <td> 11</td>\n",
        "      <td> 10</td>\n",
        "      <td> 48</td>\n",
        "      <td> 75</td>\n",
        "      <td>...</td>\n",
        "      <td> 1.014549</td>\n",
        "      <td> 0.777658</td>\n",
        "      <td> 0.026815</td>\n",
        "      <td> 0.001850</td>\n",
        "      <td> 0.000013</td>\n",
        "      <td> 0.001303</td>\n",
        "      <td> 0.000002</td>\n",
        "      <td>-0.426685</td>\n",
        "      <td> 199.823376</td>\n",
        "      <td> 0.318632</td>\n",
        "    </tr>\n",
        "    <tr>\n",
        "      <th>C:\\Users\\E\\Desktop\\Zoology_kaggle\\train\\copepod_calanoid_small_longantennae\\108946.jpg</th>\n",
        "      <td> 41</td>\n",
        "      <td> 57</td>\n",
        "      <td> 249.158323</td>\n",
        "      <td> 25.088184</td>\n",
        "      <td> 12</td>\n",
        "      <td> 131</td>\n",
        "      <td> 10</td>\n",
        "      <td> 10</td>\n",
        "      <td> 31</td>\n",
        "      <td> 47</td>\n",
        "      <td>...</td>\n",
        "      <td> 0.735718</td>\n",
        "      <td> 0.267651</td>\n",
        "      <td> 0.436952</td>\n",
        "      <td> 0.199020</td>\n",
        "      <td> 0.056975</td>\n",
        "      <td> 0.098596</td>\n",
        "      <td>-0.014085</td>\n",
        "      <td> 0.492821</td>\n",
        "      <td>  96.627417</td>\n",
        "      <td> 0.362881</td>\n",
        "    </tr>\n",
        "    <tr>\n",
        "      <th>C:\\Users\\E\\Desktop\\Zoology_kaggle\\train\\copepod_calanoid_small_longantennae\\112333.jpg</th>\n",
        "      <td> 32</td>\n",
        "      <td> 91</td>\n",
        "      <td> 251.606456</td>\n",
        "      <td> 18.306935</td>\n",
        "      <td> 12</td>\n",
        "      <td> 164</td>\n",
        "      <td> 10</td>\n",
        "      <td> 10</td>\n",
        "      <td> 22</td>\n",
        "      <td> 79</td>\n",
        "      <td>...</td>\n",
        "      <td> 1.845295</td>\n",
        "      <td> 3.196090</td>\n",
        "      <td> 0.006485</td>\n",
        "      <td> 0.001796</td>\n",
        "      <td> 0.000006</td>\n",
        "      <td> 0.002727</td>\n",
        "      <td> 0.000000</td>\n",
        "      <td> 0.037913</td>\n",
        "      <td> 128.491378</td>\n",
        "      <td> 0.296029</td>\n",
        "    </tr>\n",
        "    <tr>\n",
        "      <th>C:\\Users\\E\\Desktop\\Zoology_kaggle\\train\\copepod_calanoid_small_longantennae\\114948.jpg</th>\n",
        "      <td> 90</td>\n",
        "      <td> 55</td>\n",
        "      <td> 251.603434</td>\n",
        "      <td> 19.684083</td>\n",
        "      <td> 22</td>\n",
        "      <td> 193</td>\n",
        "      <td> 10</td>\n",
        "      <td> 17</td>\n",
        "      <td> 67</td>\n",
        "      <td> 46</td>\n",
        "      <td>...</td>\n",
        "      <td> 0.989936</td>\n",
        "      <td> 0.723366</td>\n",
        "      <td> 0.148420</td>\n",
        "      <td> 0.015646</td>\n",
        "      <td> 0.000198</td>\n",
        "      <td>-0.003555</td>\n",
        "      <td>-0.000727</td>\n",
        "      <td> 1.126347</td>\n",
        "      <td> 130.426407</td>\n",
        "      <td> 0.330479</td>\n",
        "    </tr>\n",
        "    <tr>\n",
        "      <th>C:\\Users\\E\\Desktop\\Zoology_kaggle\\train\\copepod_calanoid_small_longantennae\\115215.jpg</th>\n",
        "      <td> 60</td>\n",
        "      <td> 61</td>\n",
        "      <td> 251.181694</td>\n",
        "      <td> 20.344346</td>\n",
        "      <td> 14</td>\n",
        "      <td> 145</td>\n",
        "      <td> 10</td>\n",
        "      <td> 27</td>\n",
        "      <td> 35</td>\n",
        "      <td> 51</td>\n",
        "      <td>...</td>\n",
        "      <td> 0.373871</td>\n",
        "      <td> 0.022743</td>\n",
        "      <td> 0.049215</td>\n",
        "      <td> 0.004079</td>\n",
        "      <td> 0.000058</td>\n",
        "      <td> 0.000608</td>\n",
        "      <td>-0.000001</td>\n",
        "      <td> 1.007595</td>\n",
        "      <td>  69.597980</td>\n",
        "      <td> 0.434132</td>\n",
        "    </tr>\n",
        "    <tr>\n",
        "      <th>C:\\Users\\E\\Desktop\\Zoology_kaggle\\train\\copepod_calanoid_small_longantennae\\116627.jpg</th>\n",
        "      <td> 37</td>\n",
        "      <td> 77</td>\n",
        "      <td> 250.134433</td>\n",
        "      <td> 23.657625</td>\n",
        "      <td>  3</td>\n",
        "      <td> 171</td>\n",
        "      <td> 10</td>\n",
        "      <td> 10</td>\n",
        "      <td> 27</td>\n",
        "      <td> 67</td>\n",
        "      <td>...</td>\n",
        "      <td> 1.201557</td>\n",
        "      <td> 0.990232</td>\n",
        "      <td> 0.353775</td>\n",
        "      <td> 0.060807</td>\n",
        "      <td> 0.007998</td>\n",
        "      <td> 0.027671</td>\n",
        "      <td> 0.003946</td>\n",
        "      <td> 0.018785</td>\n",
        "      <td> 133.284271</td>\n",
        "      <td> 0.289340</td>\n",
        "    </tr>\n",
        "  </tbody>\n",
        "</table>\n",
        "<p>10 rows \u00d7 36 columns</p>\n",
        "</div>"
       ],
       "metadata": {},
       "output_type": "pyout",
       "prompt_number": 148,
       "text": [
        "                                                                                        0   \\\n",
        "C:\\Users\\E\\Desktop\\Zoology_kaggle\\train\\copepod_calanoid_small_longantennae\\100728.jpg  80   \n",
        "C:\\Users\\E\\Desktop\\Zoology_kaggle\\train\\copepod_calanoid_small_longantennae\\101339.jpg  54   \n",
        "C:\\Users\\E\\Desktop\\Zoology_kaggle\\train\\copepod_calanoid_small_longantennae\\103093.jpg  47   \n",
        "C:\\Users\\E\\Desktop\\Zoology_kaggle\\train\\copepod_calanoid_small_longantennae\\104949.jpg  42   \n",
        "C:\\Users\\E\\Desktop\\Zoology_kaggle\\train\\copepod_calanoid_small_longantennae\\106043.jpg  58   \n",
        "C:\\Users\\E\\Desktop\\Zoology_kaggle\\train\\copepod_calanoid_small_longantennae\\108946.jpg  41   \n",
        "C:\\Users\\E\\Desktop\\Zoology_kaggle\\train\\copepod_calanoid_small_longantennae\\112333.jpg  32   \n",
        "C:\\Users\\E\\Desktop\\Zoology_kaggle\\train\\copepod_calanoid_small_longantennae\\114948.jpg  90   \n",
        "C:\\Users\\E\\Desktop\\Zoology_kaggle\\train\\copepod_calanoid_small_longantennae\\115215.jpg  60   \n",
        "C:\\Users\\E\\Desktop\\Zoology_kaggle\\train\\copepod_calanoid_small_longantennae\\116627.jpg  37   \n",
        "\n",
        "                                                                                        1   \\\n",
        "C:\\Users\\E\\Desktop\\Zoology_kaggle\\train\\copepod_calanoid_small_longantennae\\100728.jpg  42   \n",
        "C:\\Users\\E\\Desktop\\Zoology_kaggle\\train\\copepod_calanoid_small_longantennae\\101339.jpg  55   \n",
        "C:\\Users\\E\\Desktop\\Zoology_kaggle\\train\\copepod_calanoid_small_longantennae\\103093.jpg  71   \n",
        "C:\\Users\\E\\Desktop\\Zoology_kaggle\\train\\copepod_calanoid_small_longantennae\\104949.jpg  92   \n",
        "C:\\Users\\E\\Desktop\\Zoology_kaggle\\train\\copepod_calanoid_small_longantennae\\106043.jpg  86   \n",
        "C:\\Users\\E\\Desktop\\Zoology_kaggle\\train\\copepod_calanoid_small_longantennae\\108946.jpg  57   \n",
        "C:\\Users\\E\\Desktop\\Zoology_kaggle\\train\\copepod_calanoid_small_longantennae\\112333.jpg  91   \n",
        "C:\\Users\\E\\Desktop\\Zoology_kaggle\\train\\copepod_calanoid_small_longantennae\\114948.jpg  55   \n",
        "C:\\Users\\E\\Desktop\\Zoology_kaggle\\train\\copepod_calanoid_small_longantennae\\115215.jpg  61   \n",
        "C:\\Users\\E\\Desktop\\Zoology_kaggle\\train\\copepod_calanoid_small_longantennae\\116627.jpg  77   \n",
        "\n",
        "                                                                                                2   \\\n",
        "C:\\Users\\E\\Desktop\\Zoology_kaggle\\train\\copepod_calanoid_small_longantennae\\100728.jpg  248.138095   \n",
        "C:\\Users\\E\\Desktop\\Zoology_kaggle\\train\\copepod_calanoid_small_longantennae\\101339.jpg  250.953872   \n",
        "C:\\Users\\E\\Desktop\\Zoology_kaggle\\train\\copepod_calanoid_small_longantennae\\103093.jpg  252.200779   \n",
        "C:\\Users\\E\\Desktop\\Zoology_kaggle\\train\\copepod_calanoid_small_longantennae\\104949.jpg  251.164337   \n",
        "C:\\Users\\E\\Desktop\\Zoology_kaggle\\train\\copepod_calanoid_small_longantennae\\106043.jpg  249.691860   \n",
        "C:\\Users\\E\\Desktop\\Zoology_kaggle\\train\\copepod_calanoid_small_longantennae\\108946.jpg  249.158323   \n",
        "C:\\Users\\E\\Desktop\\Zoology_kaggle\\train\\copepod_calanoid_small_longantennae\\112333.jpg  251.606456   \n",
        "C:\\Users\\E\\Desktop\\Zoology_kaggle\\train\\copepod_calanoid_small_longantennae\\114948.jpg  251.603434   \n",
        "C:\\Users\\E\\Desktop\\Zoology_kaggle\\train\\copepod_calanoid_small_longantennae\\115215.jpg  251.181694   \n",
        "C:\\Users\\E\\Desktop\\Zoology_kaggle\\train\\copepod_calanoid_small_longantennae\\116627.jpg  250.134433   \n",
        "\n",
        "                                                                                               3   \\\n",
        "C:\\Users\\E\\Desktop\\Zoology_kaggle\\train\\copepod_calanoid_small_longantennae\\100728.jpg  28.767820   \n",
        "C:\\Users\\E\\Desktop\\Zoology_kaggle\\train\\copepod_calanoid_small_longantennae\\101339.jpg  19.769077   \n",
        "C:\\Users\\E\\Desktop\\Zoology_kaggle\\train\\copepod_calanoid_small_longantennae\\103093.jpg  18.141814   \n",
        "C:\\Users\\E\\Desktop\\Zoology_kaggle\\train\\copepod_calanoid_small_longantennae\\104949.jpg  19.445474   \n",
        "C:\\Users\\E\\Desktop\\Zoology_kaggle\\train\\copepod_calanoid_small_longantennae\\106043.jpg  23.083473   \n",
        "C:\\Users\\E\\Desktop\\Zoology_kaggle\\train\\copepod_calanoid_small_longantennae\\108946.jpg  25.088184   \n",
        "C:\\Users\\E\\Desktop\\Zoology_kaggle\\train\\copepod_calanoid_small_longantennae\\112333.jpg  18.306935   \n",
        "C:\\Users\\E\\Desktop\\Zoology_kaggle\\train\\copepod_calanoid_small_longantennae\\114948.jpg  19.684083   \n",
        "C:\\Users\\E\\Desktop\\Zoology_kaggle\\train\\copepod_calanoid_small_longantennae\\115215.jpg  20.344346   \n",
        "C:\\Users\\E\\Desktop\\Zoology_kaggle\\train\\copepod_calanoid_small_longantennae\\116627.jpg  23.657625   \n",
        "\n",
        "                                                                                        4   \\\n",
        "C:\\Users\\E\\Desktop\\Zoology_kaggle\\train\\copepod_calanoid_small_longantennae\\100728.jpg   3   \n",
        "C:\\Users\\E\\Desktop\\Zoology_kaggle\\train\\copepod_calanoid_small_longantennae\\101339.jpg   4   \n",
        "C:\\Users\\E\\Desktop\\Zoology_kaggle\\train\\copepod_calanoid_small_longantennae\\103093.jpg  31   \n",
        "C:\\Users\\E\\Desktop\\Zoology_kaggle\\train\\copepod_calanoid_small_longantennae\\104949.jpg  15   \n",
        "C:\\Users\\E\\Desktop\\Zoology_kaggle\\train\\copepod_calanoid_small_longantennae\\106043.jpg   3   \n",
        "C:\\Users\\E\\Desktop\\Zoology_kaggle\\train\\copepod_calanoid_small_longantennae\\108946.jpg  12   \n",
        "C:\\Users\\E\\Desktop\\Zoology_kaggle\\train\\copepod_calanoid_small_longantennae\\112333.jpg  12   \n",
        "C:\\Users\\E\\Desktop\\Zoology_kaggle\\train\\copepod_calanoid_small_longantennae\\114948.jpg  22   \n",
        "C:\\Users\\E\\Desktop\\Zoology_kaggle\\train\\copepod_calanoid_small_longantennae\\115215.jpg  14   \n",
        "C:\\Users\\E\\Desktop\\Zoology_kaggle\\train\\copepod_calanoid_small_longantennae\\116627.jpg   3   \n",
        "\n",
        "                                                                                         5   \\\n",
        "C:\\Users\\E\\Desktop\\Zoology_kaggle\\train\\copepod_calanoid_small_longantennae\\100728.jpg  286   \n",
        "C:\\Users\\E\\Desktop\\Zoology_kaggle\\train\\copepod_calanoid_small_longantennae\\101339.jpg  184   \n",
        "C:\\Users\\E\\Desktop\\Zoology_kaggle\\train\\copepod_calanoid_small_longantennae\\103093.jpg  141   \n",
        "C:\\Users\\E\\Desktop\\Zoology_kaggle\\train\\copepod_calanoid_small_longantennae\\104949.jpg  229   \n",
        "C:\\Users\\E\\Desktop\\Zoology_kaggle\\train\\copepod_calanoid_small_longantennae\\106043.jpg  354   \n",
        "C:\\Users\\E\\Desktop\\Zoology_kaggle\\train\\copepod_calanoid_small_longantennae\\108946.jpg  131   \n",
        "C:\\Users\\E\\Desktop\\Zoology_kaggle\\train\\copepod_calanoid_small_longantennae\\112333.jpg  164   \n",
        "C:\\Users\\E\\Desktop\\Zoology_kaggle\\train\\copepod_calanoid_small_longantennae\\114948.jpg  193   \n",
        "C:\\Users\\E\\Desktop\\Zoology_kaggle\\train\\copepod_calanoid_small_longantennae\\115215.jpg  145   \n",
        "C:\\Users\\E\\Desktop\\Zoology_kaggle\\train\\copepod_calanoid_small_longantennae\\116627.jpg  171   \n",
        "\n",
        "                                                                                        6   \\\n",
        "C:\\Users\\E\\Desktop\\Zoology_kaggle\\train\\copepod_calanoid_small_longantennae\\100728.jpg  10   \n",
        "C:\\Users\\E\\Desktop\\Zoology_kaggle\\train\\copepod_calanoid_small_longantennae\\101339.jpg  10   \n",
        "C:\\Users\\E\\Desktop\\Zoology_kaggle\\train\\copepod_calanoid_small_longantennae\\103093.jpg  10   \n",
        "C:\\Users\\E\\Desktop\\Zoology_kaggle\\train\\copepod_calanoid_small_longantennae\\104949.jpg  10   \n",
        "C:\\Users\\E\\Desktop\\Zoology_kaggle\\train\\copepod_calanoid_small_longantennae\\106043.jpg  11   \n",
        "C:\\Users\\E\\Desktop\\Zoology_kaggle\\train\\copepod_calanoid_small_longantennae\\108946.jpg  10   \n",
        "C:\\Users\\E\\Desktop\\Zoology_kaggle\\train\\copepod_calanoid_small_longantennae\\112333.jpg  10   \n",
        "C:\\Users\\E\\Desktop\\Zoology_kaggle\\train\\copepod_calanoid_small_longantennae\\114948.jpg  10   \n",
        "C:\\Users\\E\\Desktop\\Zoology_kaggle\\train\\copepod_calanoid_small_longantennae\\115215.jpg  10   \n",
        "C:\\Users\\E\\Desktop\\Zoology_kaggle\\train\\copepod_calanoid_small_longantennae\\116627.jpg  10   \n",
        "\n",
        "                                                                                        7   \\\n",
        "C:\\Users\\E\\Desktop\\Zoology_kaggle\\train\\copepod_calanoid_small_longantennae\\100728.jpg  10   \n",
        "C:\\Users\\E\\Desktop\\Zoology_kaggle\\train\\copepod_calanoid_small_longantennae\\101339.jpg  10   \n",
        "C:\\Users\\E\\Desktop\\Zoology_kaggle\\train\\copepod_calanoid_small_longantennae\\103093.jpg  10   \n",
        "C:\\Users\\E\\Desktop\\Zoology_kaggle\\train\\copepod_calanoid_small_longantennae\\104949.jpg  10   \n",
        "C:\\Users\\E\\Desktop\\Zoology_kaggle\\train\\copepod_calanoid_small_longantennae\\106043.jpg  10   \n",
        "C:\\Users\\E\\Desktop\\Zoology_kaggle\\train\\copepod_calanoid_small_longantennae\\108946.jpg  10   \n",
        "C:\\Users\\E\\Desktop\\Zoology_kaggle\\train\\copepod_calanoid_small_longantennae\\112333.jpg  10   \n",
        "C:\\Users\\E\\Desktop\\Zoology_kaggle\\train\\copepod_calanoid_small_longantennae\\114948.jpg  17   \n",
        "C:\\Users\\E\\Desktop\\Zoology_kaggle\\train\\copepod_calanoid_small_longantennae\\115215.jpg  27   \n",
        "C:\\Users\\E\\Desktop\\Zoology_kaggle\\train\\copepod_calanoid_small_longantennae\\116627.jpg  10   \n",
        "\n",
        "                                                                                        8   \\\n",
        "C:\\Users\\E\\Desktop\\Zoology_kaggle\\train\\copepod_calanoid_small_longantennae\\100728.jpg  70   \n",
        "C:\\Users\\E\\Desktop\\Zoology_kaggle\\train\\copepod_calanoid_small_longantennae\\101339.jpg  44   \n",
        "C:\\Users\\E\\Desktop\\Zoology_kaggle\\train\\copepod_calanoid_small_longantennae\\103093.jpg  38   \n",
        "C:\\Users\\E\\Desktop\\Zoology_kaggle\\train\\copepod_calanoid_small_longantennae\\104949.jpg  32   \n",
        "C:\\Users\\E\\Desktop\\Zoology_kaggle\\train\\copepod_calanoid_small_longantennae\\106043.jpg  48   \n",
        "C:\\Users\\E\\Desktop\\Zoology_kaggle\\train\\copepod_calanoid_small_longantennae\\108946.jpg  31   \n",
        "C:\\Users\\E\\Desktop\\Zoology_kaggle\\train\\copepod_calanoid_small_longantennae\\112333.jpg  22   \n",
        "C:\\Users\\E\\Desktop\\Zoology_kaggle\\train\\copepod_calanoid_small_longantennae\\114948.jpg  67   \n",
        "C:\\Users\\E\\Desktop\\Zoology_kaggle\\train\\copepod_calanoid_small_longantennae\\115215.jpg  35   \n",
        "C:\\Users\\E\\Desktop\\Zoology_kaggle\\train\\copepod_calanoid_small_longantennae\\116627.jpg  27   \n",
        "\n",
        "                                                                                        9   \\\n",
        "C:\\Users\\E\\Desktop\\Zoology_kaggle\\train\\copepod_calanoid_small_longantennae\\100728.jpg  31   \n",
        "C:\\Users\\E\\Desktop\\Zoology_kaggle\\train\\copepod_calanoid_small_longantennae\\101339.jpg  45   \n",
        "C:\\Users\\E\\Desktop\\Zoology_kaggle\\train\\copepod_calanoid_small_longantennae\\103093.jpg  61   \n",
        "C:\\Users\\E\\Desktop\\Zoology_kaggle\\train\\copepod_calanoid_small_longantennae\\104949.jpg  83   \n",
        "C:\\Users\\E\\Desktop\\Zoology_kaggle\\train\\copepod_calanoid_small_longantennae\\106043.jpg  75   \n",
        "C:\\Users\\E\\Desktop\\Zoology_kaggle\\train\\copepod_calanoid_small_longantennae\\108946.jpg  47   \n",
        "C:\\Users\\E\\Desktop\\Zoology_kaggle\\train\\copepod_calanoid_small_longantennae\\112333.jpg  79   \n",
        "C:\\Users\\E\\Desktop\\Zoology_kaggle\\train\\copepod_calanoid_small_longantennae\\114948.jpg  46   \n",
        "C:\\Users\\E\\Desktop\\Zoology_kaggle\\train\\copepod_calanoid_small_longantennae\\115215.jpg  51   \n",
        "C:\\Users\\E\\Desktop\\Zoology_kaggle\\train\\copepod_calanoid_small_longantennae\\116627.jpg  67   \n",
        "\n",
        "                                                                                       ...  \\\n",
        "C:\\Users\\E\\Desktop\\Zoology_kaggle\\train\\copepod_calanoid_small_longantennae\\100728.jpg ...   \n",
        "C:\\Users\\E\\Desktop\\Zoology_kaggle\\train\\copepod_calanoid_small_longantennae\\101339.jpg ...   \n",
        "C:\\Users\\E\\Desktop\\Zoology_kaggle\\train\\copepod_calanoid_small_longantennae\\103093.jpg ...   \n",
        "C:\\Users\\E\\Desktop\\Zoology_kaggle\\train\\copepod_calanoid_small_longantennae\\104949.jpg ...   \n",
        "C:\\Users\\E\\Desktop\\Zoology_kaggle\\train\\copepod_calanoid_small_longantennae\\106043.jpg ...   \n",
        "C:\\Users\\E\\Desktop\\Zoology_kaggle\\train\\copepod_calanoid_small_longantennae\\108946.jpg ...   \n",
        "C:\\Users\\E\\Desktop\\Zoology_kaggle\\train\\copepod_calanoid_small_longantennae\\112333.jpg ...   \n",
        "C:\\Users\\E\\Desktop\\Zoology_kaggle\\train\\copepod_calanoid_small_longantennae\\114948.jpg ...   \n",
        "C:\\Users\\E\\Desktop\\Zoology_kaggle\\train\\copepod_calanoid_small_longantennae\\115215.jpg ...   \n",
        "C:\\Users\\E\\Desktop\\Zoology_kaggle\\train\\copepod_calanoid_small_longantennae\\116627.jpg ...   \n",
        "\n",
        "                                                                                              26  \\\n",
        "C:\\Users\\E\\Desktop\\Zoology_kaggle\\train\\copepod_calanoid_small_longantennae\\100728.jpg  0.748447   \n",
        "C:\\Users\\E\\Desktop\\Zoology_kaggle\\train\\copepod_calanoid_small_longantennae\\101339.jpg  0.822990   \n",
        "C:\\Users\\E\\Desktop\\Zoology_kaggle\\train\\copepod_calanoid_small_longantennae\\103093.jpg  1.405627   \n",
        "C:\\Users\\E\\Desktop\\Zoology_kaggle\\train\\copepod_calanoid_small_longantennae\\104949.jpg  1.798855   \n",
        "C:\\Users\\E\\Desktop\\Zoology_kaggle\\train\\copepod_calanoid_small_longantennae\\106043.jpg  1.014549   \n",
        "C:\\Users\\E\\Desktop\\Zoology_kaggle\\train\\copepod_calanoid_small_longantennae\\108946.jpg  0.735718   \n",
        "C:\\Users\\E\\Desktop\\Zoology_kaggle\\train\\copepod_calanoid_small_longantennae\\112333.jpg  1.845295   \n",
        "C:\\Users\\E\\Desktop\\Zoology_kaggle\\train\\copepod_calanoid_small_longantennae\\114948.jpg  0.989936   \n",
        "C:\\Users\\E\\Desktop\\Zoology_kaggle\\train\\copepod_calanoid_small_longantennae\\115215.jpg  0.373871   \n",
        "C:\\Users\\E\\Desktop\\Zoology_kaggle\\train\\copepod_calanoid_small_longantennae\\116627.jpg  1.201557   \n",
        "\n",
        "                                                                                              27  \\\n",
        "C:\\Users\\E\\Desktop\\Zoology_kaggle\\train\\copepod_calanoid_small_longantennae\\100728.jpg  0.390867   \n",
        "C:\\Users\\E\\Desktop\\Zoology_kaggle\\train\\copepod_calanoid_small_longantennae\\101339.jpg  0.389136   \n",
        "C:\\Users\\E\\Desktop\\Zoology_kaggle\\train\\copepod_calanoid_small_longantennae\\103093.jpg  1.549564   \n",
        "C:\\Users\\E\\Desktop\\Zoology_kaggle\\train\\copepod_calanoid_small_longantennae\\104949.jpg  2.892600   \n",
        "C:\\Users\\E\\Desktop\\Zoology_kaggle\\train\\copepod_calanoid_small_longantennae\\106043.jpg  0.777658   \n",
        "C:\\Users\\E\\Desktop\\Zoology_kaggle\\train\\copepod_calanoid_small_longantennae\\108946.jpg  0.267651   \n",
        "C:\\Users\\E\\Desktop\\Zoology_kaggle\\train\\copepod_calanoid_small_longantennae\\112333.jpg  3.196090   \n",
        "C:\\Users\\E\\Desktop\\Zoology_kaggle\\train\\copepod_calanoid_small_longantennae\\114948.jpg  0.723366   \n",
        "C:\\Users\\E\\Desktop\\Zoology_kaggle\\train\\copepod_calanoid_small_longantennae\\115215.jpg  0.022743   \n",
        "C:\\Users\\E\\Desktop\\Zoology_kaggle\\train\\copepod_calanoid_small_longantennae\\116627.jpg  0.990232   \n",
        "\n",
        "                                                                                              28  \\\n",
        "C:\\Users\\E\\Desktop\\Zoology_kaggle\\train\\copepod_calanoid_small_longantennae\\100728.jpg  0.121176   \n",
        "C:\\Users\\E\\Desktop\\Zoology_kaggle\\train\\copepod_calanoid_small_longantennae\\101339.jpg  0.093413   \n",
        "C:\\Users\\E\\Desktop\\Zoology_kaggle\\train\\copepod_calanoid_small_longantennae\\103093.jpg  0.342275   \n",
        "C:\\Users\\E\\Desktop\\Zoology_kaggle\\train\\copepod_calanoid_small_longantennae\\104949.jpg  0.033119   \n",
        "C:\\Users\\E\\Desktop\\Zoology_kaggle\\train\\copepod_calanoid_small_longantennae\\106043.jpg  0.026815   \n",
        "C:\\Users\\E\\Desktop\\Zoology_kaggle\\train\\copepod_calanoid_small_longantennae\\108946.jpg  0.436952   \n",
        "C:\\Users\\E\\Desktop\\Zoology_kaggle\\train\\copepod_calanoid_small_longantennae\\112333.jpg  0.006485   \n",
        "C:\\Users\\E\\Desktop\\Zoology_kaggle\\train\\copepod_calanoid_small_longantennae\\114948.jpg  0.148420   \n",
        "C:\\Users\\E\\Desktop\\Zoology_kaggle\\train\\copepod_calanoid_small_longantennae\\115215.jpg  0.049215   \n",
        "C:\\Users\\E\\Desktop\\Zoology_kaggle\\train\\copepod_calanoid_small_longantennae\\116627.jpg  0.353775   \n",
        "\n",
        "                                                                                              29  \\\n",
        "C:\\Users\\E\\Desktop\\Zoology_kaggle\\train\\copepod_calanoid_small_longantennae\\100728.jpg  0.037340   \n",
        "C:\\Users\\E\\Desktop\\Zoology_kaggle\\train\\copepod_calanoid_small_longantennae\\101339.jpg  0.001919   \n",
        "C:\\Users\\E\\Desktop\\Zoology_kaggle\\train\\copepod_calanoid_small_longantennae\\103093.jpg  0.022350   \n",
        "C:\\Users\\E\\Desktop\\Zoology_kaggle\\train\\copepod_calanoid_small_longantennae\\104949.jpg  0.001643   \n",
        "C:\\Users\\E\\Desktop\\Zoology_kaggle\\train\\copepod_calanoid_small_longantennae\\106043.jpg  0.001850   \n",
        "C:\\Users\\E\\Desktop\\Zoology_kaggle\\train\\copepod_calanoid_small_longantennae\\108946.jpg  0.199020   \n",
        "C:\\Users\\E\\Desktop\\Zoology_kaggle\\train\\copepod_calanoid_small_longantennae\\112333.jpg  0.001796   \n",
        "C:\\Users\\E\\Desktop\\Zoology_kaggle\\train\\copepod_calanoid_small_longantennae\\114948.jpg  0.015646   \n",
        "C:\\Users\\E\\Desktop\\Zoology_kaggle\\train\\copepod_calanoid_small_longantennae\\115215.jpg  0.004079   \n",
        "C:\\Users\\E\\Desktop\\Zoology_kaggle\\train\\copepod_calanoid_small_longantennae\\116627.jpg  0.060807   \n",
        "\n",
        "                                                                                              30  \\\n",
        "C:\\Users\\E\\Desktop\\Zoology_kaggle\\train\\copepod_calanoid_small_longantennae\\100728.jpg  0.002499   \n",
        "C:\\Users\\E\\Desktop\\Zoology_kaggle\\train\\copepod_calanoid_small_longantennae\\101339.jpg  0.000001   \n",
        "C:\\Users\\E\\Desktop\\Zoology_kaggle\\train\\copepod_calanoid_small_longantennae\\103093.jpg -0.001942   \n",
        "C:\\Users\\E\\Desktop\\Zoology_kaggle\\train\\copepod_calanoid_small_longantennae\\104949.jpg -0.000003   \n",
        "C:\\Users\\E\\Desktop\\Zoology_kaggle\\train\\copepod_calanoid_small_longantennae\\106043.jpg  0.000013   \n",
        "C:\\Users\\E\\Desktop\\Zoology_kaggle\\train\\copepod_calanoid_small_longantennae\\108946.jpg  0.056975   \n",
        "C:\\Users\\E\\Desktop\\Zoology_kaggle\\train\\copepod_calanoid_small_longantennae\\112333.jpg  0.000006   \n",
        "C:\\Users\\E\\Desktop\\Zoology_kaggle\\train\\copepod_calanoid_small_longantennae\\114948.jpg  0.000198   \n",
        "C:\\Users\\E\\Desktop\\Zoology_kaggle\\train\\copepod_calanoid_small_longantennae\\115215.jpg  0.000058   \n",
        "C:\\Users\\E\\Desktop\\Zoology_kaggle\\train\\copepod_calanoid_small_longantennae\\116627.jpg  0.007998   \n",
        "\n",
        "                                                                                              31  \\\n",
        "C:\\Users\\E\\Desktop\\Zoology_kaggle\\train\\copepod_calanoid_small_longantennae\\100728.jpg  0.019699   \n",
        "C:\\Users\\E\\Desktop\\Zoology_kaggle\\train\\copepod_calanoid_small_longantennae\\101339.jpg -0.000573   \n",
        "C:\\Users\\E\\Desktop\\Zoology_kaggle\\train\\copepod_calanoid_small_longantennae\\103093.jpg -0.027794   \n",
        "C:\\Users\\E\\Desktop\\Zoology_kaggle\\train\\copepod_calanoid_small_longantennae\\104949.jpg -0.001663   \n",
        "C:\\Users\\E\\Desktop\\Zoology_kaggle\\train\\copepod_calanoid_small_longantennae\\106043.jpg  0.001303   \n",
        "C:\\Users\\E\\Desktop\\Zoology_kaggle\\train\\copepod_calanoid_small_longantennae\\108946.jpg  0.098596   \n",
        "C:\\Users\\E\\Desktop\\Zoology_kaggle\\train\\copepod_calanoid_small_longantennae\\112333.jpg  0.002727   \n",
        "C:\\Users\\E\\Desktop\\Zoology_kaggle\\train\\copepod_calanoid_small_longantennae\\114948.jpg -0.003555   \n",
        "C:\\Users\\E\\Desktop\\Zoology_kaggle\\train\\copepod_calanoid_small_longantennae\\115215.jpg  0.000608   \n",
        "C:\\Users\\E\\Desktop\\Zoology_kaggle\\train\\copepod_calanoid_small_longantennae\\116627.jpg  0.027671   \n",
        "\n",
        "                                                                                              32  \\\n",
        "C:\\Users\\E\\Desktop\\Zoology_kaggle\\train\\copepod_calanoid_small_longantennae\\100728.jpg -0.000252   \n",
        "C:\\Users\\E\\Desktop\\Zoology_kaggle\\train\\copepod_calanoid_small_longantennae\\101339.jpg -0.000026   \n",
        "C:\\Users\\E\\Desktop\\Zoology_kaggle\\train\\copepod_calanoid_small_longantennae\\103093.jpg -0.000224   \n",
        "C:\\Users\\E\\Desktop\\Zoology_kaggle\\train\\copepod_calanoid_small_longantennae\\104949.jpg  0.000012   \n",
        "C:\\Users\\E\\Desktop\\Zoology_kaggle\\train\\copepod_calanoid_small_longantennae\\106043.jpg  0.000002   \n",
        "C:\\Users\\E\\Desktop\\Zoology_kaggle\\train\\copepod_calanoid_small_longantennae\\108946.jpg -0.014085   \n",
        "C:\\Users\\E\\Desktop\\Zoology_kaggle\\train\\copepod_calanoid_small_longantennae\\112333.jpg  0.000000   \n",
        "C:\\Users\\E\\Desktop\\Zoology_kaggle\\train\\copepod_calanoid_small_longantennae\\114948.jpg -0.000727   \n",
        "C:\\Users\\E\\Desktop\\Zoology_kaggle\\train\\copepod_calanoid_small_longantennae\\115215.jpg -0.000001   \n",
        "C:\\Users\\E\\Desktop\\Zoology_kaggle\\train\\copepod_calanoid_small_longantennae\\116627.jpg  0.003946   \n",
        "\n",
        "                                                                                              33  \\\n",
        "C:\\Users\\E\\Desktop\\Zoology_kaggle\\train\\copepod_calanoid_small_longantennae\\100728.jpg  1.474993   \n",
        "C:\\Users\\E\\Desktop\\Zoology_kaggle\\train\\copepod_calanoid_small_longantennae\\101339.jpg -0.763950   \n",
        "C:\\Users\\E\\Desktop\\Zoology_kaggle\\train\\copepod_calanoid_small_longantennae\\103093.jpg -0.424051   \n",
        "C:\\Users\\E\\Desktop\\Zoology_kaggle\\train\\copepod_calanoid_small_longantennae\\104949.jpg  0.190685   \n",
        "C:\\Users\\E\\Desktop\\Zoology_kaggle\\train\\copepod_calanoid_small_longantennae\\106043.jpg -0.426685   \n",
        "C:\\Users\\E\\Desktop\\Zoology_kaggle\\train\\copepod_calanoid_small_longantennae\\108946.jpg  0.492821   \n",
        "C:\\Users\\E\\Desktop\\Zoology_kaggle\\train\\copepod_calanoid_small_longantennae\\112333.jpg  0.037913   \n",
        "C:\\Users\\E\\Desktop\\Zoology_kaggle\\train\\copepod_calanoid_small_longantennae\\114948.jpg  1.126347   \n",
        "C:\\Users\\E\\Desktop\\Zoology_kaggle\\train\\copepod_calanoid_small_longantennae\\115215.jpg  1.007595   \n",
        "C:\\Users\\E\\Desktop\\Zoology_kaggle\\train\\copepod_calanoid_small_longantennae\\116627.jpg  0.018785   \n",
        "\n",
        "                                                                                                34  \\\n",
        "C:\\Users\\E\\Desktop\\Zoology_kaggle\\train\\copepod_calanoid_small_longantennae\\100728.jpg  166.911688   \n",
        "C:\\Users\\E\\Desktop\\Zoology_kaggle\\train\\copepod_calanoid_small_longantennae\\101339.jpg  123.267027   \n",
        "C:\\Users\\E\\Desktop\\Zoology_kaggle\\train\\copepod_calanoid_small_longantennae\\103093.jpg  110.390873   \n",
        "C:\\Users\\E\\Desktop\\Zoology_kaggle\\train\\copepod_calanoid_small_longantennae\\104949.jpg  166.633514   \n",
        "C:\\Users\\E\\Desktop\\Zoology_kaggle\\train\\copepod_calanoid_small_longantennae\\106043.jpg  199.823376   \n",
        "C:\\Users\\E\\Desktop\\Zoology_kaggle\\train\\copepod_calanoid_small_longantennae\\108946.jpg   96.627417   \n",
        "C:\\Users\\E\\Desktop\\Zoology_kaggle\\train\\copepod_calanoid_small_longantennae\\112333.jpg  128.491378   \n",
        "C:\\Users\\E\\Desktop\\Zoology_kaggle\\train\\copepod_calanoid_small_longantennae\\114948.jpg  130.426407   \n",
        "C:\\Users\\E\\Desktop\\Zoology_kaggle\\train\\copepod_calanoid_small_longantennae\\115215.jpg   69.597980   \n",
        "C:\\Users\\E\\Desktop\\Zoology_kaggle\\train\\copepod_calanoid_small_longantennae\\116627.jpg  133.284271   \n",
        "\n",
        "                                                                                              35  \n",
        "C:\\Users\\E\\Desktop\\Zoology_kaggle\\train\\copepod_calanoid_small_longantennae\\100728.jpg  0.401122  \n",
        "C:\\Users\\E\\Desktop\\Zoology_kaggle\\train\\copepod_calanoid_small_longantennae\\101339.jpg  0.349810  \n",
        "C:\\Users\\E\\Desktop\\Zoology_kaggle\\train\\copepod_calanoid_small_longantennae\\103093.jpg  0.246073  \n",
        "C:\\Users\\E\\Desktop\\Zoology_kaggle\\train\\copepod_calanoid_small_longantennae\\104949.jpg  0.250273  \n",
        "C:\\Users\\E\\Desktop\\Zoology_kaggle\\train\\copepod_calanoid_small_longantennae\\106043.jpg  0.318632  \n",
        "C:\\Users\\E\\Desktop\\Zoology_kaggle\\train\\copepod_calanoid_small_longantennae\\108946.jpg  0.362881  \n",
        "C:\\Users\\E\\Desktop\\Zoology_kaggle\\train\\copepod_calanoid_small_longantennae\\112333.jpg  0.296029  \n",
        "C:\\Users\\E\\Desktop\\Zoology_kaggle\\train\\copepod_calanoid_small_longantennae\\114948.jpg  0.330479  \n",
        "C:\\Users\\E\\Desktop\\Zoology_kaggle\\train\\copepod_calanoid_small_longantennae\\115215.jpg  0.434132  \n",
        "C:\\Users\\E\\Desktop\\Zoology_kaggle\\train\\copepod_calanoid_small_longantennae\\116627.jpg  0.289340  \n",
        "\n",
        "[10 rows x 36 columns]"
       ]
      }
     ],
     "prompt_number": 148
    },
    {
     "cell_type": "code",
     "collapsed": false,
     "input": [
      "#Write to csv files.  This is in the windows filesystem.\n",
      "y_hu_df.to_csv('C:\\\\Users\\\\E\\\\Desktop\\\\Zoology_kaggle\\\\y_train_hu_big_df.csv')\n",
      "x_train_hu_df.to_csv('C:\\\\Users\\\\E\\\\Desktop\\\\Zoology_kaggle\\\\x_train_hu_big_df.csv')\n",
      "x_test_hu_df.to_csv('C:\\\\Users\\\\E\\\\Desktop\\\\Zoology_kaggle\\\\x_test_hu_big_df.csv')"
     ],
     "language": "python",
     "metadata": {},
     "outputs": [],
     "prompt_number": 149
    },
    {
     "cell_type": "code",
     "collapsed": false,
     "input": [
      "names_out = [i.split('\\\\')[6] for i in namesClasses ]\n"
     ],
     "language": "python",
     "metadata": {},
     "outputs": [],
     "prompt_number": 11
    },
    {
     "cell_type": "code",
     "collapsed": false,
     "input": [
      "pickle.dump(names_out, open('C:\\\\Users\\\\E\\\\Desktop\\\\Zoology_kaggle\\\\names.csv', 'w'))"
     ],
     "language": "python",
     "metadata": {},
     "outputs": [],
     "prompt_number": 23
    },
    {
     "cell_type": "code",
     "collapsed": false,
     "input": [
      "tester = pickle.load(open('C:\\\\Users\\\\E\\\\Desktop\\\\Zoology_kaggle\\\\names.csv', 'r'))"
     ],
     "language": "python",
     "metadata": {},
     "outputs": [],
     "prompt_number": 24
    },
    {
     "cell_type": "code",
     "collapsed": false,
     "input": [
      "tester"
     ],
     "language": "python",
     "metadata": {},
     "outputs": [
      {
       "metadata": {},
       "output_type": "pyout",
       "prompt_number": 25,
       "text": [
        "['copepod_calanoid_small_longantennae',\n",
        " 'appendicularian_fritillaridae',\n",
        " 'siphonophore_other_parts',\n",
        " 'appendicularian_straight',\n",
        " 'echinoderm_larva_pluteus_early',\n",
        " 'hydromedusae_shapeA_sideview_small',\n",
        " 'hydromedusae_liriope',\n",
        " 'chaetognath_sagitta',\n",
        " 'heteropod',\n",
        " 'chaetognath_non_sagitta',\n",
        " 'diatom_chain_string',\n",
        " 'copepod_calanoid',\n",
        " 'artifacts',\n",
        " 'amphipods',\n",
        " 'copepod_calanoid_large',\n",
        " 'copepod_calanoid_large_side_antennatucked',\n",
        " 'ctenophore_cestid',\n",
        " 'pteropod_theco_dev_seq',\n",
        " 'siphonophore_calycophoran_rocketship_young',\n",
        " 'shrimp_sergestidae',\n",
        " 'decapods',\n",
        " 'echinopluteus',\n",
        " 'hydromedusae_bell_and_tentacles',\n",
        " 'hydromedusae_narco_dark',\n",
        " 'hydromedusae_haliscera_small_sideview',\n",
        " 'unknown_unclassified',\n",
        " 'pteropod_triangle',\n",
        " 'hydromedusae_other',\n",
        " 'hydromedusae_aglaura',\n",
        " 'invertebrate_larvae_other_A',\n",
        " 'invertebrate_larvae_other_B',\n",
        " 'siphonophore_calycophoran_abylidae',\n",
        " 'echinoderm_larva_pluteus_typeC',\n",
        " 'hydromedusae_sideview_big',\n",
        " 'fish_larvae_myctophids',\n",
        " 'fish_larvae_leptocephali',\n",
        " 'hydromedusae_solmaris',\n",
        " 'euphausiids',\n",
        " 'echinoderm_larva_pluteus_urchin',\n",
        " 'acantharia_protist_big_center',\n",
        " 'crustacean_other',\n",
        " 'siphonophore_calycophoran_rocketship_adult',\n",
        " 'echinoderm_larva_pluteus_brittlestar',\n",
        " 'artifacts_edge',\n",
        " 'copepod_calanoid_flatheads',\n",
        " 'siphonophore_physonect',\n",
        " 'hydromedusae_narco_young',\n",
        " 'stomatopod',\n",
        " 'unknown_sticks',\n",
        " 'copepod_cyclopoid_oithona',\n",
        " 'echinoderm_larva_seastar_brachiolaria',\n",
        " 'hydromedusae_h15',\n",
        " 'copepod_calanoid_frillyAntennae',\n",
        " 'protist_other',\n",
        " 'copepod_calanoid_eucalanus',\n",
        " 'fish_larvae_deep_body',\n",
        " 'copepod_cyclopoid_copilia',\n",
        " 'protist_fuzzy_olive',\n",
        " 'appendicularian_s_shape',\n",
        " 'polychaete',\n",
        " 'tunicate_doliolid',\n",
        " 'trichodesmium_tuft',\n",
        " 'diatom_chain_tube',\n",
        " 'echinoderm_seacucumber_auricularia_larva',\n",
        " 'ctenophore_cydippid_no_tentacles',\n",
        " 'hydromedusae_narcomedusae',\n",
        " 'jellies_tentacles',\n",
        " 'tunicate_salp',\n",
        " 'hydromedusae_solmundella',\n",
        " 'protist_star',\n",
        " 'pteropod_butterfly',\n",
        " 'siphonophore_physonect_young',\n",
        " 'echinoderm_larva_seastar_bipinnaria',\n",
        " 'protist_noctiluca',\n",
        " 'radiolarian_colony',\n",
        " 'hydromedusae_haliscera',\n",
        " 'hydromedusae_partial_dark',\n",
        " 'fish_larvae_thin_body',\n",
        " 'fish_larvae_very_thin_body',\n",
        " 'detritus_blob',\n",
        " 'hydromedusae_typeF',\n",
        " 'copepod_calanoid_eggs',\n",
        " 'hydromedusae_typeD',\n",
        " 'hydromedusae_typeE',\n",
        " 'tornaria_acorn_worm_larvae',\n",
        " 'detritus_other',\n",
        " 'tunicate_partial',\n",
        " 'shrimp_zoea',\n",
        " 'hydromedusae_typeD_bell_and_tentacles',\n",
        " 'fecal_pellet',\n",
        " 'ephyra',\n",
        " 'tunicate_doliolid_nurse',\n",
        " 'euphausiids_young',\n",
        " 'hydromedusae_shapeB',\n",
        " 'hydromedusae_shapeA',\n",
        " 'copepod_cyclopoid_oithona_eggs',\n",
        " 'unknown_blobs_and_smudges',\n",
        " 'fish_larvae_medium_body',\n",
        " 'siphonophore_calycophoran_sphaeronectes_young',\n",
        " 'radiolarian_chain',\n",
        " 'acantharia_protist_halo',\n",
        " 'shrimp-like_other',\n",
        " 'trochophore_larvae',\n",
        " 'shrimp_caridean',\n",
        " 'siphonophore_calycophoran_sphaeronectes',\n",
        " 'tunicate_salp_chains',\n",
        " 'ctenophore_cydippid_tentacles',\n",
        " 'appendicularian_slight_curve',\n",
        " 'chaetognath_other',\n",
        " 'trichodesmium_bowtie',\n",
        " 'siphonophore_calycophoran_sphaeronectes_stem',\n",
        " 'chordate_type1',\n",
        " 'detritus_filamentous',\n",
        " 'copepod_calanoid_octomoms',\n",
        " 'siphonophore_partial',\n",
        " 'ctenophore_lobate',\n",
        " 'copepod_other',\n",
        " 'protist_dark_center',\n",
        " 'acantharia_protist',\n",
        " 'trichodesmium_puff',\n",
        " 'trichodesmium_multiple']"
       ]
      }
     ],
     "prompt_number": 25
    },
    {
     "cell_type": "code",
     "collapsed": false,
     "input": [],
     "language": "python",
     "metadata": {},
     "outputs": []
    }
   ],
   "metadata": {}
  }
 ]
}