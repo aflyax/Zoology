{
 "metadata": {
  "name": "",
  "signature": "sha256:b8351dad9bc1319411430cf5b0719fdf70661fadf4b2bef6233c6ddba4506517"
 },
 "nbformat": 3,
 "nbformat_minor": 0,
 "worksheets": [
  {
   "cells": [
    {
     "cell_type": "code",
     "collapsed": false,
     "input": [
      "#Import libraries for doing image analysis\n",
      "from skimage.io import imread\n",
      "from skimage.transform import resize\n",
      "from skimage.transform import rotate\n",
      "from sklearn.ensemble import RandomForestClassifier as RF\n",
      "import glob\n",
      "import os\n",
      "import pandas as pd\n",
      "from sklearn import cross_validation\n",
      "from sklearn.cross_validation import StratifiedKFold as KFold\n",
      "from sklearn.metrics import classification_report\n",
      "from matplotlib import pyplot as plt\n",
      "from matplotlib import colors\n",
      "from pylab import cm\n",
      "from skimage import segmentation\n",
      "from skimage.morphology import watershed\n",
      "from skimage import measure\n",
      "from skimage import morphology\n",
      "import numpy as np\n",
      "import pandas as pd\n",
      "from scipy import ndimage\n",
      "from skimage.feature import peak_local_max\n",
      "from sklearn import tree\n",
      "import pickle\n",
      "# make graphics inline\n",
      "%matplotlib inline"
     ],
     "language": "python",
     "metadata": {},
     "outputs": [],
     "prompt_number": 1
    },
    {
     "cell_type": "code",
     "collapsed": false,
     "input": [
      "import warnings\n",
      "warnings.filterwarnings(\"ignore\")"
     ],
     "language": "python",
     "metadata": {},
     "outputs": [],
     "prompt_number": 2
    },
    {
     "cell_type": "code",
     "collapsed": false,
     "input": [
      "def getLargestRegion(props, labelmap, imagethres):\n",
      "    #Receives as an input the regionlist (a list of regionprops objects), the labelelled image and the normal image. \n",
      "    regionmaxprop = None\n",
      "    for regionprop in props:\n",
      "        # check to see if the region is at least 50% nonzero.  This allows for the possiblity that no region is chosen.\n",
      "        if sum(imagethres[labelmap == regionprop.label])*1.0/regionprop.area < 0.50:\n",
      "            continue\n",
      "        #Loop to choose the maxregion.\n",
      "        if regionmaxprop is None:\n",
      "            regionmaxprop = regionprop\n",
      "        if regionmaxprop.filled_area < regionprop.filled_area:\n",
      "            regionmaxprop = regionprop\n",
      "    \n",
      "    #Validate that some region has been chosen and set # of regions.  If not, set the number of regions to return to -1\n",
      "    if regionmaxprop == None:\n",
      "        region_count = -1\n",
      "    else:\n",
      "        region_count = len(props)\n",
      "    \n",
      "    #Return the tuple of the max region object and the region count.\n",
      "    return (regionmaxprop, region_count)"
     ],
     "language": "python",
     "metadata": {},
     "outputs": [],
     "prompt_number": 3
    },
    {
     "cell_type": "code",
     "collapsed": false,
     "input": [
      "def getFeatures(image_input):\n",
      "    #Get the string and turn it into an image\n",
      "    max_pixel = 25\n",
      "    #--Make the image grey scale\n",
      "    im = imread(image_input, as_grey=True)\n",
      "    #--Rescale the image to 25x25\n",
      "    im_resized = resize(im, (max_pixel, max_pixel))\n",
      "    #--Threshold the image.\n",
      "    im_thr = np.where(im_resized > np.mean(im_resized),0.,1.0)\n",
      "    \n",
      "    # Create the label list from the image\n",
      "    label_list = measure.label(im_thr)\n",
      "    \n",
      "    #Dilate the image--is this necessary?\n",
      "    #imdilated = morphology.dilation(imagethr, np.ones((4,4)))\n",
      "    \n",
      "    #Take the label list and make the image into the label list of ints.\n",
      "    label_list = im_thr*label_list\n",
      "    label_list = label_list.astype(int)\n",
      "    \n",
      "    #This is  a list of measure.regionprops type objects.  It is created from a labellist.\n",
      "    region_list = measure.regionprops(label_list)\n",
      "    \n",
      "    #Get the largest region and the region count.  This returns a tuple that is the maxregion and the region count.\n",
      "    #It is important that the maxregion returns 0 if the image is empty for some reason.\n",
      "    (maxregion, region_count) = getLargestRegion(region_list, label_list, im_thr)\n",
      "    \n",
      "    #Get the largest area of the image and rotation amount.  Make sure it will work if the image as no big area.  \n",
      "    if region_count == -1:\n",
      "        max_region_num = -1\n",
      "        to_rotate = 0\n",
      "    else:\n",
      "        max_region_num = maxregion.label\n",
      "        to_rotate = maxregion.orientation\n",
      "    \n",
      "    #Get the largest group from the image and rotate it to orient toward the left.\n",
      "    im_big = np.where(label_list == max_region_num, 1.0, 0.0)\n",
      "    im_rotate = rotate(im_big, angle=-90*2*to_rotate/pi, order=0)\n",
      "    \n",
      "    if region_count == -1:\n",
      "        #There was no max region selected.  Print the file name (as this is an error.)\n",
      "        feat_list = np.asarray([-1,0,0,0,0,0,0,0,0,0,0,0])\n",
      "        print \"Zero file-- \" + image_input\n",
      "    else:\n",
      "        feat_list = np.asarray([region_count, maxregion.area, maxregion.convex_area, maxregion.eccentricity, \n",
      "                                maxregion.equivalent_diameter,maxregion.extent, maxregion.filled_area, maxregion.major_axis_length, \n",
      "                                maxregion.minor_axis_length, maxregion.orientation, maxregion.perimeter, maxregion.solidity] )\n",
      "\n",
      "    #Flatten the rotated, pixelized image into an array.\n",
      "    image_size = im_rotate.shape[0]*im_rotate.shape[1]\n",
      "    im_pixel_list = np.reshape(im_rotate, (1, image_size))\n",
      "    \n",
      "    #Creat the array to return, \n",
      "    output_features = np.zeros(image_size + len(feat_list))\n",
      "    output_features[0:len(feat_list)] = np.asarray(feat_list)\n",
      "    output_features[len(feat_list)::] = im_pixel_list\n",
      "    return output_features"
     ],
     "language": "python",
     "metadata": {},
     "outputs": [],
     "prompt_number": 4
    },
    {
     "cell_type": "code",
     "collapsed": false,
     "input": [
      "example_file_names = []\n",
      "example_file_names.append(\"C:\\\\Users\\\\E\\\\Desktop\\\\Zoology_kaggle\\\\test\\\\1.jpg\")\n",
      "example_file_names.append(\"C:\\\\Users\\\\E\\\\Desktop\\\\Zoology_kaggle\\\\test\\\\10.jpg\")\n",
      "example_file_names.append(\"C:\\\\Users\\\\E\\\\Desktop\\\\Zoology_kaggle\\\\train\\\\hydromedusae_partial_dark\\\\2173.jpg\")\n",
      "example_file_names.append(\"C:\\\\Users\\\\E\\\\Desktop\\\\Zoology_kaggle\\\\train\\\\artifacts\\\\401.jpg\")"
     ],
     "language": "python",
     "metadata": {},
     "outputs": [],
     "prompt_number": 5
    },
    {
     "cell_type": "code",
     "collapsed": false,
     "input": [
      "#Need to decide whether to process as an image or a directory name of an image\n",
      "#This is to test on a few examples.\n",
      "plt.imshow(imread(example_file_names[1]))\n",
      "#feat_list = getFeatures(example_file_names[2])\n",
      "#print feat_list\n",
      "#plt.imshow(reshape(feat_list[-625::],(25,25)))\n",
      "\n",
      "\n"
     ],
     "language": "python",
     "metadata": {},
     "outputs": [
      {
       "metadata": {},
       "output_type": "pyout",
       "prompt_number": 7,
       "text": [
        "<matplotlib.image.AxesImage at 0x168b02b0>"
       ]
      },
      {
       "metadata": {},
       "output_type": "display_data",
       "png": "[encoded data removed]",
       "text": [
        "<matplotlib.figure.Figure at 0x368de10>"
       ]
      }
     ],
     "prompt_number": 7
    },
    {
     "cell_type": "code",
     "collapsed": false,
     "input": [
      "# get the classnames from the directory structure\n",
      "directory_names = list(set(glob.glob(os.path.join(\"C:\\Users\\E\\Desktop\\Zoology_kaggle\",\"train\", \"*\"))\\\n",
      " ).difference(set(glob.glob(os.path.join(\"C:\\Users\\E\\Desktop\\Zoology_kaggle\",\"train\",\"*.*\")))))"
     ],
     "language": "python",
     "metadata": {},
     "outputs": [],
     "prompt_number": 7
    },
    {
     "cell_type": "code",
     "collapsed": false,
     "input": [
      "# Rescale the images and create the combined metrics and training labels\n",
      "\n",
      "#get the total training images\n",
      "numberofImages = 0\n",
      "for folder in directory_names:\n",
      "    for fileNameDir in os.walk(folder):   \n",
      "        for fileName in fileNameDir[2]:\n",
      "             # Only read in the images\n",
      "            if fileName[-4:] != \".jpg\":\n",
      "              continue\n",
      "            numberofImages += 1\n",
      "\n",
      "#Initialize variables: \n",
      "files = []    #List of file names\n",
      "num_rows = numberofImages    #Number of rows in train set\n",
      "num_cols = 637    #Number of cols in feature set (known in advance)\n",
      "i = 0    #Counter\n",
      "label = 0    #For the labels.\n",
      "namesClasses = list()   #List of the class names\n",
      "y = np.zeros((num_rows))    #Classes\n",
      "x_train = np.zeros((num_rows, num_cols))    #Train dataset\n",
      "\n",
      "print \"Reading images\"\n",
      "\n",
      "# Navigate through the list of directories\n",
      "for folder in directory_names:\n",
      "    #Find the name, which is the last directory in the path.  Set that as the class name for each class/directory.\n",
      "    currentClass = folder.split(os.pathsep)[-1]\n",
      "    namesClasses.append(currentClass)\n",
      "    \n",
      "    if label%10 == 0:\n",
      "        print currentClass\n",
      "        print str(label) + \" \" + str(i)\n",
      "    \n",
      "    #For each dir in the class folder do the inner loop (this is confusing, there shouldn't be directories in a class dir.)\n",
      "    for fileNameDir in os.walk(folder):   \n",
      "        #Read each filename in the class directory.\n",
      "        for fileName in fileNameDir[2]:\n",
      "            \n",
      "            # Only read in the images\n",
      "            if fileName[-4:] != \".jpg\":\n",
      "                print fileName + \" not a jpg.\"\n",
      "                continue\n",
      "            \n",
      "            # Get the path and add to the files list.\n",
      "            nameFileImage = \"{0}{1}{2}\".format(fileNameDir[0], os.sep, fileName)\n",
      "            files.append(nameFileImage)\n",
      "            \n",
      "            # Store the classlabel, this corresponds with the namesClasses.  Extract features and add them to train features.\n",
      "            y[i] = label\n",
      "            feat_list = getFeatures(nameFileImage)\n",
      "            x_train[i] = feat_list\n",
      "            i += 1\n",
      "            \n",
      "            # report progress for each 5% done  \n",
      "            #report = [int((i+1)*num_rows/20.) for i in range(20)]\n",
      "            #if i in report: \n",
      "            #    print np.ceil(i *100.0 / num_rows), \"% done\"\n",
      "            #    print x_train[i]\n",
      "            #    print nameFileImage\n",
      "    label += 1"
     ],
     "language": "python",
     "metadata": {},
     "outputs": [
      {
       "output_type": "stream",
       "stream": "stdout",
       "text": [
        "Reading images\n",
        "C:\\Users\\E\\Desktop\\Zoology_kaggle\\train\\copepod_calanoid_small_longantennae\n",
        "0 0\n",
        "Thumbs.db not a jpg."
       ]
      },
      {
       "output_type": "stream",
       "stream": "stdout",
       "text": [
        "\n",
        "C:\\Users\\E\\Desktop\\Zoology_kaggle\\train\\diatom_chain_string"
       ]
      },
      {
       "output_type": "stream",
       "stream": "stdout",
       "text": [
        "\n",
        "10 2278\n",
        "Thumbs.db not a jpg."
       ]
      },
      {
       "output_type": "stream",
       "stream": "stdout",
       "text": [
        "\n",
        "C:\\Users\\E\\Desktop\\Zoology_kaggle\\train\\decapods"
       ]
      },
      {
       "output_type": "stream",
       "stream": "stdout",
       "text": [
        "\n",
        "20 5074\n",
        "C:\\Users\\E\\Desktop\\Zoology_kaggle\\train\\invertebrate_larvae_other_B"
       ]
      },
      {
       "output_type": "stream",
       "stream": "stdout",
       "text": [
        "\n",
        "30 5906\n",
        "C:\\Users\\E\\Desktop\\Zoology_kaggle\\train\\crustacean_other"
       ]
      },
      {
       "output_type": "stream",
       "stream": "stdout",
       "text": [
        "\n",
        "40 7383\n",
        "C:\\Users\\E\\Desktop\\Zoology_kaggle\\train\\echinoderm_larva_seastar_brachiolaria"
       ]
      },
      {
       "output_type": "stream",
       "stream": "stdout",
       "text": [
        "\n",
        "50 9665\n",
        "Thumbs.db not a jpg."
       ]
      },
      {
       "output_type": "stream",
       "stream": "stdout",
       "text": [
        "\n",
        "C:\\Users\\E\\Desktop\\Zoology_kaggle\\train\\tunicate_doliolid"
       ]
      },
      {
       "output_type": "stream",
       "stream": "stdout",
       "text": [
        "\n",
        "60 12804\n",
        "Thumbs.db not a jpg."
       ]
      },
      {
       "output_type": "stream",
       "stream": "stdout",
       "text": [
        "\n",
        "C:\\Users\\E\\Desktop\\Zoology_kaggle\\train\\pteropod_butterfly"
       ]
      },
      {
       "output_type": "stream",
       "stream": "stdout",
       "text": [
        "\n",
        "70 15304\n",
        "Zero file-- C:\\Users\\E\\Desktop\\Zoology_kaggle\\train\\hydromedusae_partial_dark\\2173.jpg"
       ]
      },
      {
       "output_type": "stream",
       "stream": "stdout",
       "text": [
        "\n",
        "Thumbs.db not a jpg."
       ]
      },
      {
       "output_type": "stream",
       "stream": "stdout",
       "text": [
        "\n",
        "C:\\Users\\E\\Desktop\\Zoology_kaggle\\train\\hydromedusae_typeF"
       ]
      },
      {
       "output_type": "stream",
       "stream": "stdout",
       "text": [
        "\n",
        "80 17463\n",
        "Zero file-- C:\\Users\\E\\Desktop\\Zoology_kaggle\\train\\tunicate_partial\\23931.jpg"
       ]
      },
      {
       "output_type": "stream",
       "stream": "stdout",
       "text": [
        "\n",
        "C:\\Users\\E\\Desktop\\Zoology_kaggle\\train\\ephyra"
       ]
      },
      {
       "output_type": "stream",
       "stream": "stdout",
       "text": [
        "\n",
        "90 19799\n",
        "Zero file-- C:\\Users\\E\\Desktop\\Zoology_kaggle\\train\\tunicate_doliolid_nurse\\157209.jpg"
       ]
      },
      {
       "output_type": "stream",
       "stream": "stdout",
       "text": [
        "\n",
        "Zero file-- C:\\Users\\E\\Desktop\\Zoology_kaggle\\train\\tunicate_doliolid_nurse\\65730.jpg"
       ]
      },
      {
       "output_type": "stream",
       "stream": "stdout",
       "text": [
        "\n",
        "Thumbs.db not a jpg."
       ]
      },
      {
       "output_type": "stream",
       "stream": "stdout",
       "text": [
        "\n",
        "Zero file-- C:\\Users\\E\\Desktop\\Zoology_kaggle\\train\\radiolarian_chain\\81965.jpg"
       ]
      },
      {
       "output_type": "stream",
       "stream": "stdout",
       "text": [
        "\n",
        "Thumbs.db not a jpg."
       ]
      },
      {
       "output_type": "stream",
       "stream": "stdout",
       "text": [
        "\n",
        "C:\\Users\\E\\Desktop\\Zoology_kaggle\\train\\acantharia_protist_halo\n",
        "100 22955\n",
        "C:\\Users\\E\\Desktop\\Zoology_kaggle\\train\\siphonophore_calycophoran_sphaeronectes_stem"
       ]
      },
      {
       "output_type": "stream",
       "stream": "stdout",
       "text": [
        "\n",
        "110 26635\n",
        "Thumbs.db not a jpg."
       ]
      },
      {
       "output_type": "stream",
       "stream": "stdout",
       "text": [
        "\n",
        "Thumbs.db not a jpg."
       ]
      },
      {
       "output_type": "stream",
       "stream": "stdout",
       "text": [
        "\n",
        "Thumbs.db not a jpg."
       ]
      },
      {
       "output_type": "stream",
       "stream": "stdout",
       "text": [
        "\n",
        "C:\\Users\\E\\Desktop\\Zoology_kaggle\\train\\trichodesmium_multiple\n",
        "120 30280\n",
        "Thumbs.db not a jpg."
       ]
      },
      {
       "output_type": "stream",
       "stream": "stdout",
       "text": [
        "\n"
       ]
      }
     ],
     "prompt_number": 8
    },
    {
     "cell_type": "code",
     "collapsed": false,
     "input": [
      "test_length = 130400\n",
      "num_cols = 637\n",
      "x_test = np.zeros((test_length, num_cols))\n",
      "test_file_names = []\n",
      "j = 0\n",
      "test_dir = \"C:\\\\Users\\\\E\\\\Desktop\\\\Zoology_kaggle\\\\test\\\\\"\n",
      "for fileNameList in os.walk(test_dir):   \n",
      "    for fileName in fileNameList[2]:\n",
      "        if fileName[-4:] != \".jpg\":\n",
      "            print fileName\n",
      "            continue\n",
      "        test_file_names.append(fileName)\n",
      "        x_test[j] = getFeatures(test_dir + fileName)\n",
      "        j += 1"
     ],
     "language": "python",
     "metadata": {},
     "outputs": [
      {
       "output_type": "stream",
       "stream": "stdout",
       "text": [
        "Zero file-- C:\\Users\\E\\Desktop\\Zoology_kaggle\\test\\106639.jpg\n",
        "-1\n",
        "Zero file-- C:\\Users\\E\\Desktop\\Zoology_kaggle\\test\\107077.jpg"
       ]
      },
      {
       "output_type": "stream",
       "stream": "stdout",
       "text": [
        "\n",
        "-1\n",
        "Zero file-- C:\\Users\\E\\Desktop\\Zoology_kaggle\\test\\115589.jpg"
       ]
      },
      {
       "output_type": "stream",
       "stream": "stdout",
       "text": [
        "\n",
        "-1\n",
        "Zero file-- C:\\Users\\E\\Desktop\\Zoology_kaggle\\test\\11635.jpg"
       ]
      },
      {
       "output_type": "stream",
       "stream": "stdout",
       "text": [
        "\n",
        "-1\n",
        "Zero file-- C:\\Users\\E\\Desktop\\Zoology_kaggle\\test\\11899.jpg"
       ]
      },
      {
       "output_type": "stream",
       "stream": "stdout",
       "text": [
        "\n",
        "-1\n",
        "Zero file-- C:\\Users\\E\\Desktop\\Zoology_kaggle\\test\\130668.jpg"
       ]
      },
      {
       "output_type": "stream",
       "stream": "stdout",
       "text": [
        "\n",
        "-1\n",
        "Zero file-- C:\\Users\\E\\Desktop\\Zoology_kaggle\\test\\146391.jpg"
       ]
      },
      {
       "output_type": "stream",
       "stream": "stdout",
       "text": [
        "\n",
        "-1\n",
        "Zero file-- C:\\Users\\E\\Desktop\\Zoology_kaggle\\test\\155223.jpg"
       ]
      },
      {
       "output_type": "stream",
       "stream": "stdout",
       "text": [
        "\n",
        "-1\n",
        "Zero file-- C:\\Users\\E\\Desktop\\Zoology_kaggle\\test\\22303.jpg"
       ]
      },
      {
       "output_type": "stream",
       "stream": "stdout",
       "text": [
        "\n",
        "-1\n",
        "Zero file-- C:\\Users\\E\\Desktop\\Zoology_kaggle\\test\\30227.jpg"
       ]
      },
      {
       "output_type": "stream",
       "stream": "stdout",
       "text": [
        "\n",
        "-1\n",
        "Zero file-- C:\\Users\\E\\Desktop\\Zoology_kaggle\\test\\41912.jpg"
       ]
      },
      {
       "output_type": "stream",
       "stream": "stdout",
       "text": [
        "\n",
        "-1\n",
        "Zero file-- C:\\Users\\E\\Desktop\\Zoology_kaggle\\test\\4251.jpg"
       ]
      },
      {
       "output_type": "stream",
       "stream": "stdout",
       "text": [
        "\n",
        "-1\n",
        "Zero file-- C:\\Users\\E\\Desktop\\Zoology_kaggle\\test\\44301.jpg"
       ]
      },
      {
       "output_type": "stream",
       "stream": "stdout",
       "text": [
        "\n",
        "-1\n",
        "Zero file-- C:\\Users\\E\\Desktop\\Zoology_kaggle\\test\\44377.jpg"
       ]
      },
      {
       "output_type": "stream",
       "stream": "stdout",
       "text": [
        "\n",
        "-1\n",
        "Zero file-- C:\\Users\\E\\Desktop\\Zoology_kaggle\\test\\56857.jpg"
       ]
      },
      {
       "output_type": "stream",
       "stream": "stdout",
       "text": [
        "\n",
        "-1\n",
        "Zero file-- C:\\Users\\E\\Desktop\\Zoology_kaggle\\test\\57685.jpg"
       ]
      },
      {
       "output_type": "stream",
       "stream": "stdout",
       "text": [
        "\n",
        "-1\n",
        "Zero file-- C:\\Users\\E\\Desktop\\Zoology_kaggle\\test\\8561.jpg"
       ]
      },
      {
       "output_type": "stream",
       "stream": "stdout",
       "text": [
        "\n",
        "-1\n",
        "Zero file-- C:\\Users\\E\\Desktop\\Zoology_kaggle\\test\\95094.jpg"
       ]
      },
      {
       "output_type": "stream",
       "stream": "stdout",
       "text": [
        "\n",
        "-1\n",
        "Thumbs.db"
       ]
      },
      {
       "output_type": "stream",
       "stream": "stdout",
       "text": [
        "\n"
       ]
      }
     ],
     "prompt_number": 129
    },
    {
     "cell_type": "code",
     "collapsed": false,
     "input": [
      "#Test a random image to see the final plotting transformation.\n",
      "plt.imshow(reshape(x_test[-49000][-625::], (25,25)))"
     ],
     "language": "python",
     "metadata": {},
     "outputs": [
      {
       "metadata": {},
       "output_type": "pyout",
       "prompt_number": 154,
       "text": [
        "<matplotlib.image.AxesImage at 0x282f5748>"
       ]
      },
      {
       "metadata": {},
       "output_type": "display_data",
       "png": "[encoded data removed]",
       "text": [
        "<matplotlib.figure.Figure at 0x28338080>"
       ]
      }
     ],
     "prompt_number": 154
    },
    {
     "cell_type": "code",
     "collapsed": false,
     "input": [
      "feat_col_names = ['region_count', 'maxregion.area', 'maxregion.convex_area', 'maxregion.eccentricity', 'maxregion.equivalent_diameter',\n",
      "                  'maxregion.extent', 'maxregion.filled_area', 'maxregion.major_axis_length', 'maxregion.minor_axis_length', \n",
      "                  'maxregion.orientation', 'maxregion.perimeter', 'maxregion.solidity']\n",
      "for i in range(1,626):\n",
      "    feat_col_names.append(\"Pixel\" + str(i)) "
     ],
     "language": "python",
     "metadata": {},
     "outputs": [],
     "prompt_number": 173
    },
    {
     "cell_type": "code",
     "collapsed": false,
     "input": [
      "y_df = pd.DataFrame(y, index=files, columns=['label'])\n",
      "x_train_df = pd.DataFrame(x_train, index=files, columns=feat_col_names)\n",
      "x_test_df = pd.DataFrame(x_test, index=test_file_names, columns=feat_col_names)\n"
     ],
     "language": "python",
     "metadata": {},
     "outputs": [],
     "prompt_number": 174
    },
    {
     "cell_type": "code",
     "collapsed": false,
     "input": [
      "x_test_df[0:10]"
     ],
     "language": "python",
     "metadata": {},
     "outputs": [
      {
       "html": [
        "<div style=\"max-height:1000px;max-width:1500px;overflow:auto;\">\n",
        "<table border=\"1\" class=\"dataframe\">\n",
        "  <thead>\n",
        "    <tr style=\"text-align: right;\">\n",
        "      <th></th>\n",
        "      <th>region_count</th>\n",
        "      <th>maxregion.area</th>\n",
        "      <th>maxregion.convex_area</th>\n",
        "      <th>maxregion.eccentricity</th>\n",
        "      <th>maxregion.equivalent_diameter</th>\n",
        "      <th>maxregion.extent</th>\n",
        "      <th>maxregion.filled_area</th>\n",
        "      <th>maxregion.major_axis_length</th>\n",
        "      <th>maxregion.minor_axis_length</th>\n",
        "      <th>maxregion.orientation</th>\n",
        "      <th>...</th>\n",
        "      <th>Pixel616</th>\n",
        "      <th>Pixel617</th>\n",
        "      <th>Pixel618</th>\n",
        "      <th>Pixel619</th>\n",
        "      <th>Pixel620</th>\n",
        "      <th>Pixel621</th>\n",
        "      <th>Pixel622</th>\n",
        "      <th>Pixel623</th>\n",
        "      <th>Pixel624</th>\n",
        "      <th>Pixel625</th>\n",
        "    </tr>\n",
        "  </thead>\n",
        "  <tbody>\n",
        "    <tr>\n",
        "      <th>1.jpg</th>\n",
        "      <td> 3</td>\n",
        "      <td>  67</td>\n",
        "      <td>  78</td>\n",
        "      <td> 0.929881</td>\n",
        "      <td>  9.236182</td>\n",
        "      <td> 0.531746</td>\n",
        "      <td>  67</td>\n",
        "      <td> 15.410977</td>\n",
        "      <td>  5.669098</td>\n",
        "      <td>-1.187879</td>\n",
        "      <td>...</td>\n",
        "      <td> 0</td>\n",
        "      <td> 0</td>\n",
        "      <td> 0</td>\n",
        "      <td> 0</td>\n",
        "      <td> 0</td>\n",
        "      <td> 0</td>\n",
        "      <td> 0</td>\n",
        "      <td> 0</td>\n",
        "      <td> 0</td>\n",
        "      <td> 0</td>\n",
        "    </tr>\n",
        "    <tr>\n",
        "      <th>10.jpg</th>\n",
        "      <td> 3</td>\n",
        "      <td>  63</td>\n",
        "      <td> 100</td>\n",
        "      <td> 0.696829</td>\n",
        "      <td>  8.956232</td>\n",
        "      <td> 0.403846</td>\n",
        "      <td>  63</td>\n",
        "      <td> 14.347256</td>\n",
        "      <td> 10.290394</td>\n",
        "      <td> 0.605923</td>\n",
        "      <td>...</td>\n",
        "      <td> 0</td>\n",
        "      <td> 0</td>\n",
        "      <td> 0</td>\n",
        "      <td> 0</td>\n",
        "      <td> 0</td>\n",
        "      <td> 0</td>\n",
        "      <td> 0</td>\n",
        "      <td> 0</td>\n",
        "      <td> 0</td>\n",
        "      <td> 0</td>\n",
        "    </tr>\n",
        "    <tr>\n",
        "      <th>100.jpg</th>\n",
        "      <td> 1</td>\n",
        "      <td> 121</td>\n",
        "      <td> 287</td>\n",
        "      <td> 0.572063</td>\n",
        "      <td> 12.412171</td>\n",
        "      <td> 0.335180</td>\n",
        "      <td> 121</td>\n",
        "      <td> 23.792062</td>\n",
        "      <td> 19.514486</td>\n",
        "      <td> 0.835745</td>\n",
        "      <td>...</td>\n",
        "      <td> 0</td>\n",
        "      <td> 0</td>\n",
        "      <td> 0</td>\n",
        "      <td> 0</td>\n",
        "      <td> 0</td>\n",
        "      <td> 0</td>\n",
        "      <td> 0</td>\n",
        "      <td> 0</td>\n",
        "      <td> 0</td>\n",
        "      <td> 0</td>\n",
        "    </tr>\n",
        "    <tr>\n",
        "      <th>1000.jpg</th>\n",
        "      <td> 1</td>\n",
        "      <td>  57</td>\n",
        "      <td>  95</td>\n",
        "      <td> 0.776878</td>\n",
        "      <td>  8.519076</td>\n",
        "      <td> 0.339286</td>\n",
        "      <td>  57</td>\n",
        "      <td> 13.530474</td>\n",
        "      <td>  8.519480</td>\n",
        "      <td>-0.925803</td>\n",
        "      <td>...</td>\n",
        "      <td> 0</td>\n",
        "      <td> 0</td>\n",
        "      <td> 0</td>\n",
        "      <td> 0</td>\n",
        "      <td> 0</td>\n",
        "      <td> 0</td>\n",
        "      <td> 0</td>\n",
        "      <td> 0</td>\n",
        "      <td> 0</td>\n",
        "      <td> 0</td>\n",
        "    </tr>\n",
        "    <tr>\n",
        "      <th>10000.jpg</th>\n",
        "      <td> 1</td>\n",
        "      <td> 152</td>\n",
        "      <td> 164</td>\n",
        "      <td> 0.782944</td>\n",
        "      <td> 13.911593</td>\n",
        "      <td> 0.633333</td>\n",
        "      <td> 152</td>\n",
        "      <td> 17.750505</td>\n",
        "      <td> 11.042441</td>\n",
        "      <td> 0.863657</td>\n",
        "      <td>...</td>\n",
        "      <td> 0</td>\n",
        "      <td> 0</td>\n",
        "      <td> 0</td>\n",
        "      <td> 0</td>\n",
        "      <td> 0</td>\n",
        "      <td> 0</td>\n",
        "      <td> 0</td>\n",
        "      <td> 0</td>\n",
        "      <td> 0</td>\n",
        "      <td> 0</td>\n",
        "    </tr>\n",
        "    <tr>\n",
        "      <th>100000.jpg</th>\n",
        "      <td> 2</td>\n",
        "      <td> 113</td>\n",
        "      <td> 167</td>\n",
        "      <td> 0.855712</td>\n",
        "      <td> 11.994835</td>\n",
        "      <td> 0.470833</td>\n",
        "      <td> 117</td>\n",
        "      <td> 19.394147</td>\n",
        "      <td> 10.035533</td>\n",
        "      <td>-0.306400</td>\n",
        "      <td>...</td>\n",
        "      <td> 0</td>\n",
        "      <td> 0</td>\n",
        "      <td> 0</td>\n",
        "      <td> 0</td>\n",
        "      <td> 0</td>\n",
        "      <td> 0</td>\n",
        "      <td> 0</td>\n",
        "      <td> 0</td>\n",
        "      <td> 0</td>\n",
        "      <td> 0</td>\n",
        "    </tr>\n",
        "    <tr>\n",
        "      <th>100001.jpg</th>\n",
        "      <td> 3</td>\n",
        "      <td> 104</td>\n",
        "      <td> 190</td>\n",
        "      <td> 0.547407</td>\n",
        "      <td> 11.507255</td>\n",
        "      <td> 0.382353</td>\n",
        "      <td> 165</td>\n",
        "      <td> 18.211390</td>\n",
        "      <td> 15.240498</td>\n",
        "      <td>-1.067304</td>\n",
        "      <td>...</td>\n",
        "      <td> 0</td>\n",
        "      <td> 0</td>\n",
        "      <td> 0</td>\n",
        "      <td> 0</td>\n",
        "      <td> 0</td>\n",
        "      <td> 0</td>\n",
        "      <td> 0</td>\n",
        "      <td> 0</td>\n",
        "      <td> 0</td>\n",
        "      <td> 0</td>\n",
        "    </tr>\n",
        "    <tr>\n",
        "      <th>100002.jpg</th>\n",
        "      <td> 2</td>\n",
        "      <td>  95</td>\n",
        "      <td> 141</td>\n",
        "      <td> 0.594975</td>\n",
        "      <td> 10.998080</td>\n",
        "      <td> 0.562130</td>\n",
        "      <td> 137</td>\n",
        "      <td> 15.964783</td>\n",
        "      <td> 12.831606</td>\n",
        "      <td> 0.786282</td>\n",
        "      <td>...</td>\n",
        "      <td> 0</td>\n",
        "      <td> 0</td>\n",
        "      <td> 0</td>\n",
        "      <td> 0</td>\n",
        "      <td> 0</td>\n",
        "      <td> 0</td>\n",
        "      <td> 0</td>\n",
        "      <td> 0</td>\n",
        "      <td> 0</td>\n",
        "      <td> 0</td>\n",
        "    </tr>\n",
        "    <tr>\n",
        "      <th>100003.jpg</th>\n",
        "      <td> 1</td>\n",
        "      <td> 131</td>\n",
        "      <td> 145</td>\n",
        "      <td> 0.744768</td>\n",
        "      <td> 12.914890</td>\n",
        "      <td> 0.727778</td>\n",
        "      <td> 131</td>\n",
        "      <td> 15.961888</td>\n",
        "      <td> 10.651742</td>\n",
        "      <td> 0.521564</td>\n",
        "      <td>...</td>\n",
        "      <td> 0</td>\n",
        "      <td> 0</td>\n",
        "      <td> 0</td>\n",
        "      <td> 0</td>\n",
        "      <td> 0</td>\n",
        "      <td> 0</td>\n",
        "      <td> 0</td>\n",
        "      <td> 0</td>\n",
        "      <td> 0</td>\n",
        "      <td> 0</td>\n",
        "    </tr>\n",
        "    <tr>\n",
        "      <th>100004.jpg</th>\n",
        "      <td> 6</td>\n",
        "      <td>  68</td>\n",
        "      <td> 133</td>\n",
        "      <td> 0.945002</td>\n",
        "      <td>  9.304853</td>\n",
        "      <td> 0.298246</td>\n",
        "      <td>  68</td>\n",
        "      <td> 21.612776</td>\n",
        "      <td>  7.068769</td>\n",
        "      <td>-1.014269</td>\n",
        "      <td>...</td>\n",
        "      <td> 0</td>\n",
        "      <td> 0</td>\n",
        "      <td> 0</td>\n",
        "      <td> 0</td>\n",
        "      <td> 0</td>\n",
        "      <td> 0</td>\n",
        "      <td> 0</td>\n",
        "      <td> 0</td>\n",
        "      <td> 0</td>\n",
        "      <td> 0</td>\n",
        "    </tr>\n",
        "  </tbody>\n",
        "</table>\n",
        "<p>10 rows \u00d7 637 columns</p>\n",
        "</div>"
       ],
       "metadata": {},
       "output_type": "pyout",
       "prompt_number": 176,
       "text": [
        "            region_count  maxregion.area  maxregion.convex_area  \\\n",
        "1.jpg                  3              67                     78   \n",
        "10.jpg                 3              63                    100   \n",
        "100.jpg                1             121                    287   \n",
        "1000.jpg               1              57                     95   \n",
        "10000.jpg              1             152                    164   \n",
        "100000.jpg             2             113                    167   \n",
        "100001.jpg             3             104                    190   \n",
        "100002.jpg             2              95                    141   \n",
        "100003.jpg             1             131                    145   \n",
        "100004.jpg             6              68                    133   \n",
        "\n",
        "            maxregion.eccentricity  maxregion.equivalent_diameter  \\\n",
        "1.jpg                     0.929881                       9.236182   \n",
        "10.jpg                    0.696829                       8.956232   \n",
        "100.jpg                   0.572063                      12.412171   \n",
        "1000.jpg                  0.776878                       8.519076   \n",
        "10000.jpg                 0.782944                      13.911593   \n",
        "100000.jpg                0.855712                      11.994835   \n",
        "100001.jpg                0.547407                      11.507255   \n",
        "100002.jpg                0.594975                      10.998080   \n",
        "100003.jpg                0.744768                      12.914890   \n",
        "100004.jpg                0.945002                       9.304853   \n",
        "\n",
        "            maxregion.extent  maxregion.filled_area  \\\n",
        "1.jpg               0.531746                     67   \n",
        "10.jpg              0.403846                     63   \n",
        "100.jpg             0.335180                    121   \n",
        "1000.jpg            0.339286                     57   \n",
        "10000.jpg           0.633333                    152   \n",
        "100000.jpg          0.470833                    117   \n",
        "100001.jpg          0.382353                    165   \n",
        "100002.jpg          0.562130                    137   \n",
        "100003.jpg          0.727778                    131   \n",
        "100004.jpg          0.298246                     68   \n",
        "\n",
        "            maxregion.major_axis_length  maxregion.minor_axis_length  \\\n",
        "1.jpg                         15.410977                     5.669098   \n",
        "10.jpg                        14.347256                    10.290394   \n",
        "100.jpg                       23.792062                    19.514486   \n",
        "1000.jpg                      13.530474                     8.519480   \n",
        "10000.jpg                     17.750505                    11.042441   \n",
        "100000.jpg                    19.394147                    10.035533   \n",
        "100001.jpg                    18.211390                    15.240498   \n",
        "100002.jpg                    15.964783                    12.831606   \n",
        "100003.jpg                    15.961888                    10.651742   \n",
        "100004.jpg                    21.612776                     7.068769   \n",
        "\n",
        "            maxregion.orientation          ...            Pixel616  Pixel617  \\\n",
        "1.jpg                   -1.187879          ...                   0         0   \n",
        "10.jpg                   0.605923          ...                   0         0   \n",
        "100.jpg                  0.835745          ...                   0         0   \n",
        "1000.jpg                -0.925803          ...                   0         0   \n",
        "10000.jpg                0.863657          ...                   0         0   \n",
        "100000.jpg              -0.306400          ...                   0         0   \n",
        "100001.jpg              -1.067304          ...                   0         0   \n",
        "100002.jpg               0.786282          ...                   0         0   \n",
        "100003.jpg               0.521564          ...                   0         0   \n",
        "100004.jpg              -1.014269          ...                   0         0   \n",
        "\n",
        "            Pixel618  Pixel619  Pixel620  Pixel621  Pixel622  Pixel623  \\\n",
        "1.jpg              0         0         0         0         0         0   \n",
        "10.jpg             0         0         0         0         0         0   \n",
        "100.jpg            0         0         0         0         0         0   \n",
        "1000.jpg           0         0         0         0         0         0   \n",
        "10000.jpg          0         0         0         0         0         0   \n",
        "100000.jpg         0         0         0         0         0         0   \n",
        "100001.jpg         0         0         0         0         0         0   \n",
        "100002.jpg         0         0         0         0         0         0   \n",
        "100003.jpg         0         0         0         0         0         0   \n",
        "100004.jpg         0         0         0         0         0         0   \n",
        "\n",
        "            Pixel624  Pixel625  \n",
        "1.jpg              0         0  \n",
        "10.jpg             0         0  \n",
        "100.jpg            0         0  \n",
        "1000.jpg           0         0  \n",
        "10000.jpg          0         0  \n",
        "100000.jpg         0         0  \n",
        "100001.jpg         0         0  \n",
        "100002.jpg         0         0  \n",
        "100003.jpg         0         0  \n",
        "100004.jpg         0         0  \n",
        "\n",
        "[10 rows x 637 columns]"
       ]
      }
     ],
     "prompt_number": 176
    },
    {
     "cell_type": "code",
     "collapsed": false,
     "input": [
      "#Write to csv files.  This is in the windows filesystem.\n",
      "y_df.to_csv('C:\\\\Users\\\\E\\\\Desktop\\\\Zoology_kaggle\\\\y_train_df.csv')\n",
      "x_train_df.to_csv('C:\\\\Users\\\\E\\\\Desktop\\\\Zoology_kaggle\\\\x_train_df.csv')\n",
      "x_test_df.to_csv('C:\\\\Users\\\\E\\\\Desktop\\\\Zoology_kaggle\\\\x_test_df.csv')"
     ],
     "language": "python",
     "metadata": {},
     "outputs": [],
     "prompt_number": 180
    },
    {
     "cell_type": "code",
     "collapsed": false,
     "input": [
      "names_out = [i.split('\\\\')[6] for i in namesClasses ]\n"
     ],
     "language": "python",
     "metadata": {},
     "outputs": [],
     "prompt_number": 11
    },
    {
     "cell_type": "code",
     "collapsed": false,
     "input": [
      "pickle.dump(names_out, open('C:\\\\Users\\\\E\\\\Desktop\\\\Zoology_kaggle\\\\names.csv', 'w'))"
     ],
     "language": "python",
     "metadata": {},
     "outputs": [],
     "prompt_number": 23
    },
    {
     "cell_type": "code",
     "collapsed": false,
     "input": [
      "tester = pickle.load(open('C:\\\\Users\\\\E\\\\Desktop\\\\Zoology_kaggle\\\\names.csv', 'r'))"
     ],
     "language": "python",
     "metadata": {},
     "outputs": [],
     "prompt_number": 24
    },
    {
     "cell_type": "code",
     "collapsed": false,
     "input": [
      "tester"
     ],
     "language": "python",
     "metadata": {},
     "outputs": [
      {
       "metadata": {},
       "output_type": "pyout",
       "prompt_number": 25,
       "text": [
        "['copepod_calanoid_small_longantennae',\n",
        " 'appendicularian_fritillaridae',\n",
        " 'siphonophore_other_parts',\n",
        " 'appendicularian_straight',\n",
        " 'echinoderm_larva_pluteus_early',\n",
        " 'hydromedusae_shapeA_sideview_small',\n",
        " 'hydromedusae_liriope',\n",
        " 'chaetognath_sagitta',\n",
        " 'heteropod',\n",
        " 'chaetognath_non_sagitta',\n",
        " 'diatom_chain_string',\n",
        " 'copepod_calanoid',\n",
        " 'artifacts',\n",
        " 'amphipods',\n",
        " 'copepod_calanoid_large',\n",
        " 'copepod_calanoid_large_side_antennatucked',\n",
        " 'ctenophore_cestid',\n",
        " 'pteropod_theco_dev_seq',\n",
        " 'siphonophore_calycophoran_rocketship_young',\n",
        " 'shrimp_sergestidae',\n",
        " 'decapods',\n",
        " 'echinopluteus',\n",
        " 'hydromedusae_bell_and_tentacles',\n",
        " 'hydromedusae_narco_dark',\n",
        " 'hydromedusae_haliscera_small_sideview',\n",
        " 'unknown_unclassified',\n",
        " 'pteropod_triangle',\n",
        " 'hydromedusae_other',\n",
        " 'hydromedusae_aglaura',\n",
        " 'invertebrate_larvae_other_A',\n",
        " 'invertebrate_larvae_other_B',\n",
        " 'siphonophore_calycophoran_abylidae',\n",
        " 'echinoderm_larva_pluteus_typeC',\n",
        " 'hydromedusae_sideview_big',\n",
        " 'fish_larvae_myctophids',\n",
        " 'fish_larvae_leptocephali',\n",
        " 'hydromedusae_solmaris',\n",
        " 'euphausiids',\n",
        " 'echinoderm_larva_pluteus_urchin',\n",
        " 'acantharia_protist_big_center',\n",
        " 'crustacean_other',\n",
        " 'siphonophore_calycophoran_rocketship_adult',\n",
        " 'echinoderm_larva_pluteus_brittlestar',\n",
        " 'artifacts_edge',\n",
        " 'copepod_calanoid_flatheads',\n",
        " 'siphonophore_physonect',\n",
        " 'hydromedusae_narco_young',\n",
        " 'stomatopod',\n",
        " 'unknown_sticks',\n",
        " 'copepod_cyclopoid_oithona',\n",
        " 'echinoderm_larva_seastar_brachiolaria',\n",
        " 'hydromedusae_h15',\n",
        " 'copepod_calanoid_frillyAntennae',\n",
        " 'protist_other',\n",
        " 'copepod_calanoid_eucalanus',\n",
        " 'fish_larvae_deep_body',\n",
        " 'copepod_cyclopoid_copilia',\n",
        " 'protist_fuzzy_olive',\n",
        " 'appendicularian_s_shape',\n",
        " 'polychaete',\n",
        " 'tunicate_doliolid',\n",
        " 'trichodesmium_tuft',\n",
        " 'diatom_chain_tube',\n",
        " 'echinoderm_seacucumber_auricularia_larva',\n",
        " 'ctenophore_cydippid_no_tentacles',\n",
        " 'hydromedusae_narcomedusae',\n",
        " 'jellies_tentacles',\n",
        " 'tunicate_salp',\n",
        " 'hydromedusae_solmundella',\n",
        " 'protist_star',\n",
        " 'pteropod_butterfly',\n",
        " 'siphonophore_physonect_young',\n",
        " 'echinoderm_larva_seastar_bipinnaria',\n",
        " 'protist_noctiluca',\n",
        " 'radiolarian_colony',\n",
        " 'hydromedusae_haliscera',\n",
        " 'hydromedusae_partial_dark',\n",
        " 'fish_larvae_thin_body',\n",
        " 'fish_larvae_very_thin_body',\n",
        " 'detritus_blob',\n",
        " 'hydromedusae_typeF',\n",
        " 'copepod_calanoid_eggs',\n",
        " 'hydromedusae_typeD',\n",
        " 'hydromedusae_typeE',\n",
        " 'tornaria_acorn_worm_larvae',\n",
        " 'detritus_other',\n",
        " 'tunicate_partial',\n",
        " 'shrimp_zoea',\n",
        " 'hydromedusae_typeD_bell_and_tentacles',\n",
        " 'fecal_pellet',\n",
        " 'ephyra',\n",
        " 'tunicate_doliolid_nurse',\n",
        " 'euphausiids_young',\n",
        " 'hydromedusae_shapeB',\n",
        " 'hydromedusae_shapeA',\n",
        " 'copepod_cyclopoid_oithona_eggs',\n",
        " 'unknown_blobs_and_smudges',\n",
        " 'fish_larvae_medium_body',\n",
        " 'siphonophore_calycophoran_sphaeronectes_young',\n",
        " 'radiolarian_chain',\n",
        " 'acantharia_protist_halo',\n",
        " 'shrimp-like_other',\n",
        " 'trochophore_larvae',\n",
        " 'shrimp_caridean',\n",
        " 'siphonophore_calycophoran_sphaeronectes',\n",
        " 'tunicate_salp_chains',\n",
        " 'ctenophore_cydippid_tentacles',\n",
        " 'appendicularian_slight_curve',\n",
        " 'chaetognath_other',\n",
        " 'trichodesmium_bowtie',\n",
        " 'siphonophore_calycophoran_sphaeronectes_stem',\n",
        " 'chordate_type1',\n",
        " 'detritus_filamentous',\n",
        " 'copepod_calanoid_octomoms',\n",
        " 'siphonophore_partial',\n",
        " 'ctenophore_lobate',\n",
        " 'copepod_other',\n",
        " 'protist_dark_center',\n",
        " 'acantharia_protist',\n",
        " 'trichodesmium_puff',\n",
        " 'trichodesmium_multiple']"
       ]
      }
     ],
     "prompt_number": 25
    },
    {
     "cell_type": "code",
     "collapsed": false,
     "input": [],
     "language": "python",
     "metadata": {},
     "outputs": []
    }
   ],
   "metadata": {}
  }
 ]
}