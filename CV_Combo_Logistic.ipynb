{
 "metadata": {
  "name": "",
  "signature": "sha256:829de39a07db7a462bf7e7c38ba2c836563fa60c8241ff114d075df4788b1de4"
 },
 "nbformat": 3,
 "nbformat_minor": 0,
 "worksheets": [
  {
   "cells": [
    {
     "cell_type": "code",
     "collapsed": false,
     "input": [
      "import pandas as pd\n",
      "import numpy as np\n",
      "from sklearn import cross_validation\n",
      "import pylab as plt\n",
      "from sklearn.ensemble import RandomForestClassifier\n",
      "from sklearn.linear_model import LogisticRegression\n",
      "from sklearn.ensemble import AdaBoostClassifier\n",
      "from sklearn.tree import DecisionTreeClassifier\n",
      "from sklearn.naive_bayes import MultinomialNB\n",
      "from sklearn.preprocessing import StandardScaler\n",
      "from sklearn.cross_validation import StratifiedKFold\n",
      "from sklearn.metrics import classification_report\n",
      "import gc\n",
      "import pickle\n",
      "import math\n",
      "from sklearn.cross_validation import StratifiedKFold as KFold\n",
      "%matplotlib"
     ],
     "language": "python",
     "metadata": {},
     "outputs": [
      {
       "output_type": "stream",
       "stream": "stdout",
       "text": [
        "Using matplotlib backend: Qt4Agg\n"
       ]
      }
     ],
     "prompt_number": 1
    },
    {
     "cell_type": "code",
     "collapsed": false,
     "input": [
      "#Write to csv files.  This is in the windows filesystem.\n",
      "y_train_df = pd.read_csv('C:\\\\Users\\\\E\\\\Desktop\\\\Zoology_kaggle\\\\y_train_df.csv', index_col=0)\n",
      "x_train_df = pd.read_csv('C:\\\\Users\\\\E\\\\Desktop\\\\Zoology_kaggle\\\\x_train_df.csv', index_col=0)\n",
      "x_train_hu_df = pd.read_csv('C:\\\\Users\\\\E\\\\Desktop\\\\Zoology_kaggle\\\\x_train_hu_big_df.csv', index_col=0)\n",
      "x_total = pd.concat([x_train_hu_df, x_train_df], axis=1).iloc[:,:48]"
     ],
     "language": "python",
     "metadata": {},
     "outputs": [],
     "prompt_number": 2
    },
    {
     "cell_type": "code",
     "collapsed": false,
     "input": [
      "X_train, X_test, y_train, y_test = cross_validation.train_test_split(x_train_hu_df, y_train_df, test_size=0.5, random_state=10)"
     ],
     "language": "python",
     "metadata": {},
     "outputs": [],
     "prompt_number": 24
    },
    {
     "cell_type": "code",
     "collapsed": false,
     "input": [
      "X_test.shape"
     ],
     "language": "python",
     "metadata": {},
     "outputs": [
      {
       "metadata": {},
       "output_type": "pyout",
       "prompt_number": 25,
       "text": [
        "(15167L, 36L)"
       ]
      }
     ],
     "prompt_number": 25
    },
    {
     "cell_type": "code",
     "collapsed": false,
     "input": [
      "X_train.shape"
     ],
     "language": "python",
     "metadata": {},
     "outputs": [
      {
       "metadata": {},
       "output_type": "pyout",
       "prompt_number": 26,
       "text": [
        "(15167L, 36L)"
       ]
      }
     ],
     "prompt_number": 26
    },
    {
     "cell_type": "code",
     "collapsed": false,
     "input": [
      "clf_ADA = AdaBoostClassifier(DecisionTreeClassifier(max_depth=16), n_estimators=100, learning_rate=.125)\n",
      "clf_RF = RandomForestClassifier(n_estimators=200, n_jobs=2)"
     ],
     "language": "python",
     "metadata": {},
     "outputs": [],
     "prompt_number": 28
    },
    {
     "cell_type": "code",
     "collapsed": false,
     "input": [
      "clf_ADA.fit(X_train, np.ravel(y_train))\n",
      "clf_RF.fit(X_train, np.ravel(y_train))"
     ],
     "language": "python",
     "metadata": {},
     "outputs": [
      {
       "metadata": {},
       "output_type": "pyout",
       "prompt_number": 29,
       "text": [
        "RandomForestClassifier(bootstrap=True, compute_importances=None,\n",
        "            criterion='gini', max_depth=None, max_features='auto',\n",
        "            max_leaf_nodes=None, min_density=None, min_samples_leaf=1,\n",
        "            min_samples_split=2, n_estimators=200, n_jobs=2,\n",
        "            oob_score=False, random_state=None, verbose=0)"
       ]
      }
     ],
     "prompt_number": 29
    },
    {
     "cell_type": "code",
     "collapsed": false,
     "input": [
      "print clf_ADA.score(X_test, y_test)\n",
      "print clf_RF.score(X_test, y_test)"
     ],
     "language": "python",
     "metadata": {},
     "outputs": [
      {
       "output_type": "stream",
       "stream": "stdout",
       "text": [
        "0.532142150722\n",
        "0.530559767917"
       ]
      },
      {
       "output_type": "stream",
       "stream": "stdout",
       "text": [
        "\n"
       ]
      }
     ],
     "prompt_number": 109
    },
    {
     "cell_type": "code",
     "collapsed": false,
     "input": [
      "prob_ADA = clf_ADA.predict_proba(X_test)\n",
      "prob_RF = clf_ADA.predict_proba(X_test)"
     ],
     "language": "python",
     "metadata": {},
     "outputs": [],
     "prompt_number": 110
    },
    {
     "cell_type": "code",
     "collapsed": false,
     "input": [
      "x_prob_train = np.concatenate([prob_ADA, prob_RF], axis=1)\n",
      "x_prob_train.shape"
     ],
     "language": "python",
     "metadata": {},
     "outputs": [
      {
       "metadata": {},
       "output_type": "pyout",
       "prompt_number": 111,
       "text": [
        "(15167L, 242L)"
       ]
      }
     ],
     "prompt_number": 111
    },
    {
     "cell_type": "code",
     "collapsed": false,
     "input": [
      "X_train_p, X_test_p, y_train_p, y_test_p = cross_validation.train_test_split(x_prob_train, y_test, test_size=0.15, random_state=10)"
     ],
     "language": "python",
     "metadata": {},
     "outputs": [],
     "prompt_number": 112
    },
    {
     "cell_type": "code",
     "collapsed": false,
     "input": [
      "print X_train_p.shape\n",
      "print X_test_p.shape"
     ],
     "language": "python",
     "metadata": {},
     "outputs": [
      {
       "output_type": "stream",
       "stream": "stdout",
       "text": [
        "(12891L, 242L)\n",
        "(2276L, 242L)\n"
       ]
      }
     ],
     "prompt_number": 113
    },
    {
     "cell_type": "code",
     "collapsed": false,
     "input": [
      "clf_logistic = LogisticRegression(penalty='l2', class_weight='auto', fit_intercept=True, C=1.5)"
     ],
     "language": "python",
     "metadata": {},
     "outputs": [],
     "prompt_number": 114
    },
    {
     "cell_type": "code",
     "collapsed": false,
     "input": [
      "clf_logistic.fit(X_train_p, np.ravel(y_train_p))"
     ],
     "language": "python",
     "metadata": {},
     "outputs": [
      {
       "metadata": {},
       "output_type": "pyout",
       "prompt_number": 115,
       "text": [
        "LogisticRegression(C=1.5, class_weight='auto', dual=False, fit_intercept=True,\n",
        "          intercept_scaling=1, penalty='l2', random_state=None, tol=0.0001)"
       ]
      }
     ],
     "prompt_number": 115
    },
    {
     "cell_type": "code",
     "collapsed": false,
     "input": [
      "clf_logistic.score(X_test_p, np.ravel(y_test_p))"
     ],
     "language": "python",
     "metadata": {},
     "outputs": [
      {
       "metadata": {},
       "output_type": "pyout",
       "prompt_number": 116,
       "text": [
        "0.52504393673110716"
       ]
      }
     ],
     "prompt_number": 116
    },
    {
     "cell_type": "code",
     "collapsed": false,
     "input": [
      "results = clf_logistic.predict_proba(X_test_p)"
     ],
     "language": "python",
     "metadata": {},
     "outputs": [],
     "prompt_number": 117
    },
    {
     "cell_type": "code",
     "collapsed": false,
     "input": [
      "sum(results[6])"
     ],
     "language": "python",
     "metadata": {},
     "outputs": [
      {
       "metadata": {},
       "output_type": "pyout",
       "prompt_number": 118,
       "text": [
        "1.0000000000000004"
       ]
      }
     ],
     "prompt_number": 118
    },
    {
     "cell_type": "code",
     "collapsed": false,
     "input": [
      "#results_ADA = clf_ADA.predict_proba(X_test)\n",
      "#results_RF = clf_RF.predict_proba(X_test)\n",
      "#print clf_ADA.score(X_test, y_test)\n",
      "#print clf_RF.score(X_test, y_test)"
     ],
     "language": "python",
     "metadata": {},
     "outputs": [],
     "prompt_number": 119
    },
    {
     "cell_type": "code",
     "collapsed": false,
     "input": [
      "#ada_weight = .52\n",
      "#rf_weight = 1 - ada_weight\n",
      "#results = ada_weight*results_ADA + rf_weight*results_RF\n",
      "#sum(results[0])"
     ],
     "language": "python",
     "metadata": {},
     "outputs": [],
     "prompt_number": 120
    },
    {
     "cell_type": "code",
     "collapsed": false,
     "input": [
      "#mix_weight = 1\n",
      "#uniform_weight = 1- mix_weight\n",
      "#results_uniform = results*mix_weight + np.ones(results.shape)*(1.0/121)*uniform_weight\n",
      "#sum(results_uniform[0])"
     ],
     "language": "python",
     "metadata": {},
     "outputs": [],
     "prompt_number": 121
    },
    {
     "cell_type": "code",
     "collapsed": false,
     "input": [
      "results_predicted = [results[i,int(y_test[i])] for i in xrange(len(results))]"
     ],
     "language": "python",
     "metadata": {},
     "outputs": [],
     "prompt_number": 122
    },
    {
     "cell_type": "code",
     "collapsed": false,
     "input": [
      "np.mean(np.log(results_predicted))"
     ],
     "language": "python",
     "metadata": {},
     "outputs": [
      {
       "metadata": {},
       "output_type": "pyout",
       "prompt_number": 123,
       "text": [
        "-5.4755007959219002"
       ]
      }
     ],
     "prompt_number": 123
    },
    {
     "cell_type": "code",
     "collapsed": false,
     "input": [
      "plt.hist(np.log(results_predicted), bins=100)"
     ],
     "language": "python",
     "metadata": {},
     "outputs": [
      {
       "metadata": {},
       "output_type": "pyout",
       "prompt_number": 124,
       "text": [
        "(array([  15.,   14.,   17.,   26.,   44.,   28.,   26.,   29.,   22.,\n",
        "          33.,   36.,   41.,   52.,   52.,   48.,   44.,   60.,   71.,\n",
        "          71.,   82.,   83.,   86.,   98.,  101.,   90.,   99.,   95.,\n",
        "          79.,   66.,   54.,   49.,   64.,   69.,   59.,   51.,   45.,\n",
        "          40.,   31.,   25.,   15.,   18.,   10.,   10.,    6.,    7.,\n",
        "           6.,    5.,    8.,    5.,    9.,    6.,    2.,    2.,    3.,\n",
        "           2.,    3.,    2.,    3.,    2.,    1.,    4.,    1.,    2.,\n",
        "           2.,    0.,    1.,    1.,    1.,    0.,    2.,    1.,    2.,\n",
        "           0.,    0.,    0.,    0.,    0.,    0.,    1.,    3.,    0.,\n",
        "           1.,    0.,    1.,    2.,    0.,    0.,    0.,    2.,    0.,\n",
        "           0.,    2.,    1.,    1.,    2.,    9.,    0.,    2.,    2.,   10.]),\n",
        " array([-7.19792917, -7.12825948, -7.05858979, -6.98892009, -6.9192504 ,\n",
        "        -6.84958071, -6.77991101, -6.71024132, -6.64057163, -6.57090194,\n",
        "        -6.50123224, -6.43156255, -6.36189286, -6.29222316, -6.22255347,\n",
        "        -6.15288378, -6.08321408, -6.01354439, -5.9438747 , -5.874205  ,\n",
        "        -5.80453531, -5.73486562, -5.66519592, -5.59552623, -5.52585654,\n",
        "        -5.45618685, -5.38651715, -5.31684746, -5.24717777, -5.17750807,\n",
        "        -5.10783838, -5.03816869, -4.96849899, -4.8988293 , -4.82915961,\n",
        "        -4.75948991, -4.68982022, -4.62015053, -4.55048083, -4.48081114,\n",
        "        -4.41114145, -4.34147176, -4.27180206, -4.20213237, -4.13246268,\n",
        "        -4.06279298, -3.99312329, -3.9234536 , -3.8537839 , -3.78411421,\n",
        "        -3.71444452, -3.64477482, -3.57510513, -3.50543544, -3.43576574,\n",
        "        -3.36609605, -3.29642636, -3.22675666, -3.15708697, -3.08741728,\n",
        "        -3.01774759, -2.94807789, -2.8784082 , -2.80873851, -2.73906881,\n",
        "        -2.66939912, -2.59972943, -2.53005973, -2.46039004, -2.39072035,\n",
        "        -2.32105065, -2.25138096, -2.18171127, -2.11204157, -2.04237188,\n",
        "        -1.97270219, -1.9030325 , -1.8333628 , -1.76369311, -1.69402342,\n",
        "        -1.62435372, -1.55468403, -1.48501434, -1.41534464, -1.34567495,\n",
        "        -1.27600526, -1.20633556, -1.13666587, -1.06699618, -0.99732648,\n",
        "        -0.92765679, -0.8579871 , -0.78831741, -0.71864771, -0.64897802,\n",
        "        -0.57930833, -0.50963863, -0.43996894, -0.37029925, -0.30062955,\n",
        "        -0.23095986]),\n",
        " <a list of 100 Patch objects>)"
       ]
      }
     ],
     "prompt_number": 124
    },
    {
     "cell_type": "code",
     "collapsed": false,
     "input": [
      "plt.plot(clf_logistic.coef_[0])"
     ],
     "language": "python",
     "metadata": {},
     "outputs": [
      {
       "metadata": {},
       "output_type": "pyout",
       "prompt_number": 125,
       "text": [
        "[<matplotlib.lines.Line2D at 0x1bebbe10>]"
       ]
      }
     ],
     "prompt_number": 125
    },
    {
     "cell_type": "code",
     "collapsed": false,
     "input": [],
     "language": "python",
     "metadata": {},
     "outputs": []
    }
   ],
   "metadata": {}
  }
 ]
}