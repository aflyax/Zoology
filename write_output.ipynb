{
 "metadata": {
  "name": "",
  "signature": "sha256:0a26ce3a1bdbbd76e9cdd0f08e590db2c46b47c0ca288a176a8d8a209128fc2a"
 },
 "nbformat": 3,
 "nbformat_minor": 0,
 "worksheets": [
  {
   "cells": [
    {
     "cell_type": "code",
     "collapsed": false,
     "input": [
      "import pandas as pd\n",
      "import numpy as np\n",
      "from sklearn import cross_validation\n",
      "import pylab as plt\n",
      "from sklearn.ensemble import RandomForestClassifier\n",
      "from sklearn.ensemble import AdaBoostClassifier\n",
      "from sklearn.tree import DecisionTreeClassifier\n",
      "import gc\n",
      "import pickle\n",
      "%matplotlib"
     ],
     "language": "python",
     "metadata": {},
     "outputs": [
      {
       "output_type": "stream",
       "stream": "stdout",
       "text": [
        "Using matplotlib backend: Qt4Agg\n"
       ]
      }
     ],
     "prompt_number": 1
    },
    {
     "cell_type": "code",
     "collapsed": false,
     "input": [
      "#Write to csv files.  This is in the windows filesystem.\n",
      "y_train_df = pd.read_csv('C:\\\\Users\\\\E\\\\Desktop\\\\Zoology_kaggle\\\\y_train_df.csv', index_col=0)\n",
      "x_train_df = pd.read_csv('C:\\\\Users\\\\E\\\\Desktop\\\\Zoology_kaggle\\\\x_train_hu_facs_df.csv', index_col=0)\n",
      "x_test_df = pd.read_csv('C:\\\\Users\\\\E\\\\Desktop\\\\Zoology_kaggle\\\\x_test_hu_facs_df.csv', index_col=0)\n",
      "x_index = pd.read_csv('C:\\\\Users\\\\E\\\\Desktop\\\\Zoology_kaggle\\\\x_test_hu_big_df.csv', index_col=0)"
     ],
     "language": "python",
     "metadata": {},
     "outputs": [],
     "prompt_number": 23
    },
    {
     "cell_type": "code",
     "collapsed": false,
     "input": [
      "clf_RF = RandomForestClassifier(n_estimators=200, oob_score=True, n_jobs=2)\n",
      "clf_ADA = AdaBoostClassifier(DecisionTreeClassifier(max_depth=16), n_estimators=100, learning_rate=.125)"
     ],
     "language": "python",
     "metadata": {},
     "outputs": [],
     "prompt_number": 6
    },
    {
     "cell_type": "code",
     "collapsed": false,
     "input": [
      "clf_RF.fit(x_train_df, np.ravel(y_train_df))\n",
      "clf_ADA.fit(x_train_df, np.ravel(y_train_df))"
     ],
     "language": "python",
     "metadata": {},
     "outputs": [
      {
       "metadata": {},
       "output_type": "pyout",
       "prompt_number": 7,
       "text": [
        "AdaBoostClassifier(algorithm='SAMME.R',\n",
        "          base_estimator=DecisionTreeClassifier(compute_importances=None, criterion='gini',\n",
        "            max_depth=16, max_features=None, max_leaf_nodes=None,\n",
        "            min_density=None, min_samples_leaf=1, min_samples_split=2,\n",
        "            random_state=None, splitter='best'),\n",
        "          learning_rate=0.125, n_estimators=100, random_state=None)"
       ]
      }
     ],
     "prompt_number": 7
    },
    {
     "cell_type": "code",
     "collapsed": false,
     "input": [
      "result_RF = clf_RF.predict_proba(x_test_df)\n",
      "results_ADA = clf_ADA.predict_proba(x_test_df)"
     ],
     "language": "python",
     "metadata": {},
     "outputs": [],
     "prompt_number": 9
    },
    {
     "cell_type": "code",
     "collapsed": false,
     "input": [
      "print result_RF.shape\n",
      "print results_ADA.shape"
     ],
     "language": "python",
     "metadata": {},
     "outputs": [
      {
       "output_type": "stream",
       "stream": "stdout",
       "text": [
        "(130400L, 121L)\n",
        "(130400L, 121L)\n"
       ]
      }
     ],
     "prompt_number": 13
    },
    {
     "cell_type": "code",
     "collapsed": false,
     "input": [
      "results_towrite = result_RF + results_ADA\n",
      "#results_towrite = results_ADA"
     ],
     "language": "python",
     "metadata": {},
     "outputs": [],
     "prompt_number": 14
    },
    {
     "cell_type": "code",
     "collapsed": false,
     "input": [
      "plt.plot(results_towrite[0])"
     ],
     "language": "python",
     "metadata": {},
     "outputs": [
      {
       "metadata": {},
       "output_type": "pyout",
       "prompt_number": 15,
       "text": [
        "[<matplotlib.lines.Line2D at 0x1b437e10>]"
       ]
      }
     ],
     "prompt_number": 15
    },
    {
     "cell_type": "code",
     "collapsed": false,
     "input": [
      "names = pickle.load(open('C:\\\\Users\\\\E\\\\Desktop\\\\Zoology_kaggle\\\\names.csv', 'r'))\n",
      "names[0:10]"
     ],
     "language": "python",
     "metadata": {},
     "outputs": [
      {
       "metadata": {},
       "output_type": "pyout",
       "prompt_number": 20,
       "text": [
        "['copepod_calanoid_small_longantennae',\n",
        " 'appendicularian_fritillaridae',\n",
        " 'siphonophore_other_parts',\n",
        " 'appendicularian_straight',\n",
        " 'echinoderm_larva_pluteus_early',\n",
        " 'hydromedusae_shapeA_sideview_small',\n",
        " 'hydromedusae_liriope',\n",
        " 'chaetognath_sagitta',\n",
        " 'heteropod',\n",
        " 'chaetognath_non_sagitta']"
       ]
      }
     ],
     "prompt_number": 20
    },
    {
     "cell_type": "code",
     "collapsed": false,
     "input": [
      "output_df = pd.DataFrame(results_towrite, index=x_index.index, columns=names)\n",
      "output_df.index.name = 'image'"
     ],
     "language": "python",
     "metadata": {},
     "outputs": [],
     "prompt_number": 24
    },
    {
     "cell_type": "code",
     "collapsed": false,
     "input": [
      "output_df[0:2]"
     ],
     "language": "python",
     "metadata": {},
     "outputs": [
      {
       "html": [
        "<div style=\"max-height:1000px;max-width:1500px;overflow:auto;\">\n",
        "<table border=\"1\" class=\"dataframe\">\n",
        "  <thead>\n",
        "    <tr style=\"text-align: right;\">\n",
        "      <th></th>\n",
        "      <th>copepod_calanoid_small_longantennae</th>\n",
        "      <th>appendicularian_fritillaridae</th>\n",
        "      <th>siphonophore_other_parts</th>\n",
        "      <th>appendicularian_straight</th>\n",
        "      <th>echinoderm_larva_pluteus_early</th>\n",
        "      <th>hydromedusae_shapeA_sideview_small</th>\n",
        "      <th>hydromedusae_liriope</th>\n",
        "      <th>chaetognath_sagitta</th>\n",
        "      <th>heteropod</th>\n",
        "      <th>chaetognath_non_sagitta</th>\n",
        "      <th>...</th>\n",
        "      <th>chordate_type1</th>\n",
        "      <th>detritus_filamentous</th>\n",
        "      <th>copepod_calanoid_octomoms</th>\n",
        "      <th>siphonophore_partial</th>\n",
        "      <th>ctenophore_lobate</th>\n",
        "      <th>copepod_other</th>\n",
        "      <th>protist_dark_center</th>\n",
        "      <th>acantharia_protist</th>\n",
        "      <th>trichodesmium_puff</th>\n",
        "      <th>trichodesmium_multiple</th>\n",
        "    </tr>\n",
        "    <tr>\n",
        "      <th>image</th>\n",
        "      <th></th>\n",
        "      <th></th>\n",
        "      <th></th>\n",
        "      <th></th>\n",
        "      <th></th>\n",
        "      <th></th>\n",
        "      <th></th>\n",
        "      <th></th>\n",
        "      <th></th>\n",
        "      <th></th>\n",
        "      <th></th>\n",
        "      <th></th>\n",
        "      <th></th>\n",
        "      <th></th>\n",
        "      <th></th>\n",
        "      <th></th>\n",
        "      <th></th>\n",
        "      <th></th>\n",
        "      <th></th>\n",
        "      <th></th>\n",
        "      <th></th>\n",
        "    </tr>\n",
        "  </thead>\n",
        "  <tbody>\n",
        "    <tr>\n",
        "      <th>1.jpg</th>\n",
        "      <td> 0.001175</td>\n",
        "      <td> 0.000735</td>\n",
        "      <td> 0.000735</td>\n",
        "      <td> 0.035031</td>\n",
        "      <td> 0.006381</td>\n",
        "      <td> 0.000870</td>\n",
        "      <td> 0.000735</td>\n",
        "      <td> 0.000937</td>\n",
        "      <td> 0.000735</td>\n",
        "      <td> 0.001045</td>\n",
        "      <td>...</td>\n",
        "      <td> 0.000735</td>\n",
        "      <td> 0.037688</td>\n",
        "      <td> 0.000735</td>\n",
        "      <td> 0.000735</td>\n",
        "      <td> 0.000735</td>\n",
        "      <td> 0.000735</td>\n",
        "      <td> 0.000735</td>\n",
        "      <td> 0.009787</td>\n",
        "      <td> 0.000735</td>\n",
        "      <td> 0.000735</td>\n",
        "    </tr>\n",
        "    <tr>\n",
        "      <th>10.jpg</th>\n",
        "      <td> 0.001943</td>\n",
        "      <td> 0.000933</td>\n",
        "      <td> 0.000808</td>\n",
        "      <td> 0.000956</td>\n",
        "      <td> 0.001888</td>\n",
        "      <td> 0.006408</td>\n",
        "      <td> 0.000808</td>\n",
        "      <td> 0.000808</td>\n",
        "      <td> 0.000808</td>\n",
        "      <td> 0.000808</td>\n",
        "      <td>...</td>\n",
        "      <td> 0.000808</td>\n",
        "      <td> 0.011865</td>\n",
        "      <td> 0.030070</td>\n",
        "      <td> 0.000808</td>\n",
        "      <td> 0.000808</td>\n",
        "      <td> 0.000872</td>\n",
        "      <td> 0.006338</td>\n",
        "      <td> 0.009401</td>\n",
        "      <td> 0.000881</td>\n",
        "      <td> 0.000808</td>\n",
        "    </tr>\n",
        "  </tbody>\n",
        "</table>\n",
        "<p>2 rows \u00d7 121 columns</p>\n",
        "</div>"
       ],
       "metadata": {},
       "output_type": "pyout",
       "prompt_number": 25,
       "text": [
        "        copepod_calanoid_small_longantennae  appendicularian_fritillaridae  \\\n",
        "image                                                                        \n",
        "1.jpg                              0.001175                       0.000735   \n",
        "10.jpg                             0.001943                       0.000933   \n",
        "\n",
        "        siphonophore_other_parts  appendicularian_straight  \\\n",
        "image                                                        \n",
        "1.jpg                   0.000735                  0.035031   \n",
        "10.jpg                  0.000808                  0.000956   \n",
        "\n",
        "        echinoderm_larva_pluteus_early  hydromedusae_shapeA_sideview_small  \\\n",
        "image                                                                        \n",
        "1.jpg                         0.006381                            0.000870   \n",
        "10.jpg                        0.001888                            0.006408   \n",
        "\n",
        "        hydromedusae_liriope  chaetognath_sagitta  heteropod  \\\n",
        "image                                                          \n",
        "1.jpg               0.000735             0.000937   0.000735   \n",
        "10.jpg              0.000808             0.000808   0.000808   \n",
        "\n",
        "        chaetognath_non_sagitta           ...             chordate_type1  \\\n",
        "image                                     ...                              \n",
        "1.jpg                  0.001045           ...                   0.000735   \n",
        "10.jpg                 0.000808           ...                   0.000808   \n",
        "\n",
        "        detritus_filamentous  copepod_calanoid_octomoms  siphonophore_partial  \\\n",
        "image                                                                           \n",
        "1.jpg               0.037688                   0.000735              0.000735   \n",
        "10.jpg              0.011865                   0.030070              0.000808   \n",
        "\n",
        "        ctenophore_lobate  copepod_other  protist_dark_center  \\\n",
        "image                                                           \n",
        "1.jpg            0.000735       0.000735             0.000735   \n",
        "10.jpg           0.000808       0.000872             0.006338   \n",
        "\n",
        "        acantharia_protist  trichodesmium_puff  trichodesmium_multiple  \n",
        "image                                                                   \n",
        "1.jpg             0.009787            0.000735                0.000735  \n",
        "10.jpg            0.009401            0.000881                0.000808  \n",
        "\n",
        "[2 rows x 121 columns]"
       ]
      }
     ],
     "prompt_number": 25
    },
    {
     "cell_type": "code",
     "collapsed": false,
     "input": [
      "output_df.to_csv('C:\\\\Users\\\\E\\\\Desktop\\\\Zoology_kaggle\\\\submission\\\\hu_facs_ADA_RF_mix.csv')"
     ],
     "language": "python",
     "metadata": {},
     "outputs": [],
     "prompt_number": 26
    },
    {
     "cell_type": "code",
     "collapsed": false,
     "input": [],
     "language": "python",
     "metadata": {},
     "outputs": []
    }
   ],
   "metadata": {}
  }
 ]
}