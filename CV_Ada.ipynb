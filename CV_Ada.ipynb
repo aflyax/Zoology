{
 "metadata": {
  "name": "",
  "signature": "sha256:448603b4426f59e0f7ad32edfc9c84531b5aede38897c900af8500edb96f6be4"
 },
 "nbformat": 3,
 "nbformat_minor": 0,
 "worksheets": [
  {
   "cells": [
    {
     "cell_type": "code",
     "collapsed": false,
     "input": [
      "import pandas as pd\n",
      "import numpy as np\n",
      "from sklearn import cross_validation\n",
      "import pylab as plt\n",
      "from sklearn.ensemble import RandomForestClassifier\n",
      "from sklearn.linear_model import LogisticRegression\n",
      "from sklearn.ensemble import AdaBoostClassifier\n",
      "from sklearn.tree import DecisionTreeClassifier\n",
      "from sklearn.naive_bayes import MultinomialNB\n",
      "from sklearn.preprocessing import StandardScaler\n",
      "from sklearn.cross_validation import StratifiedKFold\n",
      "from sklearn.metrics import classification_report\n",
      "import gc\n",
      "import pickle\n",
      "import math\n",
      "from sklearn.cross_validation import StratifiedKFold as KFold\n",
      "%matplotlib"
     ],
     "language": "python",
     "metadata": {},
     "outputs": [
      {
       "output_type": "stream",
       "stream": "stdout",
       "text": [
        "Using matplotlib backend: Qt4Agg\n"
       ]
      }
     ],
     "prompt_number": 1
    },
    {
     "cell_type": "code",
     "collapsed": false,
     "input": [
      "#Write to csv files.  This is in the windows filesystem.\n",
      "y_train_df = pd.read_csv('C:\\\\Users\\\\E\\\\Desktop\\\\Zoology_kaggle\\\\y_train_df.csv', index_col=0)\n",
      "x_train_df = pd.read_csv('C:\\\\Users\\\\E\\\\Desktop\\\\Zoology_kaggle\\\\x_train_df.csv', index_col=0)\n",
      "x_train_hu_df = pd.read_csv('C:\\\\Users\\\\E\\\\Desktop\\\\Zoology_kaggle\\\\x_train_hu_big_df.csv', index_col=0)\n",
      "x_total = pd.concat([x_train_hu_df, x_train_df], axis=1).iloc[:,:48]"
     ],
     "language": "python",
     "metadata": {},
     "outputs": [],
     "prompt_number": 2
    },
    {
     "cell_type": "code",
     "collapsed": false,
     "input": [
      "x_total.head()"
     ],
     "language": "python",
     "metadata": {},
     "outputs": [
      {
       "html": [
        "<div style=\"max-height:1000px;max-width:1500px;overflow:auto;\">\n",
        "<table border=\"1\" class=\"dataframe\">\n",
        "  <thead>\n",
        "    <tr style=\"text-align: right;\">\n",
        "      <th></th>\n",
        "      <th>0</th>\n",
        "      <th>1</th>\n",
        "      <th>2</th>\n",
        "      <th>3</th>\n",
        "      <th>4</th>\n",
        "      <th>5</th>\n",
        "      <th>6</th>\n",
        "      <th>7</th>\n",
        "      <th>8</th>\n",
        "      <th>9</th>\n",
        "      <th>...</th>\n",
        "      <th>maxregion.convex_area</th>\n",
        "      <th>maxregion.eccentricity</th>\n",
        "      <th>maxregion.equivalent_diameter</th>\n",
        "      <th>maxregion.extent</th>\n",
        "      <th>maxregion.filled_area</th>\n",
        "      <th>maxregion.major_axis_length</th>\n",
        "      <th>maxregion.minor_axis_length</th>\n",
        "      <th>maxregion.orientation</th>\n",
        "      <th>maxregion.perimeter</th>\n",
        "      <th>maxregion.solidity</th>\n",
        "    </tr>\n",
        "  </thead>\n",
        "  <tbody>\n",
        "    <tr>\n",
        "      <th>C:\\Users\\E\\Desktop\\Zoology_kaggle\\train\\copepod_calanoid_small_longantennae\\100728.jpg</th>\n",
        "      <td> 80</td>\n",
        "      <td> 42</td>\n",
        "      <td> 248.138095</td>\n",
        "      <td> 28.767820</td>\n",
        "      <td>  3</td>\n",
        "      <td> 286</td>\n",
        "      <td> 10</td>\n",
        "      <td> 10</td>\n",
        "      <td> 70</td>\n",
        "      <td> 31</td>\n",
        "      <td>...</td>\n",
        "      <td> 143</td>\n",
        "      <td> 0.814617</td>\n",
        "      <td> 9.373021</td>\n",
        "      <td> 0.279352</td>\n",
        "      <td> 69</td>\n",
        "      <td> 18.089704</td>\n",
        "      <td> 10.492020</td>\n",
        "      <td> 1.294766</td>\n",
        "      <td> 52.556349</td>\n",
        "      <td> 0.482517</td>\n",
        "    </tr>\n",
        "    <tr>\n",
        "      <th>C:\\Users\\E\\Desktop\\Zoology_kaggle\\train\\copepod_calanoid_small_longantennae\\101339.jpg</th>\n",
        "      <td> 54</td>\n",
        "      <td> 55</td>\n",
        "      <td> 250.953872</td>\n",
        "      <td> 19.769077</td>\n",
        "      <td>  4</td>\n",
        "      <td> 184</td>\n",
        "      <td> 10</td>\n",
        "      <td> 10</td>\n",
        "      <td> 44</td>\n",
        "      <td> 45</td>\n",
        "      <td>...</td>\n",
        "      <td> 118</td>\n",
        "      <td> 0.934217</td>\n",
        "      <td> 7.898654</td>\n",
        "      <td> 0.191406</td>\n",
        "      <td> 49</td>\n",
        "      <td> 21.958892</td>\n",
        "      <td>  7.832874</td>\n",
        "      <td>-0.781265</td>\n",
        "      <td> 46.349242</td>\n",
        "      <td> 0.415254</td>\n",
        "    </tr>\n",
        "    <tr>\n",
        "      <th>C:\\Users\\E\\Desktop\\Zoology_kaggle\\train\\copepod_calanoid_small_longantennae\\103093.jpg</th>\n",
        "      <td> 47</td>\n",
        "      <td> 71</td>\n",
        "      <td> 252.200779</td>\n",
        "      <td> 18.141814</td>\n",
        "      <td> 31</td>\n",
        "      <td> 141</td>\n",
        "      <td> 10</td>\n",
        "      <td> 10</td>\n",
        "      <td> 38</td>\n",
        "      <td> 61</td>\n",
        "      <td>...</td>\n",
        "      <td>  87</td>\n",
        "      <td> 0.952907</td>\n",
        "      <td> 7.046726</td>\n",
        "      <td> 0.180556</td>\n",
        "      <td> 39</td>\n",
        "      <td> 19.916480</td>\n",
        "      <td>  6.039905</td>\n",
        "      <td>-0.562169</td>\n",
        "      <td> 37.106602</td>\n",
        "      <td> 0.448276</td>\n",
        "    </tr>\n",
        "    <tr>\n",
        "      <th>C:\\Users\\E\\Desktop\\Zoology_kaggle\\train\\copepod_calanoid_small_longantennae\\104949.jpg</th>\n",
        "      <td> 42</td>\n",
        "      <td> 92</td>\n",
        "      <td> 251.164337</td>\n",
        "      <td> 19.445474</td>\n",
        "      <td> 15</td>\n",
        "      <td> 229</td>\n",
        "      <td> 10</td>\n",
        "      <td> 10</td>\n",
        "      <td> 32</td>\n",
        "      <td> 83</td>\n",
        "      <td>...</td>\n",
        "      <td> 140</td>\n",
        "      <td> 0.957606</td>\n",
        "      <td> 7.978846</td>\n",
        "      <td> 0.219298</td>\n",
        "      <td> 50</td>\n",
        "      <td> 24.215206</td>\n",
        "      <td>  6.975945</td>\n",
        "      <td> 0.406272</td>\n",
        "      <td> 44.828427</td>\n",
        "      <td> 0.357143</td>\n",
        "    </tr>\n",
        "    <tr>\n",
        "      <th>C:\\Users\\E\\Desktop\\Zoology_kaggle\\train\\copepod_calanoid_small_longantennae\\106043.jpg</th>\n",
        "      <td> 58</td>\n",
        "      <td> 86</td>\n",
        "      <td> 249.691860</td>\n",
        "      <td> 23.083473</td>\n",
        "      <td>  3</td>\n",
        "      <td> 354</td>\n",
        "      <td> 11</td>\n",
        "      <td> 10</td>\n",
        "      <td> 48</td>\n",
        "      <td> 75</td>\n",
        "      <td>...</td>\n",
        "      <td> 136</td>\n",
        "      <td> 0.942969</td>\n",
        "      <td> 8.214724</td>\n",
        "      <td> 0.185965</td>\n",
        "      <td> 53</td>\n",
        "      <td> 23.534466</td>\n",
        "      <td>  7.834168</td>\n",
        "      <td>-0.623086</td>\n",
        "      <td> 46.656854</td>\n",
        "      <td> 0.389706</td>\n",
        "    </tr>\n",
        "  </tbody>\n",
        "</table>\n",
        "<p>5 rows \u00d7 48 columns</p>\n",
        "</div>"
       ],
       "metadata": {},
       "output_type": "pyout",
       "prompt_number": 3,
       "text": [
        "                                                                                         0  \\\n",
        "C:\\Users\\E\\Desktop\\Zoology_kaggle\\train\\copepod_calanoid_small_longantennae\\100728.jpg  80   \n",
        "C:\\Users\\E\\Desktop\\Zoology_kaggle\\train\\copepod_calanoid_small_longantennae\\101339.jpg  54   \n",
        "C:\\Users\\E\\Desktop\\Zoology_kaggle\\train\\copepod_calanoid_small_longantennae\\103093.jpg  47   \n",
        "C:\\Users\\E\\Desktop\\Zoology_kaggle\\train\\copepod_calanoid_small_longantennae\\104949.jpg  42   \n",
        "C:\\Users\\E\\Desktop\\Zoology_kaggle\\train\\copepod_calanoid_small_longantennae\\106043.jpg  58   \n",
        "\n",
        "                                                                                         1  \\\n",
        "C:\\Users\\E\\Desktop\\Zoology_kaggle\\train\\copepod_calanoid_small_longantennae\\100728.jpg  42   \n",
        "C:\\Users\\E\\Desktop\\Zoology_kaggle\\train\\copepod_calanoid_small_longantennae\\101339.jpg  55   \n",
        "C:\\Users\\E\\Desktop\\Zoology_kaggle\\train\\copepod_calanoid_small_longantennae\\103093.jpg  71   \n",
        "C:\\Users\\E\\Desktop\\Zoology_kaggle\\train\\copepod_calanoid_small_longantennae\\104949.jpg  92   \n",
        "C:\\Users\\E\\Desktop\\Zoology_kaggle\\train\\copepod_calanoid_small_longantennae\\106043.jpg  86   \n",
        "\n",
        "                                                                                                 2  \\\n",
        "C:\\Users\\E\\Desktop\\Zoology_kaggle\\train\\copepod_calanoid_small_longantennae\\100728.jpg  248.138095   \n",
        "C:\\Users\\E\\Desktop\\Zoology_kaggle\\train\\copepod_calanoid_small_longantennae\\101339.jpg  250.953872   \n",
        "C:\\Users\\E\\Desktop\\Zoology_kaggle\\train\\copepod_calanoid_small_longantennae\\103093.jpg  252.200779   \n",
        "C:\\Users\\E\\Desktop\\Zoology_kaggle\\train\\copepod_calanoid_small_longantennae\\104949.jpg  251.164337   \n",
        "C:\\Users\\E\\Desktop\\Zoology_kaggle\\train\\copepod_calanoid_small_longantennae\\106043.jpg  249.691860   \n",
        "\n",
        "                                                                                                3  \\\n",
        "C:\\Users\\E\\Desktop\\Zoology_kaggle\\train\\copepod_calanoid_small_longantennae\\100728.jpg  28.767820   \n",
        "C:\\Users\\E\\Desktop\\Zoology_kaggle\\train\\copepod_calanoid_small_longantennae\\101339.jpg  19.769077   \n",
        "C:\\Users\\E\\Desktop\\Zoology_kaggle\\train\\copepod_calanoid_small_longantennae\\103093.jpg  18.141814   \n",
        "C:\\Users\\E\\Desktop\\Zoology_kaggle\\train\\copepod_calanoid_small_longantennae\\104949.jpg  19.445474   \n",
        "C:\\Users\\E\\Desktop\\Zoology_kaggle\\train\\copepod_calanoid_small_longantennae\\106043.jpg  23.083473   \n",
        "\n",
        "                                                                                         4  \\\n",
        "C:\\Users\\E\\Desktop\\Zoology_kaggle\\train\\copepod_calanoid_small_longantennae\\100728.jpg   3   \n",
        "C:\\Users\\E\\Desktop\\Zoology_kaggle\\train\\copepod_calanoid_small_longantennae\\101339.jpg   4   \n",
        "C:\\Users\\E\\Desktop\\Zoology_kaggle\\train\\copepod_calanoid_small_longantennae\\103093.jpg  31   \n",
        "C:\\Users\\E\\Desktop\\Zoology_kaggle\\train\\copepod_calanoid_small_longantennae\\104949.jpg  15   \n",
        "C:\\Users\\E\\Desktop\\Zoology_kaggle\\train\\copepod_calanoid_small_longantennae\\106043.jpg   3   \n",
        "\n",
        "                                                                                          5  \\\n",
        "C:\\Users\\E\\Desktop\\Zoology_kaggle\\train\\copepod_calanoid_small_longantennae\\100728.jpg  286   \n",
        "C:\\Users\\E\\Desktop\\Zoology_kaggle\\train\\copepod_calanoid_small_longantennae\\101339.jpg  184   \n",
        "C:\\Users\\E\\Desktop\\Zoology_kaggle\\train\\copepod_calanoid_small_longantennae\\103093.jpg  141   \n",
        "C:\\Users\\E\\Desktop\\Zoology_kaggle\\train\\copepod_calanoid_small_longantennae\\104949.jpg  229   \n",
        "C:\\Users\\E\\Desktop\\Zoology_kaggle\\train\\copepod_calanoid_small_longantennae\\106043.jpg  354   \n",
        "\n",
        "                                                                                         6  \\\n",
        "C:\\Users\\E\\Desktop\\Zoology_kaggle\\train\\copepod_calanoid_small_longantennae\\100728.jpg  10   \n",
        "C:\\Users\\E\\Desktop\\Zoology_kaggle\\train\\copepod_calanoid_small_longantennae\\101339.jpg  10   \n",
        "C:\\Users\\E\\Desktop\\Zoology_kaggle\\train\\copepod_calanoid_small_longantennae\\103093.jpg  10   \n",
        "C:\\Users\\E\\Desktop\\Zoology_kaggle\\train\\copepod_calanoid_small_longantennae\\104949.jpg  10   \n",
        "C:\\Users\\E\\Desktop\\Zoology_kaggle\\train\\copepod_calanoid_small_longantennae\\106043.jpg  11   \n",
        "\n",
        "                                                                                         7  \\\n",
        "C:\\Users\\E\\Desktop\\Zoology_kaggle\\train\\copepod_calanoid_small_longantennae\\100728.jpg  10   \n",
        "C:\\Users\\E\\Desktop\\Zoology_kaggle\\train\\copepod_calanoid_small_longantennae\\101339.jpg  10   \n",
        "C:\\Users\\E\\Desktop\\Zoology_kaggle\\train\\copepod_calanoid_small_longantennae\\103093.jpg  10   \n",
        "C:\\Users\\E\\Desktop\\Zoology_kaggle\\train\\copepod_calanoid_small_longantennae\\104949.jpg  10   \n",
        "C:\\Users\\E\\Desktop\\Zoology_kaggle\\train\\copepod_calanoid_small_longantennae\\106043.jpg  10   \n",
        "\n",
        "                                                                                         8  \\\n",
        "C:\\Users\\E\\Desktop\\Zoology_kaggle\\train\\copepod_calanoid_small_longantennae\\100728.jpg  70   \n",
        "C:\\Users\\E\\Desktop\\Zoology_kaggle\\train\\copepod_calanoid_small_longantennae\\101339.jpg  44   \n",
        "C:\\Users\\E\\Desktop\\Zoology_kaggle\\train\\copepod_calanoid_small_longantennae\\103093.jpg  38   \n",
        "C:\\Users\\E\\Desktop\\Zoology_kaggle\\train\\copepod_calanoid_small_longantennae\\104949.jpg  32   \n",
        "C:\\Users\\E\\Desktop\\Zoology_kaggle\\train\\copepod_calanoid_small_longantennae\\106043.jpg  48   \n",
        "\n",
        "                                                                                         9  \\\n",
        "C:\\Users\\E\\Desktop\\Zoology_kaggle\\train\\copepod_calanoid_small_longantennae\\100728.jpg  31   \n",
        "C:\\Users\\E\\Desktop\\Zoology_kaggle\\train\\copepod_calanoid_small_longantennae\\101339.jpg  45   \n",
        "C:\\Users\\E\\Desktop\\Zoology_kaggle\\train\\copepod_calanoid_small_longantennae\\103093.jpg  61   \n",
        "C:\\Users\\E\\Desktop\\Zoology_kaggle\\train\\copepod_calanoid_small_longantennae\\104949.jpg  83   \n",
        "C:\\Users\\E\\Desktop\\Zoology_kaggle\\train\\copepod_calanoid_small_longantennae\\106043.jpg  75   \n",
        "\n",
        "                                                                                       ...  \\\n",
        "C:\\Users\\E\\Desktop\\Zoology_kaggle\\train\\copepod_calanoid_small_longantennae\\100728.jpg ...   \n",
        "C:\\Users\\E\\Desktop\\Zoology_kaggle\\train\\copepod_calanoid_small_longantennae\\101339.jpg ...   \n",
        "C:\\Users\\E\\Desktop\\Zoology_kaggle\\train\\copepod_calanoid_small_longantennae\\103093.jpg ...   \n",
        "C:\\Users\\E\\Desktop\\Zoology_kaggle\\train\\copepod_calanoid_small_longantennae\\104949.jpg ...   \n",
        "C:\\Users\\E\\Desktop\\Zoology_kaggle\\train\\copepod_calanoid_small_longantennae\\106043.jpg ...   \n",
        "\n",
        "                                                                                        maxregion.convex_area  \\\n",
        "C:\\Users\\E\\Desktop\\Zoology_kaggle\\train\\copepod_calanoid_small_longantennae\\100728.jpg                    143   \n",
        "C:\\Users\\E\\Desktop\\Zoology_kaggle\\train\\copepod_calanoid_small_longantennae\\101339.jpg                    118   \n",
        "C:\\Users\\E\\Desktop\\Zoology_kaggle\\train\\copepod_calanoid_small_longantennae\\103093.jpg                     87   \n",
        "C:\\Users\\E\\Desktop\\Zoology_kaggle\\train\\copepod_calanoid_small_longantennae\\104949.jpg                    140   \n",
        "C:\\Users\\E\\Desktop\\Zoology_kaggle\\train\\copepod_calanoid_small_longantennae\\106043.jpg                    136   \n",
        "\n",
        "                                                                                        maxregion.eccentricity  \\\n",
        "C:\\Users\\E\\Desktop\\Zoology_kaggle\\train\\copepod_calanoid_small_longantennae\\100728.jpg                0.814617   \n",
        "C:\\Users\\E\\Desktop\\Zoology_kaggle\\train\\copepod_calanoid_small_longantennae\\101339.jpg                0.934217   \n",
        "C:\\Users\\E\\Desktop\\Zoology_kaggle\\train\\copepod_calanoid_small_longantennae\\103093.jpg                0.952907   \n",
        "C:\\Users\\E\\Desktop\\Zoology_kaggle\\train\\copepod_calanoid_small_longantennae\\104949.jpg                0.957606   \n",
        "C:\\Users\\E\\Desktop\\Zoology_kaggle\\train\\copepod_calanoid_small_longantennae\\106043.jpg                0.942969   \n",
        "\n",
        "                                                                                        maxregion.equivalent_diameter  \\\n",
        "C:\\Users\\E\\Desktop\\Zoology_kaggle\\train\\copepod_calanoid_small_longantennae\\100728.jpg                       9.373021   \n",
        "C:\\Users\\E\\Desktop\\Zoology_kaggle\\train\\copepod_calanoid_small_longantennae\\101339.jpg                       7.898654   \n",
        "C:\\Users\\E\\Desktop\\Zoology_kaggle\\train\\copepod_calanoid_small_longantennae\\103093.jpg                       7.046726   \n",
        "C:\\Users\\E\\Desktop\\Zoology_kaggle\\train\\copepod_calanoid_small_longantennae\\104949.jpg                       7.978846   \n",
        "C:\\Users\\E\\Desktop\\Zoology_kaggle\\train\\copepod_calanoid_small_longantennae\\106043.jpg                       8.214724   \n",
        "\n",
        "                                                                                        maxregion.extent  \\\n",
        "C:\\Users\\E\\Desktop\\Zoology_kaggle\\train\\copepod_calanoid_small_longantennae\\100728.jpg          0.279352   \n",
        "C:\\Users\\E\\Desktop\\Zoology_kaggle\\train\\copepod_calanoid_small_longantennae\\101339.jpg          0.191406   \n",
        "C:\\Users\\E\\Desktop\\Zoology_kaggle\\train\\copepod_calanoid_small_longantennae\\103093.jpg          0.180556   \n",
        "C:\\Users\\E\\Desktop\\Zoology_kaggle\\train\\copepod_calanoid_small_longantennae\\104949.jpg          0.219298   \n",
        "C:\\Users\\E\\Desktop\\Zoology_kaggle\\train\\copepod_calanoid_small_longantennae\\106043.jpg          0.185965   \n",
        "\n",
        "                                                                                        maxregion.filled_area  \\\n",
        "C:\\Users\\E\\Desktop\\Zoology_kaggle\\train\\copepod_calanoid_small_longantennae\\100728.jpg                     69   \n",
        "C:\\Users\\E\\Desktop\\Zoology_kaggle\\train\\copepod_calanoid_small_longantennae\\101339.jpg                     49   \n",
        "C:\\Users\\E\\Desktop\\Zoology_kaggle\\train\\copepod_calanoid_small_longantennae\\103093.jpg                     39   \n",
        "C:\\Users\\E\\Desktop\\Zoology_kaggle\\train\\copepod_calanoid_small_longantennae\\104949.jpg                     50   \n",
        "C:\\Users\\E\\Desktop\\Zoology_kaggle\\train\\copepod_calanoid_small_longantennae\\106043.jpg                     53   \n",
        "\n",
        "                                                                                        maxregion.major_axis_length  \\\n",
        "C:\\Users\\E\\Desktop\\Zoology_kaggle\\train\\copepod_calanoid_small_longantennae\\100728.jpg                    18.089704   \n",
        "C:\\Users\\E\\Desktop\\Zoology_kaggle\\train\\copepod_calanoid_small_longantennae\\101339.jpg                    21.958892   \n",
        "C:\\Users\\E\\Desktop\\Zoology_kaggle\\train\\copepod_calanoid_small_longantennae\\103093.jpg                    19.916480   \n",
        "C:\\Users\\E\\Desktop\\Zoology_kaggle\\train\\copepod_calanoid_small_longantennae\\104949.jpg                    24.215206   \n",
        "C:\\Users\\E\\Desktop\\Zoology_kaggle\\train\\copepod_calanoid_small_longantennae\\106043.jpg                    23.534466   \n",
        "\n",
        "                                                                                        maxregion.minor_axis_length  \\\n",
        "C:\\Users\\E\\Desktop\\Zoology_kaggle\\train\\copepod_calanoid_small_longantennae\\100728.jpg                    10.492020   \n",
        "C:\\Users\\E\\Desktop\\Zoology_kaggle\\train\\copepod_calanoid_small_longantennae\\101339.jpg                     7.832874   \n",
        "C:\\Users\\E\\Desktop\\Zoology_kaggle\\train\\copepod_calanoid_small_longantennae\\103093.jpg                     6.039905   \n",
        "C:\\Users\\E\\Desktop\\Zoology_kaggle\\train\\copepod_calanoid_small_longantennae\\104949.jpg                     6.975945   \n",
        "C:\\Users\\E\\Desktop\\Zoology_kaggle\\train\\copepod_calanoid_small_longantennae\\106043.jpg                     7.834168   \n",
        "\n",
        "                                                                                        maxregion.orientation  \\\n",
        "C:\\Users\\E\\Desktop\\Zoology_kaggle\\train\\copepod_calanoid_small_longantennae\\100728.jpg               1.294766   \n",
        "C:\\Users\\E\\Desktop\\Zoology_kaggle\\train\\copepod_calanoid_small_longantennae\\101339.jpg              -0.781265   \n",
        "C:\\Users\\E\\Desktop\\Zoology_kaggle\\train\\copepod_calanoid_small_longantennae\\103093.jpg              -0.562169   \n",
        "C:\\Users\\E\\Desktop\\Zoology_kaggle\\train\\copepod_calanoid_small_longantennae\\104949.jpg               0.406272   \n",
        "C:\\Users\\E\\Desktop\\Zoology_kaggle\\train\\copepod_calanoid_small_longantennae\\106043.jpg              -0.623086   \n",
        "\n",
        "                                                                                        maxregion.perimeter  \\\n",
        "C:\\Users\\E\\Desktop\\Zoology_kaggle\\train\\copepod_calanoid_small_longantennae\\100728.jpg            52.556349   \n",
        "C:\\Users\\E\\Desktop\\Zoology_kaggle\\train\\copepod_calanoid_small_longantennae\\101339.jpg            46.349242   \n",
        "C:\\Users\\E\\Desktop\\Zoology_kaggle\\train\\copepod_calanoid_small_longantennae\\103093.jpg            37.106602   \n",
        "C:\\Users\\E\\Desktop\\Zoology_kaggle\\train\\copepod_calanoid_small_longantennae\\104949.jpg            44.828427   \n",
        "C:\\Users\\E\\Desktop\\Zoology_kaggle\\train\\copepod_calanoid_small_longantennae\\106043.jpg            46.656854   \n",
        "\n",
        "                                                                                        maxregion.solidity  \n",
        "C:\\Users\\E\\Desktop\\Zoology_kaggle\\train\\copepod_calanoid_small_longantennae\\100728.jpg            0.482517  \n",
        "C:\\Users\\E\\Desktop\\Zoology_kaggle\\train\\copepod_calanoid_small_longantennae\\101339.jpg            0.415254  \n",
        "C:\\Users\\E\\Desktop\\Zoology_kaggle\\train\\copepod_calanoid_small_longantennae\\103093.jpg            0.448276  \n",
        "C:\\Users\\E\\Desktop\\Zoology_kaggle\\train\\copepod_calanoid_small_longantennae\\104949.jpg            0.357143  \n",
        "C:\\Users\\E\\Desktop\\Zoology_kaggle\\train\\copepod_calanoid_small_longantennae\\106043.jpg            0.389706  \n",
        "\n",
        "[5 rows x 48 columns]"
       ]
      }
     ],
     "prompt_number": 3
    },
    {
     "cell_type": "code",
     "collapsed": false,
     "input": [
      "print \"Training\"\n",
      "# n_estimators is the number of decision trees\n",
      "# max_features also known as m_try is set to the default value of the square root of the number of features\n",
      "clf = AdaBoostClassifier(DecisionTreeClassifier(max_depth=16), n_estimators=20, learning_rate=.125)\n",
      "scores = cross_validation.cross_val_score(clf, x_train_hu_df, np.ravel(y_train_df), cv=5, n_jobs=2)\n",
      "print \"Accuracy of all classes\"\n",
      "print np.mean(scores)"
     ],
     "language": "python",
     "metadata": {},
     "outputs": [
      {
       "output_type": "stream",
       "stream": "stdout",
       "text": [
        "Training\n",
        "Accuracy of all classes"
       ]
      },
      {
       "output_type": "stream",
       "stream": "stdout",
       "text": [
        "\n",
        "0.522452686927\n"
       ]
      }
     ],
     "prompt_number": 4
    },
    {
     "cell_type": "code",
     "collapsed": false,
     "input": [
      "kf = KFold(np.ravel(y_train_df), n_folds=5)\n",
      "y_pred = np.array(len(y_train_df) * [0])\n",
      "for train, test in kf:\n",
      "    X_train, X_test, y_train, y_test = np.array(x_train_hu_df)[train,:], np.array(x_train_hu_df)[test,:], np.ravel(y_train_df)[train], np.ravel(y_train_df)[test]\n",
      "    clf = AdaBoostClassifier(DecisionTreeClassifier(max_depth=16), n_estimators=20, learning_rate=.125)\n",
      "    clf.fit(X_train, y_train)\n",
      "    y_pred[test] = clf.predict(X_test)\n",
      "    print clf.score(X_test, y_test)\n",
      "print classification_report(np.ravel(y_train_df), y_pred)"
     ],
     "language": "python",
     "metadata": {},
     "outputs": [
      {
       "output_type": "stream",
       "stream": "stdout",
       "text": [
        "0.528622832843\n",
        "0.515758371635"
       ]
      },
      {
       "output_type": "stream",
       "stream": "stdout",
       "text": [
        "\n",
        "0.52330752759"
       ]
      },
      {
       "output_type": "stream",
       "stream": "stdout",
       "text": [
        "\n",
        "0.528457974851"
       ]
      },
      {
       "output_type": "stream",
       "stream": "stdout",
       "text": [
        "\n",
        "0.520039913521"
       ]
      },
      {
       "output_type": "stream",
       "stream": "stdout",
       "text": [
        "\n",
        "             precision    recall  f1-score   support\n",
        "\n",
        "        0.0       0.57      0.38      0.46        87\n",
        "        1.0       0.00      0.00      0.00        16\n",
        "        2.0       0.00      0.00      0.00        29\n",
        "        3.0       0.22      0.12      0.15       242\n",
        "        4.0       0.42      0.25      0.31        92\n",
        "        5.0       0.32      0.29      0.30       274\n",
        "        6.0       0.50      0.05      0.10        19\n",
        "        7.0       0.53      0.41      0.46       694\n",
        "        8.0       0.00      0.00      0.00        10\n",
        "        9.0       0.65      0.66      0.65       815\n",
        "       10.0       0.83      0.87      0.85       519\n",
        "       11.0       0.45      0.53      0.49       681\n",
        "       12.0       0.81      0.85      0.83       393\n",
        "       13.0       0.22      0.10      0.14        49\n",
        "       14.0       0.51      0.63      0.56       286\n",
        "       15.0       0.51      0.41      0.45       106\n",
        "       16.0       0.53      0.57      0.55       113\n",
        "       17.0       0.00      0.00      0.00        13\n",
        "       18.0       0.42      0.48      0.45       483\n",
        "       19.0       0.39      0.40      0.39       153\n",
        "       20.0       0.14      0.05      0.08        55\n",
        "       21.0       0.25      0.04      0.06        27\n",
        "       22.0       0.35      0.15      0.21        75\n",
        "       23.0       0.64      0.30      0.41        23\n",
        "       24.0       0.00      0.00      0.00         9\n",
        "       25.0       0.06      0.03      0.04       425\n",
        "       26.0       0.59      0.25      0.35        65\n",
        "       27.0       0.00      0.00      0.00        12\n",
        "       28.0       0.60      0.57      0.59       127\n",
        "       29.0       0.00      0.00      0.00        14\n",
        "       30.0       0.40      0.08      0.14        24\n",
        "       31.0       0.34      0.39      0.36       212\n",
        "       32.0       0.49      0.39      0.43        80\n",
        "       33.0       0.17      0.09      0.12        76\n",
        "       34.0       0.57      0.48      0.52       114\n",
        "       35.0       0.22      0.06      0.10        31\n",
        "       36.0       0.67      0.80      0.73       703\n",
        "       37.0       0.41      0.21      0.28       136\n",
        "       38.0       0.36      0.06      0.10        88\n",
        "       39.0       0.67      0.15      0.25        13\n",
        "       40.0       0.28      0.26      0.27       201\n",
        "       41.0       0.47      0.47      0.47       135\n",
        "       42.0       0.44      0.22      0.30        36\n",
        "       43.0       0.97      0.89      0.93       170\n",
        "       44.0       0.18      0.07      0.10       178\n",
        "       45.0       0.39      0.34      0.36       128\n",
        "       46.0       0.38      0.49      0.43       336\n",
        "       47.0       0.00      0.00      0.00        24\n",
        "       48.0       0.30      0.15      0.20       175\n",
        "       49.0       0.56      0.69      0.62       899\n",
        "       50.0       0.73      0.85      0.78       536\n",
        "       51.0       0.77      0.29      0.42        35\n",
        "       52.0       0.19      0.05      0.08        63\n",
        "       53.0       0.45      0.56      0.50      1172\n",
        "       54.0       0.49      0.48      0.48        96\n",
        "       55.0       0.00      0.00      0.00        10\n",
        "       56.0       0.45      0.30      0.36        30\n",
        "       57.0       0.61      0.63      0.62       372\n",
        "       58.0       0.37      0.47      0.41       694\n",
        "       59.0       0.38      0.18      0.24       131\n",
        "       60.0       0.34      0.33      0.33       439\n",
        "       61.0       0.37      0.53      0.43       678\n",
        "       62.0       0.57      0.56      0.56       500\n",
        "       63.0       0.32      0.27      0.29        96\n",
        "       64.0       0.50      0.02      0.05        42\n",
        "       65.0       0.46      0.25      0.33       132\n",
        "       66.0       0.72      0.40      0.52       141\n",
        "       67.0       0.63      0.73      0.67       236\n",
        "       68.0       0.57      0.59      0.58       123\n",
        "       69.0       0.64      0.51      0.57       113\n",
        "       70.0       0.34      0.17      0.22       108\n",
        "       71.0       0.50      0.05      0.09        21\n",
        "       72.0       0.60      0.62      0.61       385\n",
        "       73.0       0.47      0.44      0.45       625\n",
        "       74.0       0.28      0.25      0.26       158\n",
        "       75.0       0.61      0.57      0.59       229\n",
        "       76.0       0.59      0.60      0.59       190\n",
        "       77.0       0.47      0.27      0.34        64\n",
        "       78.0       0.33      0.06      0.11        16\n",
        "       79.0       0.21      0.20      0.21       363\n",
        "       80.0       0.41      0.21      0.28        61\n",
        "       81.0       0.55      0.38      0.45       173\n",
        "       82.0       0.48      0.26      0.33        43\n",
        "       83.0       0.00      0.00      0.00        14\n",
        "       84.0       0.47      0.39      0.43        38\n",
        "       85.0       0.31      0.45      0.37       914\n",
        "       86.0       0.75      0.78      0.77       352\n",
        "       87.0       0.31      0.28      0.29       174\n",
        "       88.0       0.80      0.57      0.67        56\n",
        "       89.0       0.41      0.33      0.36       511\n",
        "       90.0       0.20      0.07      0.11        14\n",
        "       91.0       0.26      0.25      0.25       417\n",
        "       92.0       0.33      0.05      0.09        38\n",
        "       93.0       0.29      0.16      0.21       150\n",
        "       94.0       0.58      0.73      0.65       412\n",
        "       95.0       0.62      0.71      0.66      1189\n",
        "       96.0       0.30      0.24      0.27       317\n",
        "       97.0       0.34      0.46      0.39        85\n",
        "       98.0       0.27      0.27      0.27       247\n",
        "       99.0       0.30      0.17      0.22       287\n",
        "      100.0       0.48      0.34      0.40        71\n",
        "      101.0       0.08      0.02      0.03        52\n",
        "      102.0       0.00      0.00      0.00        29\n",
        "      103.0       0.38      0.16      0.23        49\n",
        "      104.0       0.46      0.37      0.41       179\n",
        "      105.0       0.57      0.49      0.53        73\n",
        "      106.0       0.00      0.00      0.00        53\n",
        "      107.0       0.33      0.37      0.35       532\n",
        "      108.0       0.56      0.69      0.62      1934\n",
        "      109.0       0.54      0.63      0.58       708\n",
        "      110.0       0.24      0.07      0.11        57\n",
        "      111.0       0.61      0.65      0.63        77\n",
        "      112.0       0.14      0.07      0.09       394\n",
        "      113.0       0.00      0.00      0.00        49\n",
        "      114.0       0.33      0.03      0.06        30\n",
        "      115.0       0.87      0.68      0.76        38\n",
        "      116.0       0.33      0.04      0.07        24\n",
        "      117.0       0.27      0.14      0.18       108\n",
        "      118.0       0.73      0.80      0.76       889\n",
        "      119.0       0.85      0.88      0.87      1979\n",
        "      120.0       0.27      0.11      0.16        54\n",
        "\n",
        "avg / total       0.50      0.52      0.51     30334\n",
        "\n"
       ]
      },
      {
       "output_type": "stream",
       "stream": "stderr",
       "text": [
        "C:\\Anaconda\\lib\\site-packages\\sklearn\\metrics\\metrics.py:1771: UndefinedMetricWarning: Precision and F-score are ill-defined and being set to 0.0 in labels with no predicted samples.\n",
        "  'precision', 'predicted', average, warn_for)\n"
       ]
      }
     ],
     "prompt_number": 5
    },
    {
     "cell_type": "code",
     "collapsed": false,
     "input": [
      "del clf\n",
      "gc.collect()"
     ],
     "language": "python",
     "metadata": {},
     "outputs": [
      {
       "metadata": {},
       "output_type": "pyout",
       "prompt_number": 6,
       "text": [
        "0"
       ]
      }
     ],
     "prompt_number": 6
    },
    {
     "cell_type": "code",
     "collapsed": false,
     "input": [
      "X_train, X_test, y_train, y_test = cross_validation.train_test_split(x_train_hu_df, y_train_df, test_size=0.15, random_state=10)"
     ],
     "language": "python",
     "metadata": {},
     "outputs": [],
     "prompt_number": 7
    },
    {
     "cell_type": "code",
     "collapsed": false,
     "input": [
      "X_test.shape"
     ],
     "language": "python",
     "metadata": {},
     "outputs": [
      {
       "metadata": {},
       "output_type": "pyout",
       "prompt_number": 8,
       "text": [
        "(4551L, 36L)"
       ]
      }
     ],
     "prompt_number": 8
    },
    {
     "cell_type": "code",
     "collapsed": false,
     "input": [
      "X_train.shape"
     ],
     "language": "python",
     "metadata": {},
     "outputs": [
      {
       "metadata": {},
       "output_type": "pyout",
       "prompt_number": 9,
       "text": [
        "(25783L, 36L)"
       ]
      }
     ],
     "prompt_number": 9
    },
    {
     "cell_type": "code",
     "collapsed": false,
     "input": [
      "clf = AdaBoostClassifier(DecisionTreeClassifier(max_depth=16), n_estimators=100, learning_rate=.125)"
     ],
     "language": "python",
     "metadata": {},
     "outputs": [],
     "prompt_number": 14
    },
    {
     "cell_type": "code",
     "collapsed": false,
     "input": [
      "clf.fit(X_train, np.ravel(y_train))"
     ],
     "language": "python",
     "metadata": {},
     "outputs": [
      {
       "metadata": {},
       "output_type": "pyout",
       "prompt_number": 15,
       "text": [
        "AdaBoostClassifier(algorithm='SAMME.R',\n",
        "          base_estimator=DecisionTreeClassifier(compute_importances=None, criterion='gini',\n",
        "            max_depth=16, max_features=None, max_leaf_nodes=None,\n",
        "            min_density=None, min_samples_leaf=1, min_samples_split=2,\n",
        "            random_state=None, splitter='best'),\n",
        "          learning_rate=0.125, n_estimators=100, random_state=None)"
       ]
      }
     ],
     "prompt_number": 15
    },
    {
     "cell_type": "code",
     "collapsed": false,
     "input": [
      "results = clf.predict_proba(X_test)\n",
      "results = results*1.0 + (np.ones(results.shape)/121)*0.0\n",
      "clf.score(X_test, y_test)"
     ],
     "language": "python",
     "metadata": {},
     "outputs": [
      {
       "metadata": {},
       "output_type": "pyout",
       "prompt_number": 20,
       "text": [
        "0.55811909470446053"
       ]
      }
     ],
     "prompt_number": 20
    },
    {
     "cell_type": "code",
     "collapsed": false,
     "input": [
      "results_predicted = [results[i,int(y_test[i])] for i in xrange(len(results))]"
     ],
     "language": "python",
     "metadata": {},
     "outputs": [],
     "prompt_number": 21
    },
    {
     "cell_type": "code",
     "collapsed": false,
     "input": [
      "np.mean(np.log(results_predicted))"
     ],
     "language": "python",
     "metadata": {},
     "outputs": [
      {
       "metadata": {},
       "output_type": "pyout",
       "prompt_number": 22,
       "text": [
        "-1.7713686495483605"
       ]
      }
     ],
     "prompt_number": 22
    },
    {
     "cell_type": "code",
     "collapsed": false,
     "input": [
      "plt.plot(np.log(results_predicted))"
     ],
     "language": "python",
     "metadata": {},
     "outputs": [
      {
       "metadata": {},
       "output_type": "pyout",
       "prompt_number": 24,
       "text": [
        "[<matplotlib.lines.Line2D at 0x1a3f40b8>]"
       ]
      }
     ],
     "prompt_number": 24
    },
    {
     "cell_type": "code",
     "collapsed": false,
     "input": [],
     "language": "python",
     "metadata": {},
     "outputs": []
    }
   ],
   "metadata": {}
  }
 ]
}