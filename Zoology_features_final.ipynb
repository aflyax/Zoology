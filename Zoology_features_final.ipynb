{
 "metadata": {
  "name": "",
  "signature": "sha256:b019e05c596957fc1d0c2b96bd3c1233d74f9365571a2f8f8fd40c6f0a00fc99"
 },
 "nbformat": 3,
 "nbformat_minor": 0,
 "worksheets": [
  {
   "cells": [
    {
     "cell_type": "code",
     "collapsed": false,
     "input": [
      "#Import libraries for doing image analysis\n",
      "from skimage.io import imread\n",
      "from skimage.transform import resize\n",
      "from skimage.transform import rotate\n",
      "from sklearn.ensemble import RandomForestClassifier as RF\n",
      "import glob\n",
      "import os\n",
      "import pandas as pd\n",
      "from sklearn import cross_validation\n",
      "from sklearn.cross_validation import StratifiedKFold as KFold\n",
      "from sklearn.metrics import classification_report\n",
      "from matplotlib import pyplot as plt\n",
      "from matplotlib import colors\n",
      "from pylab import cm\n",
      "from skimage import segmentation\n",
      "from skimage.morphology import watershed\n",
      "from skimage import measure\n",
      "from skimage import morphology\n",
      "import numpy as np\n",
      "import pandas as pd\n",
      "from scipy import ndimage\n",
      "from skimage.feature import peak_local_max\n",
      "from sklearn import tree\n",
      "# make graphics inline\n",
      "%matplotlib inline"
     ],
     "language": "python",
     "metadata": {},
     "outputs": [],
     "prompt_number": 137
    },
    {
     "cell_type": "code",
     "collapsed": false,
     "input": [
      "import warnings\n",
      "warnings.filterwarnings(\"ignore\")"
     ],
     "language": "python",
     "metadata": {},
     "outputs": [],
     "prompt_number": 8
    },
    {
     "cell_type": "code",
     "collapsed": false,
     "input": [
      "#Get the largest region.  Takes as an input:\n",
      "#props--\n",
      "#labelmap--\n",
      "#imagethres--\n",
      "def getLargestRegion(props, labelmap, imagethres):\n",
      "    regionmaxprop = None\n",
      "    for regionprop in props:\n",
      "        # check to see if the region is at least 50% nonzero\n",
      "        if sum(imagethres[labelmap == regionprop.label])*1.0/regionprop.area < 0.50:\n",
      "            continue\n",
      "        if regionmaxprop is None:\n",
      "            regionmaxprop = regionprop\n",
      "        if regionmaxprop.filled_area < regionprop.filled_area:\n",
      "            regionmaxprop = regionprop\n",
      "    return (regionmaxprop, len(props))"
     ],
     "language": "python",
     "metadata": {},
     "outputs": [],
     "prompt_number": 91
    },
    {
     "cell_type": "code",
     "collapsed": false,
     "input": [
      "def getFeatures(image_input):\n",
      "    image = image_input.copy()\n",
      "    \n",
      "    # Create the label list\n",
      "    label_list = measure.label(image)\n",
      "    \n",
      "    #Dilate the image--is this necessary?\n",
      "    #imdilated = morphology.dilation(imagethr, np.ones((4,4)))\n",
      "    \n",
      "    #Take the label list and make the image into the label list of ints.\n",
      "    label_list = image*label_list\n",
      "    label_list = label_list.astype(int)\n",
      "    region_list = measure.regionprops(label_list)\n",
      "    \n",
      "    #Get the largest region and the region count.\n",
      "    (maxregion, region_count) = getLargestRegion(region_list, label_list, image)\n",
      "    ratio = 0.0\n",
      "    im_big = np.where(label_list == maxregion.label, 1.0, 0.)\n",
      "    im_rotate = rotate(im_big, angle=-90*2*maxregion.orientation/pi, order=0)\n",
      "    \n",
      "    # guard against cases where the segmentation fails by providing zeros\n",
      "    if ((not maxregion is None) and  (maxregion.major_axis_length != 0.0)):\n",
      "        ratio = 0.0 if maxregion is None else  maxregion.minor_axis_length*1.0 / maxregion.major_axis_length\n",
      "        feat_list = [ratio, region_count, maxregion.area, maxregion.convex_area, maxregion.eccentricity, maxregion.equivalent_diameter,\n",
      "            maxregion.extent, maxregion.filled_area, maxregion.major_axis_length, maxregion.minor_axis_length, \n",
      "            maxregion.orientation, maxregion.perimeter, maxregion.solidity] \n",
      "    else:\n",
      "        print \"***********EMPTY************\"\n",
      "        feat_list = [np.zeros(12)]\n",
      "        \n",
      "    image_size = im_rotate.shape[0]*im_rotate.shape[1]\n",
      "    im_pixel_list = np.reshape(im_rotate, (1, image_size))\n",
      "    output_features = np.zeros(image_size + len(feat_list))\n",
      "    output_features[0:len(feat_list)] = np.asarray(feat_list)\n",
      "    output_features[len(feat_list)::] = im_pixel_list\n",
      "    return output_features"
     ],
     "language": "python",
     "metadata": {},
     "outputs": [],
     "prompt_number": 476
    },
    {
     "cell_type": "code",
     "collapsed": false,
     "input": [
      "#This gets the image and transforms it into a maxpixel X maxpixel square\n",
      "def preprocess(im_name):\n",
      "    #Get the string and turn it into an image\n",
      "    max_pixel = 25\n",
      "    #--Make the image grey scale\n",
      "    im = imread(im_name, as_grey=True)\n",
      "    #--Rescale the image to 25x25\n",
      "    im_resized = resize(im, (max_pixel, max_pixel))\n",
      "    #--Threshold the image.\n",
      "    im_thr = np.where(im_resized > np.mean(im_resized),0.,1.0)\n",
      "    return im_thr"
     ],
     "language": "python",
     "metadata": {},
     "outputs": [],
     "prompt_number": 477
    },
    {
     "cell_type": "code",
     "collapsed": false,
     "input": [
      "example_file_names = []\n",
      "#im_list = []\n",
      "example_file_names.append(\"C:\\\\Users\\\\E\\\\Desktop\\\\Zoology_kaggle\\\\test\\\\1.jpg\")\n",
      "example_file_names.append(\"C:\\\\Users\\\\E\\\\Desktop\\\\Zoology_kaggle\\\\test\\\\10.jpg\")\n",
      "example_file_names.append(\"C:\\\\Users\\\\E\\\\Desktop\\\\Zoology_kaggle\\\\train\\\\acantharia_protist\\\\64.jpg\")\n",
      "example_file_names.append(\"C:\\\\Users\\\\E\\\\Desktop\\\\Zoology_kaggle\\\\train\\\\artifacts\\\\401.jpg\")\n",
      "im_list.append(imread(example_file_names[0], as_grey=True))\n",
      "im_list.append(imread(example_file_names[1], as_grey=True))\n",
      "im_list.append(imread(example_file_names[2], as_grey=True))\n",
      "im_list.append(imread(example_file_names[3], as_grey=True))"
     ],
     "language": "python",
     "metadata": {},
     "outputs": [],
     "prompt_number": 478
    },
    {
     "cell_type": "code",
     "collapsed": false,
     "input": [
      "#Need to decide whether to process as an image or a directory name of an image\n",
      "#Preprocess the the image into 25x25 first?  It may be rotating based on the larger image, while \n",
      "reg_img = preprocess(example_file_names[3])\n",
      "feat_list = getFeatures(reg_img)\n",
      "print type(feat_list[0:15])\n",
      "\n"
     ],
     "language": "python",
     "metadata": {},
     "outputs": [
      {
       "output_type": "stream",
       "stream": "stdout",
       "text": [
        "<type 'numpy.ndarray'>\n"
       ]
      }
     ],
     "prompt_number": 488
    },
    {
     "cell_type": "code",
     "collapsed": false,
     "input": [],
     "language": "python",
     "metadata": {},
     "outputs": []
    }
   ],
   "metadata": {}
  }
 ]
}