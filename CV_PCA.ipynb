{
 "metadata": {
  "name": "",
  "signature": "sha256:db800c418fd1ef73ec70e7e4b155efd546762c5ac2ee37c225f518020d50a5ea"
 },
 "nbformat": 3,
 "nbformat_minor": 0,
 "worksheets": [
  {
   "cells": [
    {
     "cell_type": "code",
     "collapsed": false,
     "input": [
      "import pandas as pd\n",
      "import numpy as np\n",
      "from sklearn import cross_validation\n",
      "import pylab as plt\n",
      "from sklearn.ensemble import RandomForestClassifier\n",
      "from sklearn.linear_model import LogisticRegression\n",
      "from sklearn.ensemble import AdaBoostClassifier\n",
      "from sklearn.tree import DecisionTreeClassifier\n",
      "from sklearn.naive_bayes import MultinomialNB\n",
      "from sklearn.preprocessing import StandardScaler\n",
      "from sklearn.cross_validation import StratifiedKFold\n",
      "from sklearn.metrics import classification_report\n",
      "from sklearn.decomposition import RandomizedPCA\n",
      "from sklearn.decomposition import FastICA\n",
      "import gc\n",
      "import pickle\n",
      "import math\n",
      "from sklearn.cross_validation import StratifiedKFold as KFold\n",
      "%matplotlib"
     ],
     "language": "python",
     "metadata": {},
     "outputs": [
      {
       "output_type": "stream",
       "stream": "stdout",
       "text": [
        "Using matplotlib backend: Qt4Agg\n"
       ]
      }
     ],
     "prompt_number": 1
    },
    {
     "cell_type": "code",
     "collapsed": false,
     "input": [
      "#Write to csv files.  This is in the windows filesystem.\n",
      "y_train_df = pd.read_csv('C:\\\\Users\\\\E\\\\Desktop\\\\Zoology_kaggle\\\\y_train_df.csv', index_col=0)\n",
      "x_train_df = pd.read_csv('C:\\\\Users\\\\E\\\\Desktop\\\\Zoology_kaggle\\\\x_train_df.csv', index_col=0)\n",
      "#x_train_hu_df = pd.read_csv('C:\\\\Users\\\\E\\\\Desktop\\\\Zoology_kaggle\\\\x_train_hu_big_df.csv', index_col=0)\n",
      "#x_total = pd.concat([x_train_hu_df, x_train_df], axis=1).iloc[:,:48]"
     ],
     "language": "python",
     "metadata": {},
     "outputs": [],
     "prompt_number": 2
    },
    {
     "cell_type": "code",
     "collapsed": false,
     "input": [
      "x_train_df.head().iloc[:,-625::]\n",
      "x_train_df.describe()"
     ],
     "language": "python",
     "metadata": {},
     "outputs": [
      {
       "html": [
        "<div style=\"max-height:1000px;max-width:1500px;overflow:auto;\">\n",
        "<table border=\"1\" class=\"dataframe\">\n",
        "  <thead>\n",
        "    <tr style=\"text-align: right;\">\n",
        "      <th></th>\n",
        "      <th>region_count</th>\n",
        "      <th>maxregion.area</th>\n",
        "      <th>maxregion.convex_area</th>\n",
        "      <th>maxregion.eccentricity</th>\n",
        "      <th>maxregion.equivalent_diameter</th>\n",
        "      <th>maxregion.extent</th>\n",
        "      <th>maxregion.filled_area</th>\n",
        "      <th>maxregion.major_axis_length</th>\n",
        "      <th>maxregion.minor_axis_length</th>\n",
        "      <th>maxregion.orientation</th>\n",
        "      <th>...</th>\n",
        "      <th>Pixel616</th>\n",
        "      <th>Pixel617</th>\n",
        "      <th>Pixel618</th>\n",
        "      <th>Pixel619</th>\n",
        "      <th>Pixel620</th>\n",
        "      <th>Pixel621</th>\n",
        "      <th>Pixel622</th>\n",
        "      <th>Pixel623</th>\n",
        "      <th>Pixel624</th>\n",
        "      <th>Pixel625</th>\n",
        "    </tr>\n",
        "  </thead>\n",
        "  <tbody>\n",
        "    <tr>\n",
        "      <th>count</th>\n",
        "      <td> 30334.000000</td>\n",
        "      <td> 30334.000000</td>\n",
        "      <td> 30334.000000</td>\n",
        "      <td> 30334.000000</td>\n",
        "      <td> 30334.000000</td>\n",
        "      <td> 30334.000000</td>\n",
        "      <td> 30334.000000</td>\n",
        "      <td> 30334.000000</td>\n",
        "      <td> 30334.000000</td>\n",
        "      <td> 30334.000000</td>\n",
        "      <td>...</td>\n",
        "      <td> 30334.000000</td>\n",
        "      <td> 30334.000000</td>\n",
        "      <td> 30334.000000</td>\n",
        "      <td> 30334.000000</td>\n",
        "      <td> 30334.000000</td>\n",
        "      <td> 30334.000000</td>\n",
        "      <td> 30334.000000</td>\n",
        "      <td> 30334.000000</td>\n",
        "      <td> 30334.000000</td>\n",
        "      <td> 30334.000000</td>\n",
        "    </tr>\n",
        "    <tr>\n",
        "      <th>mean</th>\n",
        "      <td>     3.500330</td>\n",
        "      <td>    86.755489</td>\n",
        "      <td>   137.103745</td>\n",
        "      <td>     0.807225</td>\n",
        "      <td>    10.259654</td>\n",
        "      <td>     0.397553</td>\n",
        "      <td>    90.435485</td>\n",
        "      <td>    19.069002</td>\n",
        "      <td>     9.163944</td>\n",
        "      <td>     0.245992</td>\n",
        "      <td>...</td>\n",
        "      <td>     0.007714</td>\n",
        "      <td>     0.005934</td>\n",
        "      <td>     0.004516</td>\n",
        "      <td>     0.003396</td>\n",
        "      <td>     0.002176</td>\n",
        "      <td>     0.001978</td>\n",
        "      <td>     0.001483</td>\n",
        "      <td>     0.001187</td>\n",
        "      <td>     0.000725</td>\n",
        "      <td>     0.000429</td>\n",
        "    </tr>\n",
        "    <tr>\n",
        "      <th>std</th>\n",
        "      <td>     4.170427</td>\n",
        "      <td>    39.226412</td>\n",
        "      <td>    65.121877</td>\n",
        "      <td>     0.160767</td>\n",
        "      <td>     2.280391</td>\n",
        "      <td>     0.157737</td>\n",
        "      <td>    43.721222</td>\n",
        "      <td>     5.242852</td>\n",
        "      <td>     3.746975</td>\n",
        "      <td>     0.784878</td>\n",
        "      <td>...</td>\n",
        "      <td>     0.087492</td>\n",
        "      <td>     0.076804</td>\n",
        "      <td>     0.067053</td>\n",
        "      <td>     0.058173</td>\n",
        "      <td>     0.046595</td>\n",
        "      <td>     0.044431</td>\n",
        "      <td>     0.038488</td>\n",
        "      <td>     0.034430</td>\n",
        "      <td>     0.026921</td>\n",
        "      <td>     0.020698</td>\n",
        "    </tr>\n",
        "    <tr>\n",
        "      <th>min</th>\n",
        "      <td>    -1.000000</td>\n",
        "      <td>     0.000000</td>\n",
        "      <td>     0.000000</td>\n",
        "      <td>     0.000000</td>\n",
        "      <td>     0.000000</td>\n",
        "      <td>     0.000000</td>\n",
        "      <td>     0.000000</td>\n",
        "      <td>     0.000000</td>\n",
        "      <td>     0.000000</td>\n",
        "      <td>    -1.570796</td>\n",
        "      <td>...</td>\n",
        "      <td>     0.000000</td>\n",
        "      <td>     0.000000</td>\n",
        "      <td>     0.000000</td>\n",
        "      <td>     0.000000</td>\n",
        "      <td>     0.000000</td>\n",
        "      <td>     0.000000</td>\n",
        "      <td>     0.000000</td>\n",
        "      <td>     0.000000</td>\n",
        "      <td>     0.000000</td>\n",
        "      <td>     0.000000</td>\n",
        "    </tr>\n",
        "    <tr>\n",
        "      <th>25%</th>\n",
        "      <td>     1.000000</td>\n",
        "      <td>    59.000000</td>\n",
        "      <td>    98.000000</td>\n",
        "      <td>     0.698716</td>\n",
        "      <td>     8.667245</td>\n",
        "      <td>     0.277311</td>\n",
        "      <td>    59.000000</td>\n",
        "      <td>    15.155177</td>\n",
        "      <td>     6.506856</td>\n",
        "      <td>    -0.449637</td>\n",
        "      <td>...</td>\n",
        "      <td>     0.000000</td>\n",
        "      <td>     0.000000</td>\n",
        "      <td>     0.000000</td>\n",
        "      <td>     0.000000</td>\n",
        "      <td>     0.000000</td>\n",
        "      <td>     0.000000</td>\n",
        "      <td>     0.000000</td>\n",
        "      <td>     0.000000</td>\n",
        "      <td>     0.000000</td>\n",
        "      <td>     0.000000</td>\n",
        "    </tr>\n",
        "    <tr>\n",
        "      <th>50%</th>\n",
        "      <td>     2.000000</td>\n",
        "      <td>    81.000000</td>\n",
        "      <td>   126.000000</td>\n",
        "      <td>     0.846785</td>\n",
        "      <td>    10.155413</td>\n",
        "      <td>     0.373825</td>\n",
        "      <td>    82.000000</td>\n",
        "      <td>    17.936826</td>\n",
        "      <td>     9.061124</td>\n",
        "      <td>     0.531850</td>\n",
        "      <td>...</td>\n",
        "      <td>     0.000000</td>\n",
        "      <td>     0.000000</td>\n",
        "      <td>     0.000000</td>\n",
        "      <td>     0.000000</td>\n",
        "      <td>     0.000000</td>\n",
        "      <td>     0.000000</td>\n",
        "      <td>     0.000000</td>\n",
        "      <td>     0.000000</td>\n",
        "      <td>     0.000000</td>\n",
        "      <td>     0.000000</td>\n",
        "    </tr>\n",
        "    <tr>\n",
        "      <th>75%</th>\n",
        "      <td>     4.000000</td>\n",
        "      <td>   107.000000</td>\n",
        "      <td>   160.000000</td>\n",
        "      <td>     0.947029</td>\n",
        "      <td>    11.672045</td>\n",
        "      <td>     0.507937</td>\n",
        "      <td>   113.000000</td>\n",
        "      <td>    22.524034</td>\n",
        "      <td>    11.326123</td>\n",
        "      <td>     0.831159</td>\n",
        "      <td>...</td>\n",
        "      <td>     0.000000</td>\n",
        "      <td>     0.000000</td>\n",
        "      <td>     0.000000</td>\n",
        "      <td>     0.000000</td>\n",
        "      <td>     0.000000</td>\n",
        "      <td>     0.000000</td>\n",
        "      <td>     0.000000</td>\n",
        "      <td>     0.000000</td>\n",
        "      <td>     0.000000</td>\n",
        "      <td>     0.000000</td>\n",
        "    </tr>\n",
        "    <tr>\n",
        "      <th>max</th>\n",
        "      <td>    40.000000</td>\n",
        "      <td>   348.000000</td>\n",
        "      <td>   616.000000</td>\n",
        "      <td>     1.000000</td>\n",
        "      <td>    21.049640</td>\n",
        "      <td>     1.000000</td>\n",
        "      <td>   490.000000</td>\n",
        "      <td>    40.848002</td>\n",
        "      <td>    30.814722</td>\n",
        "      <td>     1.570290</td>\n",
        "      <td>...</td>\n",
        "      <td>     1.000000</td>\n",
        "      <td>     1.000000</td>\n",
        "      <td>     1.000000</td>\n",
        "      <td>     1.000000</td>\n",
        "      <td>     1.000000</td>\n",
        "      <td>     1.000000</td>\n",
        "      <td>     1.000000</td>\n",
        "      <td>     1.000000</td>\n",
        "      <td>     1.000000</td>\n",
        "      <td>     1.000000</td>\n",
        "    </tr>\n",
        "  </tbody>\n",
        "</table>\n",
        "<p>8 rows \u00d7 637 columns</p>\n",
        "</div>"
       ],
       "metadata": {},
       "output_type": "pyout",
       "prompt_number": 4,
       "text": [
        "       region_count  maxregion.area  maxregion.convex_area  \\\n",
        "count  30334.000000    30334.000000           30334.000000   \n",
        "mean       3.500330       86.755489             137.103745   \n",
        "std        4.170427       39.226412              65.121877   \n",
        "min       -1.000000        0.000000               0.000000   \n",
        "25%        1.000000       59.000000              98.000000   \n",
        "50%        2.000000       81.000000             126.000000   \n",
        "75%        4.000000      107.000000             160.000000   \n",
        "max       40.000000      348.000000             616.000000   \n",
        "\n",
        "       maxregion.eccentricity  maxregion.equivalent_diameter  \\\n",
        "count            30334.000000                   30334.000000   \n",
        "mean                 0.807225                      10.259654   \n",
        "std                  0.160767                       2.280391   \n",
        "min                  0.000000                       0.000000   \n",
        "25%                  0.698716                       8.667245   \n",
        "50%                  0.846785                      10.155413   \n",
        "75%                  0.947029                      11.672045   \n",
        "max                  1.000000                      21.049640   \n",
        "\n",
        "       maxregion.extent  maxregion.filled_area  maxregion.major_axis_length  \\\n",
        "count      30334.000000           30334.000000                 30334.000000   \n",
        "mean           0.397553              90.435485                    19.069002   \n",
        "std            0.157737              43.721222                     5.242852   \n",
        "min            0.000000               0.000000                     0.000000   \n",
        "25%            0.277311              59.000000                    15.155177   \n",
        "50%            0.373825              82.000000                    17.936826   \n",
        "75%            0.507937             113.000000                    22.524034   \n",
        "max            1.000000             490.000000                    40.848002   \n",
        "\n",
        "       maxregion.minor_axis_length  maxregion.orientation  \\\n",
        "count                 30334.000000           30334.000000   \n",
        "mean                      9.163944               0.245992   \n",
        "std                       3.746975               0.784878   \n",
        "min                       0.000000              -1.570796   \n",
        "25%                       6.506856              -0.449637   \n",
        "50%                       9.061124               0.531850   \n",
        "75%                      11.326123               0.831159   \n",
        "max                      30.814722               1.570290   \n",
        "\n",
        "               ...                Pixel616      Pixel617      Pixel618  \\\n",
        "count          ...            30334.000000  30334.000000  30334.000000   \n",
        "mean           ...                0.007714      0.005934      0.004516   \n",
        "std            ...                0.087492      0.076804      0.067053   \n",
        "min            ...                0.000000      0.000000      0.000000   \n",
        "25%            ...                0.000000      0.000000      0.000000   \n",
        "50%            ...                0.000000      0.000000      0.000000   \n",
        "75%            ...                0.000000      0.000000      0.000000   \n",
        "max            ...                1.000000      1.000000      1.000000   \n",
        "\n",
        "           Pixel619      Pixel620      Pixel621      Pixel622      Pixel623  \\\n",
        "count  30334.000000  30334.000000  30334.000000  30334.000000  30334.000000   \n",
        "mean       0.003396      0.002176      0.001978      0.001483      0.001187   \n",
        "std        0.058173      0.046595      0.044431      0.038488      0.034430   \n",
        "min        0.000000      0.000000      0.000000      0.000000      0.000000   \n",
        "25%        0.000000      0.000000      0.000000      0.000000      0.000000   \n",
        "50%        0.000000      0.000000      0.000000      0.000000      0.000000   \n",
        "75%        0.000000      0.000000      0.000000      0.000000      0.000000   \n",
        "max        1.000000      1.000000      1.000000      1.000000      1.000000   \n",
        "\n",
        "           Pixel624      Pixel625  \n",
        "count  30334.000000  30334.000000  \n",
        "mean       0.000725      0.000429  \n",
        "std        0.026921      0.020698  \n",
        "min        0.000000      0.000000  \n",
        "25%        0.000000      0.000000  \n",
        "50%        0.000000      0.000000  \n",
        "75%        0.000000      0.000000  \n",
        "max        1.000000      1.000000  \n",
        "\n",
        "[8 rows x 637 columns]"
       ]
      }
     ],
     "prompt_number": 4
    },
    {
     "cell_type": "code",
     "collapsed": false,
     "input": [
      "X_train, X_test, y_train, y_test = cross_validation.train_test_split(x_train_df.iloc[:,-625::], y_train_df, test_size=0.15)"
     ],
     "language": "python",
     "metadata": {},
     "outputs": [],
     "prompt_number": 8
    },
    {
     "cell_type": "code",
     "collapsed": false,
     "input": [
      "pca = RandomizedPCA(n_components=30)"
     ],
     "language": "python",
     "metadata": {},
     "outputs": [],
     "prompt_number": 9
    },
    {
     "cell_type": "code",
     "collapsed": false,
     "input": [
      "pca.fit(X_train) "
     ],
     "language": "python",
     "metadata": {},
     "outputs": [
      {
       "metadata": {},
       "output_type": "pyout",
       "prompt_number": 10,
       "text": [
        "RandomizedPCA(copy=True, iterated_power=3, n_components=30, random_state=None,\n",
        "       whiten=False)"
       ]
      }
     ],
     "prompt_number": 10
    },
    {
     "cell_type": "code",
     "collapsed": false,
     "input": [
      "plt.plot(pca.components_[0,:]) \n"
     ],
     "language": "python",
     "metadata": {},
     "outputs": [
      {
       "metadata": {},
       "output_type": "pyout",
       "prompt_number": 11,
       "text": [
        "[<matplotlib.lines.Line2D at 0x1c33e160>]"
       ]
      }
     ],
     "prompt_number": 11
    },
    {
     "cell_type": "code",
     "collapsed": false,
     "input": [
      "plt.imshow(np.reshape(pca.components_[2,:], (25,25)))"
     ],
     "language": "python",
     "metadata": {},
     "outputs": [
      {
       "metadata": {},
       "output_type": "pyout",
       "prompt_number": 15,
       "text": [
        "<matplotlib.image.AxesImage at 0x207c09e8>"
       ]
      }
     ],
     "prompt_number": 15
    },
    {
     "cell_type": "code",
     "collapsed": false,
     "input": [
      "X_train_fac = pca.transform(X_train)\n",
      "X_test_fac = pca.transform(X_test)"
     ],
     "language": "python",
     "metadata": {},
     "outputs": [],
     "prompt_number": 61
    },
    {
     "cell_type": "code",
     "collapsed": false,
     "input": [
      "print X_test_fac.shape\n",
      "print X_train_fac.shape"
     ],
     "language": "python",
     "metadata": {},
     "outputs": [
      {
       "output_type": "stream",
       "stream": "stdout",
       "text": [
        "(4551L, 30L)\n",
        "(25783L, 30L)\n"
       ]
      }
     ],
     "prompt_number": 62
    },
    {
     "cell_type": "code",
     "collapsed": false,
     "input": [
      "sum(pca.explained_variance_ratio_) #RandomPCA -- 10-.43, 20- .529, 30- .58, 40-.62, 50- .65  #"
     ],
     "language": "python",
     "metadata": {},
     "outputs": [
      {
       "metadata": {},
       "output_type": "pyout",
       "prompt_number": 63,
       "text": [
        "0.58220966965408272"
       ]
      }
     ],
     "prompt_number": 63
    },
    {
     "cell_type": "code",
     "collapsed": false,
     "input": [
      "clf_ADA = AdaBoostClassifier(DecisionTreeClassifier(max_depth=18), n_estimators=100, learning_rate=.5)#\n",
      "#clf_RF = RandomForestClassifier(n_estimators=100, n_jobs=2)"
     ],
     "language": "python",
     "metadata": {},
     "outputs": [],
     "prompt_number": 64
    },
    {
     "cell_type": "code",
     "collapsed": false,
     "input": [
      "clf_ADA.fit(X_train, np.ravel(y_train))\n",
      "#clf_RF.fit(X_train_fac, np.ravel(y_train))"
     ],
     "language": "python",
     "metadata": {},
     "outputs": []
    },
    {
     "cell_type": "code",
     "collapsed": false,
     "input": [
      "results_ADA = clf_ADA.predict_proba(X_test)   #10 - .385, 20 -- .408, 30--.409, 40--.406, \n",
      "#results_RF = clf_RF.predict_proba(X_test_fac)\n",
      "print clf_ADA.score(X_test, y_test)\n",
      "#print clf_RF.score(X_test_fac, y_test)"
     ],
     "language": "python",
     "metadata": {},
     "outputs": [
      {
       "output_type": "stream",
       "stream": "stdout",
       "text": [
        "0.341902878488\n"
       ]
      }
     ],
     "prompt_number": 66
    },
    {
     "cell_type": "code",
     "collapsed": false,
     "input": [
      "results_predicted = [results_RF[i,int(y_test[i])] for i in xrange(len(results_RF))]*.95 + (1.0/121)*np.ones(results_ADA.shape)*.05"
     ],
     "language": "python",
     "metadata": {},
     "outputs": [
      {
       "ename": "TypeError",
       "evalue": "can't multiply sequence by non-int of type 'float'",
       "output_type": "pyerr",
       "traceback": [
        "\u001b[1;31m---------------------------------------------------------------------------\u001b[0m\n\u001b[1;31mTypeError\u001b[0m                                 Traceback (most recent call last)",
        "\u001b[1;32m<ipython-input-69-7ac8326ee204>\u001b[0m in \u001b[0;36m<module>\u001b[1;34m()\u001b[0m\n\u001b[1;32m----> 1\u001b[1;33m \u001b[0mresults_predicted\u001b[0m \u001b[1;33m=\u001b[0m \u001b[1;33m[\u001b[0m\u001b[0mresults_RF\u001b[0m\u001b[1;33m[\u001b[0m\u001b[0mi\u001b[0m\u001b[1;33m,\u001b[0m\u001b[0mint\u001b[0m\u001b[1;33m(\u001b[0m\u001b[0my_test\u001b[0m\u001b[1;33m[\u001b[0m\u001b[0mi\u001b[0m\u001b[1;33m]\u001b[0m\u001b[1;33m)\u001b[0m\u001b[1;33m]\u001b[0m \u001b[1;32mfor\u001b[0m \u001b[0mi\u001b[0m \u001b[1;32min\u001b[0m \u001b[0mxrange\u001b[0m\u001b[1;33m(\u001b[0m\u001b[0mlen\u001b[0m\u001b[1;33m(\u001b[0m\u001b[0mresults_RF\u001b[0m\u001b[1;33m)\u001b[0m\u001b[1;33m)\u001b[0m\u001b[1;33m]\u001b[0m\u001b[1;33m*\u001b[0m\u001b[1;36m.95\u001b[0m \u001b[1;33m+\u001b[0m \u001b[1;33m(\u001b[0m\u001b[1;36m1\u001b[0m\u001b[1;33m/\u001b[0m\u001b[1;36m121\u001b[0m\u001b[1;33m)\u001b[0m\u001b[1;33m*\u001b[0m\u001b[0mnp\u001b[0m\u001b[1;33m.\u001b[0m\u001b[0mones\u001b[0m\u001b[1;33m(\u001b[0m\u001b[0mresults_ADA\u001b[0m\u001b[1;33m.\u001b[0m\u001b[0mshape\u001b[0m\u001b[1;33m)\u001b[0m\u001b[1;33m*\u001b[0m\u001b[1;36m.05\u001b[0m\u001b[1;33m\u001b[0m\u001b[0m\n\u001b[0m",
        "\u001b[1;31mTypeError\u001b[0m: can't multiply sequence by non-int of type 'float'"
       ]
      }
     ],
     "prompt_number": 69
    },
    {
     "cell_type": "code",
     "collapsed": false,
     "input": [
      "np.mean(np.log(results_predicted))"
     ],
     "language": "python",
     "metadata": {},
     "outputs": [
      {
       "metadata": {},
       "output_type": "pyout",
       "prompt_number": 68,
       "text": [
        "-inf"
       ]
      }
     ],
     "prompt_number": 68
    },
    {
     "cell_type": "code",
     "collapsed": false,
     "input": [
      "plt.plot(clf_RF.feature_importances_)"
     ],
     "language": "python",
     "metadata": {},
     "outputs": [
      {
       "metadata": {},
       "output_type": "pyout",
       "prompt_number": 54,
       "text": [
        "[<matplotlib.lines.Line2D at 0x252ff160>]"
       ]
      }
     ],
     "prompt_number": 54
    },
    {
     "cell_type": "code",
     "collapsed": false,
     "input": [],
     "language": "python",
     "metadata": {},
     "outputs": []
    }
   ],
   "metadata": {}
  }
 ]
}