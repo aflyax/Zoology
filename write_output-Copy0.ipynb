{
 "metadata": {
  "name": "",
  "signature": "sha256:8985b6a64b37ed6d8fe03d055ce51dfdf44b7a7c887ddc9b10675d6914f34267"
 },
 "nbformat": 3,
 "nbformat_minor": 0,
 "worksheets": [
  {
   "cells": [
    {
     "cell_type": "code",
     "collapsed": false,
     "input": [
      "import pandas as pd\n",
      "import numpy as np\n",
      "from sklearn import cross_validation\n",
      "import pylab as plt\n",
      "from sklearn.ensemble import RandomForestClassifier\n",
      "from sklearn.linear_model import LogisticRegression\n",
      "import gc\n",
      "import pickle\n",
      "%matplotlib"
     ],
     "language": "python",
     "metadata": {},
     "outputs": [
      {
       "output_type": "stream",
       "stream": "stdout",
       "text": [
        "Using matplotlib backend: Qt4Agg\n"
       ]
      }
     ],
     "prompt_number": 1
    },
    {
     "cell_type": "code",
     "collapsed": false,
     "input": [
      "#Write to csv files.  This is in the windows filesystem.\n",
      "y_train_df = pd.read_csv('C:\\\\Users\\\\E\\\\Desktop\\\\Zoology_kaggle\\\\y_train_df.csv', index_col=0)\n",
      "x_train_df = pd.read_csv('C:\\\\Users\\\\E\\\\Desktop\\\\Zoology_kaggle\\\\x_train_hu_big_df.csv', index_col=0)\n",
      "x_test_df = pd.read_csv('C:\\\\Users\\\\E\\\\Desktop\\\\Zoology_kaggle\\\\x_test_hu_big_df.csv', index_col=0)"
     ],
     "language": "python",
     "metadata": {},
     "outputs": [],
     "prompt_number": 2
    },
    {
     "cell_type": "code",
     "collapsed": false,
     "input": [
      "clf_RF = RandomForestClassifier(n_estimators=400, oob_score=True)\n",
      "#clf_LOG = LogisticRegression(class_weight='auto')"
     ],
     "language": "python",
     "metadata": {},
     "outputs": [],
     "prompt_number": 3
    },
    {
     "cell_type": "code",
     "collapsed": false,
     "input": [
      "clf_RF.fit(x_train_df, np.ravel(y_train_df))\n",
      "#clf_LOG.fit(x_train_df, np.ravel(y_train_df))"
     ],
     "language": "python",
     "metadata": {},
     "outputs": [
      {
       "metadata": {},
       "output_type": "pyout",
       "prompt_number": 4,
       "text": [
        "RandomForestClassifier(bootstrap=True, compute_importances=None,\n",
        "            criterion='gini', max_depth=None, max_features='auto',\n",
        "            max_leaf_nodes=None, min_density=None, min_samples_leaf=1,\n",
        "            min_samples_split=2, n_estimators=400, n_jobs=1,\n",
        "            oob_score=True, random_state=None, verbose=0)"
       ]
      }
     ],
     "prompt_number": 4
    },
    {
     "cell_type": "code",
     "collapsed": false,
     "input": [
      "result_RF = clf_RF.predict_proba(x_test_df)\n",
      "#results_LOG = clf_LOG.predict_proba(x_test_df)"
     ],
     "language": "python",
     "metadata": {},
     "outputs": [],
     "prompt_number": 10
    },
    {
     "cell_type": "code",
     "collapsed": false,
     "input": [
      "print result_RF.shape\n",
      "#print results_LOG.shape"
     ],
     "language": "python",
     "metadata": {},
     "outputs": [
      {
       "output_type": "stream",
       "stream": "stdout",
       "text": [
        "(130400L, 121L)\n",
        "(130400L, 121L)\n"
       ]
      }
     ],
     "prompt_number": 12
    },
    {
     "cell_type": "code",
     "collapsed": false,
     "input": [
      "#results_towrite = result_RF*(10.0/16) + results_LOG*(5.0/16) + (np.ones(result_RF.shape)/121.0)*(1/16)\n",
      "results_towrite = result_RF*.975 + (np.ones(result_RF.shape)/121.0)*.025"
     ],
     "language": "python",
     "metadata": {},
     "outputs": [],
     "prompt_number": 18
    },
    {
     "cell_type": "code",
     "collapsed": false,
     "input": [
      "plt.plot(results_towrite[1])"
     ],
     "language": "python",
     "metadata": {},
     "outputs": [
      {
       "metadata": {},
       "output_type": "pyout",
       "prompt_number": 26,
       "text": [
        "[<matplotlib.lines.Line2D at 0x3e909278>]"
       ]
      }
     ],
     "prompt_number": 26
    },
    {
     "cell_type": "code",
     "collapsed": false,
     "input": [
      "names = pickle.load(open('C:\\\\Users\\\\E\\\\Desktop\\\\Zoology_kaggle\\\\names.csv', 'r'))"
     ],
     "language": "python",
     "metadata": {},
     "outputs": [],
     "prompt_number": 27
    },
    {
     "cell_type": "code",
     "collapsed": false,
     "input": [
      "names"
     ],
     "language": "python",
     "metadata": {},
     "outputs": [
      {
       "metadata": {},
       "output_type": "pyout",
       "prompt_number": 28,
       "text": [
        "['copepod_calanoid_small_longantennae',\n",
        " 'appendicularian_fritillaridae',\n",
        " 'siphonophore_other_parts',\n",
        " 'appendicularian_straight',\n",
        " 'echinoderm_larva_pluteus_early',\n",
        " 'hydromedusae_shapeA_sideview_small',\n",
        " 'hydromedusae_liriope',\n",
        " 'chaetognath_sagitta',\n",
        " 'heteropod',\n",
        " 'chaetognath_non_sagitta',\n",
        " 'diatom_chain_string',\n",
        " 'copepod_calanoid',\n",
        " 'artifacts',\n",
        " 'amphipods',\n",
        " 'copepod_calanoid_large',\n",
        " 'copepod_calanoid_large_side_antennatucked',\n",
        " 'ctenophore_cestid',\n",
        " 'pteropod_theco_dev_seq',\n",
        " 'siphonophore_calycophoran_rocketship_young',\n",
        " 'shrimp_sergestidae',\n",
        " 'decapods',\n",
        " 'echinopluteus',\n",
        " 'hydromedusae_bell_and_tentacles',\n",
        " 'hydromedusae_narco_dark',\n",
        " 'hydromedusae_haliscera_small_sideview',\n",
        " 'unknown_unclassified',\n",
        " 'pteropod_triangle',\n",
        " 'hydromedusae_other',\n",
        " 'hydromedusae_aglaura',\n",
        " 'invertebrate_larvae_other_A',\n",
        " 'invertebrate_larvae_other_B',\n",
        " 'siphonophore_calycophoran_abylidae',\n",
        " 'echinoderm_larva_pluteus_typeC',\n",
        " 'hydromedusae_sideview_big',\n",
        " 'fish_larvae_myctophids',\n",
        " 'fish_larvae_leptocephali',\n",
        " 'hydromedusae_solmaris',\n",
        " 'euphausiids',\n",
        " 'echinoderm_larva_pluteus_urchin',\n",
        " 'acantharia_protist_big_center',\n",
        " 'crustacean_other',\n",
        " 'siphonophore_calycophoran_rocketship_adult',\n",
        " 'echinoderm_larva_pluteus_brittlestar',\n",
        " 'artifacts_edge',\n",
        " 'copepod_calanoid_flatheads',\n",
        " 'siphonophore_physonect',\n",
        " 'hydromedusae_narco_young',\n",
        " 'stomatopod',\n",
        " 'unknown_sticks',\n",
        " 'copepod_cyclopoid_oithona',\n",
        " 'echinoderm_larva_seastar_brachiolaria',\n",
        " 'hydromedusae_h15',\n",
        " 'copepod_calanoid_frillyAntennae',\n",
        " 'protist_other',\n",
        " 'copepod_calanoid_eucalanus',\n",
        " 'fish_larvae_deep_body',\n",
        " 'copepod_cyclopoid_copilia',\n",
        " 'protist_fuzzy_olive',\n",
        " 'appendicularian_s_shape',\n",
        " 'polychaete',\n",
        " 'tunicate_doliolid',\n",
        " 'trichodesmium_tuft',\n",
        " 'diatom_chain_tube',\n",
        " 'echinoderm_seacucumber_auricularia_larva',\n",
        " 'ctenophore_cydippid_no_tentacles',\n",
        " 'hydromedusae_narcomedusae',\n",
        " 'jellies_tentacles',\n",
        " 'tunicate_salp',\n",
        " 'hydromedusae_solmundella',\n",
        " 'protist_star',\n",
        " 'pteropod_butterfly',\n",
        " 'siphonophore_physonect_young',\n",
        " 'echinoderm_larva_seastar_bipinnaria',\n",
        " 'protist_noctiluca',\n",
        " 'radiolarian_colony',\n",
        " 'hydromedusae_haliscera',\n",
        " 'hydromedusae_partial_dark',\n",
        " 'fish_larvae_thin_body',\n",
        " 'fish_larvae_very_thin_body',\n",
        " 'detritus_blob',\n",
        " 'hydromedusae_typeF',\n",
        " 'copepod_calanoid_eggs',\n",
        " 'hydromedusae_typeD',\n",
        " 'hydromedusae_typeE',\n",
        " 'tornaria_acorn_worm_larvae',\n",
        " 'detritus_other',\n",
        " 'tunicate_partial',\n",
        " 'shrimp_zoea',\n",
        " 'hydromedusae_typeD_bell_and_tentacles',\n",
        " 'fecal_pellet',\n",
        " 'ephyra',\n",
        " 'tunicate_doliolid_nurse',\n",
        " 'euphausiids_young',\n",
        " 'hydromedusae_shapeB',\n",
        " 'hydromedusae_shapeA',\n",
        " 'copepod_cyclopoid_oithona_eggs',\n",
        " 'unknown_blobs_and_smudges',\n",
        " 'fish_larvae_medium_body',\n",
        " 'siphonophore_calycophoran_sphaeronectes_young',\n",
        " 'radiolarian_chain',\n",
        " 'acantharia_protist_halo',\n",
        " 'shrimp-like_other',\n",
        " 'trochophore_larvae',\n",
        " 'shrimp_caridean',\n",
        " 'siphonophore_calycophoran_sphaeronectes',\n",
        " 'tunicate_salp_chains',\n",
        " 'ctenophore_cydippid_tentacles',\n",
        " 'appendicularian_slight_curve',\n",
        " 'chaetognath_other',\n",
        " 'trichodesmium_bowtie',\n",
        " 'siphonophore_calycophoran_sphaeronectes_stem',\n",
        " 'chordate_type1',\n",
        " 'detritus_filamentous',\n",
        " 'copepod_calanoid_octomoms',\n",
        " 'siphonophore_partial',\n",
        " 'ctenophore_lobate',\n",
        " 'copepod_other',\n",
        " 'protist_dark_center',\n",
        " 'acantharia_protist',\n",
        " 'trichodesmium_puff',\n",
        " 'trichodesmium_multiple']"
       ]
      }
     ],
     "prompt_number": 28
    },
    {
     "cell_type": "code",
     "collapsed": true,
     "input": [
      "plt.plot(results_towrite[0])"
     ],
     "language": "python",
     "metadata": {},
     "outputs": [
      {
       "metadata": {},
       "output_type": "pyout",
       "prompt_number": 129,
       "text": [
        "[<matplotlib.lines.Line2D at 0x3bc98cf8>]"
       ]
      },
      {
       "metadata": {},
       "output_type": "display_data",
       "png": "[encoded data removed]",
       "text": [
        "<matplotlib.figure.Figure at 0x5095e080>"
       ]
      }
     ],
     "prompt_number": 129
    },
    {
     "cell_type": "code",
     "collapsed": false,
     "input": [
      "output_df = pd.DataFrame(results_towrite, index=x_test_df.index, columns=names)\n",
      "output_df.index.name = 'image'"
     ],
     "language": "python",
     "metadata": {},
     "outputs": [],
     "prompt_number": 29
    },
    {
     "cell_type": "code",
     "collapsed": false,
     "input": [
      "output_df[0:2]"
     ],
     "language": "python",
     "metadata": {},
     "outputs": [
      {
       "html": [
        "<div style=\"max-height:1000px;max-width:1500px;overflow:auto;\">\n",
        "<table border=\"1\" class=\"dataframe\">\n",
        "  <thead>\n",
        "    <tr style=\"text-align: right;\">\n",
        "      <th></th>\n",
        "      <th>copepod_calanoid_small_longantennae</th>\n",
        "      <th>appendicularian_fritillaridae</th>\n",
        "      <th>siphonophore_other_parts</th>\n",
        "      <th>appendicularian_straight</th>\n",
        "      <th>echinoderm_larva_pluteus_early</th>\n",
        "      <th>hydromedusae_shapeA_sideview_small</th>\n",
        "      <th>hydromedusae_liriope</th>\n",
        "      <th>chaetognath_sagitta</th>\n",
        "      <th>heteropod</th>\n",
        "      <th>chaetognath_non_sagitta</th>\n",
        "      <th>...</th>\n",
        "      <th>chordate_type1</th>\n",
        "      <th>detritus_filamentous</th>\n",
        "      <th>copepod_calanoid_octomoms</th>\n",
        "      <th>siphonophore_partial</th>\n",
        "      <th>ctenophore_lobate</th>\n",
        "      <th>copepod_other</th>\n",
        "      <th>protist_dark_center</th>\n",
        "      <th>acantharia_protist</th>\n",
        "      <th>trichodesmium_puff</th>\n",
        "      <th>trichodesmium_multiple</th>\n",
        "    </tr>\n",
        "    <tr>\n",
        "      <th>image</th>\n",
        "      <th></th>\n",
        "      <th></th>\n",
        "      <th></th>\n",
        "      <th></th>\n",
        "      <th></th>\n",
        "      <th></th>\n",
        "      <th></th>\n",
        "      <th></th>\n",
        "      <th></th>\n",
        "      <th></th>\n",
        "      <th></th>\n",
        "      <th></th>\n",
        "      <th></th>\n",
        "      <th></th>\n",
        "      <th></th>\n",
        "      <th></th>\n",
        "      <th></th>\n",
        "      <th></th>\n",
        "      <th></th>\n",
        "      <th></th>\n",
        "      <th></th>\n",
        "    </tr>\n",
        "  </thead>\n",
        "  <tbody>\n",
        "    <tr>\n",
        "      <th>1.jpg</th>\n",
        "      <td> 3.192686e-08</td>\n",
        "      <td> 0.000009</td>\n",
        "      <td> 0.000003</td>\n",
        "      <td> 0.016587</td>\n",
        "      <td> 0.000016</td>\n",
        "      <td> 0.000927</td>\n",
        "      <td> 0.000002</td>\n",
        "      <td> 0.000579</td>\n",
        "      <td> 0.000000</td>\n",
        "      <td> 0.000304</td>\n",
        "      <td>...</td>\n",
        "      <td> 1.206085e-05</td>\n",
        "      <td> 0.026646</td>\n",
        "      <td> 0.000009</td>\n",
        "      <td> 0.000008</td>\n",
        "      <td> 0.000001</td>\n",
        "      <td> 0.000006</td>\n",
        "      <td> 0.000028</td>\n",
        "      <td> 0.000483</td>\n",
        "      <td> 0.003457</td>\n",
        "      <td> 0.000012</td>\n",
        "    </tr>\n",
        "    <tr>\n",
        "      <th>10.jpg</th>\n",
        "      <td> 6.667812e-05</td>\n",
        "      <td> 0.001712</td>\n",
        "      <td> 0.000072</td>\n",
        "      <td> 0.000070</td>\n",
        "      <td> 0.004491</td>\n",
        "      <td> 0.003650</td>\n",
        "      <td> 0.000039</td>\n",
        "      <td> 0.000003</td>\n",
        "      <td> 0.000002</td>\n",
        "      <td> 0.000100</td>\n",
        "      <td>...</td>\n",
        "      <td> 4.420904e-10</td>\n",
        "      <td> 0.015918</td>\n",
        "      <td> 0.000001</td>\n",
        "      <td> 0.000000</td>\n",
        "      <td> 0.000000</td>\n",
        "      <td> 0.000043</td>\n",
        "      <td> 0.003318</td>\n",
        "      <td> 0.003539</td>\n",
        "      <td> 0.003125</td>\n",
        "      <td> 0.000004</td>\n",
        "    </tr>\n",
        "  </tbody>\n",
        "</table>\n",
        "<p>2 rows \u00d7 121 columns</p>\n",
        "</div>"
       ],
       "metadata": {},
       "output_type": "pyout",
       "prompt_number": 30,
       "text": [
        "        copepod_calanoid_small_longantennae  appendicularian_fritillaridae  \\\n",
        "image                                                                        \n",
        "1.jpg                          3.192686e-08                       0.000009   \n",
        "10.jpg                         6.667812e-05                       0.001712   \n",
        "\n",
        "        siphonophore_other_parts  appendicularian_straight  \\\n",
        "image                                                        \n",
        "1.jpg                   0.000003                  0.016587   \n",
        "10.jpg                  0.000072                  0.000070   \n",
        "\n",
        "        echinoderm_larva_pluteus_early  hydromedusae_shapeA_sideview_small  \\\n",
        "image                                                                        \n",
        "1.jpg                         0.000016                            0.000927   \n",
        "10.jpg                        0.004491                            0.003650   \n",
        "\n",
        "        hydromedusae_liriope  chaetognath_sagitta  heteropod  \\\n",
        "image                                                          \n",
        "1.jpg               0.000002             0.000579   0.000000   \n",
        "10.jpg              0.000039             0.000003   0.000002   \n",
        "\n",
        "        chaetognath_non_sagitta           ...             chordate_type1  \\\n",
        "image                                     ...                              \n",
        "1.jpg                  0.000304           ...               1.206085e-05   \n",
        "10.jpg                 0.000100           ...               4.420904e-10   \n",
        "\n",
        "        detritus_filamentous  copepod_calanoid_octomoms  siphonophore_partial  \\\n",
        "image                                                                           \n",
        "1.jpg               0.026646                   0.000009              0.000008   \n",
        "10.jpg              0.015918                   0.000001              0.000000   \n",
        "\n",
        "        ctenophore_lobate  copepod_other  protist_dark_center  \\\n",
        "image                                                           \n",
        "1.jpg            0.000001       0.000006             0.000028   \n",
        "10.jpg           0.000000       0.000043             0.003318   \n",
        "\n",
        "        acantharia_protist  trichodesmium_puff  trichodesmium_multiple  \n",
        "image                                                                   \n",
        "1.jpg             0.000483            0.003457                0.000012  \n",
        "10.jpg            0.003539            0.003125                0.000004  \n",
        "\n",
        "[2 rows x 121 columns]"
       ]
      }
     ],
     "prompt_number": 30
    },
    {
     "cell_type": "code",
     "collapsed": false,
     "input": [
      "output_df.to_csv('C:\\\\Users\\\\E\\\\Desktop\\\\Zoology_kaggle\\\\submission\\\\rotated_submission_RF_LOG_mix.csv')"
     ],
     "language": "python",
     "metadata": {},
     "outputs": [],
     "prompt_number": 31
    },
    {
     "cell_type": "code",
     "collapsed": false,
     "input": [],
     "language": "python",
     "metadata": {},
     "outputs": []
    }
   ],
   "metadata": {}
  }
 ]
}