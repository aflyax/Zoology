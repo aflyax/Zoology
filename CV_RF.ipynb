{
 "metadata": {
  "name": "",
  "signature": "sha256:e27532178adee78e63cd9da151584b8823ecf75a074f19d6d8f46974d653b739"
 },
 "nbformat": 3,
 "nbformat_minor": 0,
 "worksheets": [
  {
   "cells": [
    {
     "cell_type": "code",
     "collapsed": false,
     "input": [
      "import pandas as pd\n",
      "import numpy as np\n",
      "from sklearn import cross_validation\n",
      "import pylab as plt\n",
      "from sklearn.ensemble import RandomForestClassifier\n",
      "from sklearn.linear_model import LogisticRegression\n",
      "from sklearn.ensemble import AdaBoostClassifier\n",
      "from sklearn.tree import DecisionTreeClassifier\n",
      "from sklearn.naive_bayes import MultinomialNB\n",
      "from sklearn.preprocessing import StandardScaler\n",
      "from sklearn.cross_validation import StratifiedKFold\n",
      "from sklearn.metrics import classification_report\n",
      "import gc\n",
      "import pickle\n",
      "import math\n",
      "from sklearn.cross_validation import StratifiedKFold as KFold\n",
      "%matplotlib"
     ],
     "language": "python",
     "metadata": {},
     "outputs": [
      {
       "output_type": "stream",
       "stream": "stdout",
       "text": [
        "Using matplotlib backend: Qt4Agg\n"
       ]
      }
     ],
     "prompt_number": 1
    },
    {
     "cell_type": "code",
     "collapsed": false,
     "input": [
      "#Write to csv files.  This is in the windows filesystem.\n",
      "y_train_df = pd.read_csv('C:\\\\Users\\\\E\\\\Desktop\\\\Zoology_kaggle\\\\y_train_df.csv', index_col=0)\n",
      "x_train_df = pd.read_csv('C:\\\\Users\\\\E\\\\Desktop\\\\Zoology_kaggle\\\\x_train_df.csv', index_col=0)\n",
      "x_train_hu_df = pd.read_csv('C:\\\\Users\\\\E\\\\Desktop\\\\Zoology_kaggle\\\\x_train_hu_big_df.csv', index_col=0)\n",
      "x_total = pd.concat([x_train_hu_df, x_train_df], axis=1).iloc[:,:48]"
     ],
     "language": "python",
     "metadata": {},
     "outputs": [],
     "prompt_number": 2
    },
    {
     "cell_type": "code",
     "collapsed": false,
     "input": [
      "\n",
      "x_total.head()"
     ],
     "language": "python",
     "metadata": {},
     "outputs": [
      {
       "html": [
        "<div style=\"max-height:1000px;max-width:1500px;overflow:auto;\">\n",
        "<table border=\"1\" class=\"dataframe\">\n",
        "  <thead>\n",
        "    <tr style=\"text-align: right;\">\n",
        "      <th></th>\n",
        "      <th>0</th>\n",
        "      <th>1</th>\n",
        "      <th>2</th>\n",
        "      <th>3</th>\n",
        "      <th>4</th>\n",
        "      <th>5</th>\n",
        "      <th>6</th>\n",
        "      <th>7</th>\n",
        "      <th>8</th>\n",
        "      <th>9</th>\n",
        "      <th>...</th>\n",
        "      <th>maxregion.convex_area</th>\n",
        "      <th>maxregion.eccentricity</th>\n",
        "      <th>maxregion.equivalent_diameter</th>\n",
        "      <th>maxregion.extent</th>\n",
        "      <th>maxregion.filled_area</th>\n",
        "      <th>maxregion.major_axis_length</th>\n",
        "      <th>maxregion.minor_axis_length</th>\n",
        "      <th>maxregion.orientation</th>\n",
        "      <th>maxregion.perimeter</th>\n",
        "      <th>maxregion.solidity</th>\n",
        "    </tr>\n",
        "  </thead>\n",
        "  <tbody>\n",
        "    <tr>\n",
        "      <th>C:\\Users\\E\\Desktop\\Zoology_kaggle\\train\\copepod_calanoid_small_longantennae\\100728.jpg</th>\n",
        "      <td> 80</td>\n",
        "      <td> 42</td>\n",
        "      <td> 248.138095</td>\n",
        "      <td> 28.767820</td>\n",
        "      <td>  3</td>\n",
        "      <td> 286</td>\n",
        "      <td> 10</td>\n",
        "      <td> 10</td>\n",
        "      <td> 70</td>\n",
        "      <td> 31</td>\n",
        "      <td>...</td>\n",
        "      <td> 143</td>\n",
        "      <td> 0.814617</td>\n",
        "      <td> 9.373021</td>\n",
        "      <td> 0.279352</td>\n",
        "      <td> 69</td>\n",
        "      <td> 18.089704</td>\n",
        "      <td> 10.492020</td>\n",
        "      <td> 1.294766</td>\n",
        "      <td> 52.556349</td>\n",
        "      <td> 0.482517</td>\n",
        "    </tr>\n",
        "    <tr>\n",
        "      <th>C:\\Users\\E\\Desktop\\Zoology_kaggle\\train\\copepod_calanoid_small_longantennae\\101339.jpg</th>\n",
        "      <td> 54</td>\n",
        "      <td> 55</td>\n",
        "      <td> 250.953872</td>\n",
        "      <td> 19.769077</td>\n",
        "      <td>  4</td>\n",
        "      <td> 184</td>\n",
        "      <td> 10</td>\n",
        "      <td> 10</td>\n",
        "      <td> 44</td>\n",
        "      <td> 45</td>\n",
        "      <td>...</td>\n",
        "      <td> 118</td>\n",
        "      <td> 0.934217</td>\n",
        "      <td> 7.898654</td>\n",
        "      <td> 0.191406</td>\n",
        "      <td> 49</td>\n",
        "      <td> 21.958892</td>\n",
        "      <td>  7.832874</td>\n",
        "      <td>-0.781265</td>\n",
        "      <td> 46.349242</td>\n",
        "      <td> 0.415254</td>\n",
        "    </tr>\n",
        "    <tr>\n",
        "      <th>C:\\Users\\E\\Desktop\\Zoology_kaggle\\train\\copepod_calanoid_small_longantennae\\103093.jpg</th>\n",
        "      <td> 47</td>\n",
        "      <td> 71</td>\n",
        "      <td> 252.200779</td>\n",
        "      <td> 18.141814</td>\n",
        "      <td> 31</td>\n",
        "      <td> 141</td>\n",
        "      <td> 10</td>\n",
        "      <td> 10</td>\n",
        "      <td> 38</td>\n",
        "      <td> 61</td>\n",
        "      <td>...</td>\n",
        "      <td>  87</td>\n",
        "      <td> 0.952907</td>\n",
        "      <td> 7.046726</td>\n",
        "      <td> 0.180556</td>\n",
        "      <td> 39</td>\n",
        "      <td> 19.916480</td>\n",
        "      <td>  6.039905</td>\n",
        "      <td>-0.562169</td>\n",
        "      <td> 37.106602</td>\n",
        "      <td> 0.448276</td>\n",
        "    </tr>\n",
        "    <tr>\n",
        "      <th>C:\\Users\\E\\Desktop\\Zoology_kaggle\\train\\copepod_calanoid_small_longantennae\\104949.jpg</th>\n",
        "      <td> 42</td>\n",
        "      <td> 92</td>\n",
        "      <td> 251.164337</td>\n",
        "      <td> 19.445474</td>\n",
        "      <td> 15</td>\n",
        "      <td> 229</td>\n",
        "      <td> 10</td>\n",
        "      <td> 10</td>\n",
        "      <td> 32</td>\n",
        "      <td> 83</td>\n",
        "      <td>...</td>\n",
        "      <td> 140</td>\n",
        "      <td> 0.957606</td>\n",
        "      <td> 7.978846</td>\n",
        "      <td> 0.219298</td>\n",
        "      <td> 50</td>\n",
        "      <td> 24.215206</td>\n",
        "      <td>  6.975945</td>\n",
        "      <td> 0.406272</td>\n",
        "      <td> 44.828427</td>\n",
        "      <td> 0.357143</td>\n",
        "    </tr>\n",
        "    <tr>\n",
        "      <th>C:\\Users\\E\\Desktop\\Zoology_kaggle\\train\\copepod_calanoid_small_longantennae\\106043.jpg</th>\n",
        "      <td> 58</td>\n",
        "      <td> 86</td>\n",
        "      <td> 249.691860</td>\n",
        "      <td> 23.083473</td>\n",
        "      <td>  3</td>\n",
        "      <td> 354</td>\n",
        "      <td> 11</td>\n",
        "      <td> 10</td>\n",
        "      <td> 48</td>\n",
        "      <td> 75</td>\n",
        "      <td>...</td>\n",
        "      <td> 136</td>\n",
        "      <td> 0.942969</td>\n",
        "      <td> 8.214724</td>\n",
        "      <td> 0.185965</td>\n",
        "      <td> 53</td>\n",
        "      <td> 23.534466</td>\n",
        "      <td>  7.834168</td>\n",
        "      <td>-0.623086</td>\n",
        "      <td> 46.656854</td>\n",
        "      <td> 0.389706</td>\n",
        "    </tr>\n",
        "  </tbody>\n",
        "</table>\n",
        "<p>5 rows \u00d7 48 columns</p>\n",
        "</div>"
       ],
       "metadata": {},
       "output_type": "pyout",
       "prompt_number": 3,
       "text": [
        "                                                                                         0  \\\n",
        "C:\\Users\\E\\Desktop\\Zoology_kaggle\\train\\copepod_calanoid_small_longantennae\\100728.jpg  80   \n",
        "C:\\Users\\E\\Desktop\\Zoology_kaggle\\train\\copepod_calanoid_small_longantennae\\101339.jpg  54   \n",
        "C:\\Users\\E\\Desktop\\Zoology_kaggle\\train\\copepod_calanoid_small_longantennae\\103093.jpg  47   \n",
        "C:\\Users\\E\\Desktop\\Zoology_kaggle\\train\\copepod_calanoid_small_longantennae\\104949.jpg  42   \n",
        "C:\\Users\\E\\Desktop\\Zoology_kaggle\\train\\copepod_calanoid_small_longantennae\\106043.jpg  58   \n",
        "\n",
        "                                                                                         1  \\\n",
        "C:\\Users\\E\\Desktop\\Zoology_kaggle\\train\\copepod_calanoid_small_longantennae\\100728.jpg  42   \n",
        "C:\\Users\\E\\Desktop\\Zoology_kaggle\\train\\copepod_calanoid_small_longantennae\\101339.jpg  55   \n",
        "C:\\Users\\E\\Desktop\\Zoology_kaggle\\train\\copepod_calanoid_small_longantennae\\103093.jpg  71   \n",
        "C:\\Users\\E\\Desktop\\Zoology_kaggle\\train\\copepod_calanoid_small_longantennae\\104949.jpg  92   \n",
        "C:\\Users\\E\\Desktop\\Zoology_kaggle\\train\\copepod_calanoid_small_longantennae\\106043.jpg  86   \n",
        "\n",
        "                                                                                                 2  \\\n",
        "C:\\Users\\E\\Desktop\\Zoology_kaggle\\train\\copepod_calanoid_small_longantennae\\100728.jpg  248.138095   \n",
        "C:\\Users\\E\\Desktop\\Zoology_kaggle\\train\\copepod_calanoid_small_longantennae\\101339.jpg  250.953872   \n",
        "C:\\Users\\E\\Desktop\\Zoology_kaggle\\train\\copepod_calanoid_small_longantennae\\103093.jpg  252.200779   \n",
        "C:\\Users\\E\\Desktop\\Zoology_kaggle\\train\\copepod_calanoid_small_longantennae\\104949.jpg  251.164337   \n",
        "C:\\Users\\E\\Desktop\\Zoology_kaggle\\train\\copepod_calanoid_small_longantennae\\106043.jpg  249.691860   \n",
        "\n",
        "                                                                                                3  \\\n",
        "C:\\Users\\E\\Desktop\\Zoology_kaggle\\train\\copepod_calanoid_small_longantennae\\100728.jpg  28.767820   \n",
        "C:\\Users\\E\\Desktop\\Zoology_kaggle\\train\\copepod_calanoid_small_longantennae\\101339.jpg  19.769077   \n",
        "C:\\Users\\E\\Desktop\\Zoology_kaggle\\train\\copepod_calanoid_small_longantennae\\103093.jpg  18.141814   \n",
        "C:\\Users\\E\\Desktop\\Zoology_kaggle\\train\\copepod_calanoid_small_longantennae\\104949.jpg  19.445474   \n",
        "C:\\Users\\E\\Desktop\\Zoology_kaggle\\train\\copepod_calanoid_small_longantennae\\106043.jpg  23.083473   \n",
        "\n",
        "                                                                                         4  \\\n",
        "C:\\Users\\E\\Desktop\\Zoology_kaggle\\train\\copepod_calanoid_small_longantennae\\100728.jpg   3   \n",
        "C:\\Users\\E\\Desktop\\Zoology_kaggle\\train\\copepod_calanoid_small_longantennae\\101339.jpg   4   \n",
        "C:\\Users\\E\\Desktop\\Zoology_kaggle\\train\\copepod_calanoid_small_longantennae\\103093.jpg  31   \n",
        "C:\\Users\\E\\Desktop\\Zoology_kaggle\\train\\copepod_calanoid_small_longantennae\\104949.jpg  15   \n",
        "C:\\Users\\E\\Desktop\\Zoology_kaggle\\train\\copepod_calanoid_small_longantennae\\106043.jpg   3   \n",
        "\n",
        "                                                                                          5  \\\n",
        "C:\\Users\\E\\Desktop\\Zoology_kaggle\\train\\copepod_calanoid_small_longantennae\\100728.jpg  286   \n",
        "C:\\Users\\E\\Desktop\\Zoology_kaggle\\train\\copepod_calanoid_small_longantennae\\101339.jpg  184   \n",
        "C:\\Users\\E\\Desktop\\Zoology_kaggle\\train\\copepod_calanoid_small_longantennae\\103093.jpg  141   \n",
        "C:\\Users\\E\\Desktop\\Zoology_kaggle\\train\\copepod_calanoid_small_longantennae\\104949.jpg  229   \n",
        "C:\\Users\\E\\Desktop\\Zoology_kaggle\\train\\copepod_calanoid_small_longantennae\\106043.jpg  354   \n",
        "\n",
        "                                                                                         6  \\\n",
        "C:\\Users\\E\\Desktop\\Zoology_kaggle\\train\\copepod_calanoid_small_longantennae\\100728.jpg  10   \n",
        "C:\\Users\\E\\Desktop\\Zoology_kaggle\\train\\copepod_calanoid_small_longantennae\\101339.jpg  10   \n",
        "C:\\Users\\E\\Desktop\\Zoology_kaggle\\train\\copepod_calanoid_small_longantennae\\103093.jpg  10   \n",
        "C:\\Users\\E\\Desktop\\Zoology_kaggle\\train\\copepod_calanoid_small_longantennae\\104949.jpg  10   \n",
        "C:\\Users\\E\\Desktop\\Zoology_kaggle\\train\\copepod_calanoid_small_longantennae\\106043.jpg  11   \n",
        "\n",
        "                                                                                         7  \\\n",
        "C:\\Users\\E\\Desktop\\Zoology_kaggle\\train\\copepod_calanoid_small_longantennae\\100728.jpg  10   \n",
        "C:\\Users\\E\\Desktop\\Zoology_kaggle\\train\\copepod_calanoid_small_longantennae\\101339.jpg  10   \n",
        "C:\\Users\\E\\Desktop\\Zoology_kaggle\\train\\copepod_calanoid_small_longantennae\\103093.jpg  10   \n",
        "C:\\Users\\E\\Desktop\\Zoology_kaggle\\train\\copepod_calanoid_small_longantennae\\104949.jpg  10   \n",
        "C:\\Users\\E\\Desktop\\Zoology_kaggle\\train\\copepod_calanoid_small_longantennae\\106043.jpg  10   \n",
        "\n",
        "                                                                                         8  \\\n",
        "C:\\Users\\E\\Desktop\\Zoology_kaggle\\train\\copepod_calanoid_small_longantennae\\100728.jpg  70   \n",
        "C:\\Users\\E\\Desktop\\Zoology_kaggle\\train\\copepod_calanoid_small_longantennae\\101339.jpg  44   \n",
        "C:\\Users\\E\\Desktop\\Zoology_kaggle\\train\\copepod_calanoid_small_longantennae\\103093.jpg  38   \n",
        "C:\\Users\\E\\Desktop\\Zoology_kaggle\\train\\copepod_calanoid_small_longantennae\\104949.jpg  32   \n",
        "C:\\Users\\E\\Desktop\\Zoology_kaggle\\train\\copepod_calanoid_small_longantennae\\106043.jpg  48   \n",
        "\n",
        "                                                                                         9  \\\n",
        "C:\\Users\\E\\Desktop\\Zoology_kaggle\\train\\copepod_calanoid_small_longantennae\\100728.jpg  31   \n",
        "C:\\Users\\E\\Desktop\\Zoology_kaggle\\train\\copepod_calanoid_small_longantennae\\101339.jpg  45   \n",
        "C:\\Users\\E\\Desktop\\Zoology_kaggle\\train\\copepod_calanoid_small_longantennae\\103093.jpg  61   \n",
        "C:\\Users\\E\\Desktop\\Zoology_kaggle\\train\\copepod_calanoid_small_longantennae\\104949.jpg  83   \n",
        "C:\\Users\\E\\Desktop\\Zoology_kaggle\\train\\copepod_calanoid_small_longantennae\\106043.jpg  75   \n",
        "\n",
        "                                                                                       ...  \\\n",
        "C:\\Users\\E\\Desktop\\Zoology_kaggle\\train\\copepod_calanoid_small_longantennae\\100728.jpg ...   \n",
        "C:\\Users\\E\\Desktop\\Zoology_kaggle\\train\\copepod_calanoid_small_longantennae\\101339.jpg ...   \n",
        "C:\\Users\\E\\Desktop\\Zoology_kaggle\\train\\copepod_calanoid_small_longantennae\\103093.jpg ...   \n",
        "C:\\Users\\E\\Desktop\\Zoology_kaggle\\train\\copepod_calanoid_small_longantennae\\104949.jpg ...   \n",
        "C:\\Users\\E\\Desktop\\Zoology_kaggle\\train\\copepod_calanoid_small_longantennae\\106043.jpg ...   \n",
        "\n",
        "                                                                                        maxregion.convex_area  \\\n",
        "C:\\Users\\E\\Desktop\\Zoology_kaggle\\train\\copepod_calanoid_small_longantennae\\100728.jpg                    143   \n",
        "C:\\Users\\E\\Desktop\\Zoology_kaggle\\train\\copepod_calanoid_small_longantennae\\101339.jpg                    118   \n",
        "C:\\Users\\E\\Desktop\\Zoology_kaggle\\train\\copepod_calanoid_small_longantennae\\103093.jpg                     87   \n",
        "C:\\Users\\E\\Desktop\\Zoology_kaggle\\train\\copepod_calanoid_small_longantennae\\104949.jpg                    140   \n",
        "C:\\Users\\E\\Desktop\\Zoology_kaggle\\train\\copepod_calanoid_small_longantennae\\106043.jpg                    136   \n",
        "\n",
        "                                                                                        maxregion.eccentricity  \\\n",
        "C:\\Users\\E\\Desktop\\Zoology_kaggle\\train\\copepod_calanoid_small_longantennae\\100728.jpg                0.814617   \n",
        "C:\\Users\\E\\Desktop\\Zoology_kaggle\\train\\copepod_calanoid_small_longantennae\\101339.jpg                0.934217   \n",
        "C:\\Users\\E\\Desktop\\Zoology_kaggle\\train\\copepod_calanoid_small_longantennae\\103093.jpg                0.952907   \n",
        "C:\\Users\\E\\Desktop\\Zoology_kaggle\\train\\copepod_calanoid_small_longantennae\\104949.jpg                0.957606   \n",
        "C:\\Users\\E\\Desktop\\Zoology_kaggle\\train\\copepod_calanoid_small_longantennae\\106043.jpg                0.942969   \n",
        "\n",
        "                                                                                        maxregion.equivalent_diameter  \\\n",
        "C:\\Users\\E\\Desktop\\Zoology_kaggle\\train\\copepod_calanoid_small_longantennae\\100728.jpg                       9.373021   \n",
        "C:\\Users\\E\\Desktop\\Zoology_kaggle\\train\\copepod_calanoid_small_longantennae\\101339.jpg                       7.898654   \n",
        "C:\\Users\\E\\Desktop\\Zoology_kaggle\\train\\copepod_calanoid_small_longantennae\\103093.jpg                       7.046726   \n",
        "C:\\Users\\E\\Desktop\\Zoology_kaggle\\train\\copepod_calanoid_small_longantennae\\104949.jpg                       7.978846   \n",
        "C:\\Users\\E\\Desktop\\Zoology_kaggle\\train\\copepod_calanoid_small_longantennae\\106043.jpg                       8.214724   \n",
        "\n",
        "                                                                                        maxregion.extent  \\\n",
        "C:\\Users\\E\\Desktop\\Zoology_kaggle\\train\\copepod_calanoid_small_longantennae\\100728.jpg          0.279352   \n",
        "C:\\Users\\E\\Desktop\\Zoology_kaggle\\train\\copepod_calanoid_small_longantennae\\101339.jpg          0.191406   \n",
        "C:\\Users\\E\\Desktop\\Zoology_kaggle\\train\\copepod_calanoid_small_longantennae\\103093.jpg          0.180556   \n",
        "C:\\Users\\E\\Desktop\\Zoology_kaggle\\train\\copepod_calanoid_small_longantennae\\104949.jpg          0.219298   \n",
        "C:\\Users\\E\\Desktop\\Zoology_kaggle\\train\\copepod_calanoid_small_longantennae\\106043.jpg          0.185965   \n",
        "\n",
        "                                                                                        maxregion.filled_area  \\\n",
        "C:\\Users\\E\\Desktop\\Zoology_kaggle\\train\\copepod_calanoid_small_longantennae\\100728.jpg                     69   \n",
        "C:\\Users\\E\\Desktop\\Zoology_kaggle\\train\\copepod_calanoid_small_longantennae\\101339.jpg                     49   \n",
        "C:\\Users\\E\\Desktop\\Zoology_kaggle\\train\\copepod_calanoid_small_longantennae\\103093.jpg                     39   \n",
        "C:\\Users\\E\\Desktop\\Zoology_kaggle\\train\\copepod_calanoid_small_longantennae\\104949.jpg                     50   \n",
        "C:\\Users\\E\\Desktop\\Zoology_kaggle\\train\\copepod_calanoid_small_longantennae\\106043.jpg                     53   \n",
        "\n",
        "                                                                                        maxregion.major_axis_length  \\\n",
        "C:\\Users\\E\\Desktop\\Zoology_kaggle\\train\\copepod_calanoid_small_longantennae\\100728.jpg                    18.089704   \n",
        "C:\\Users\\E\\Desktop\\Zoology_kaggle\\train\\copepod_calanoid_small_longantennae\\101339.jpg                    21.958892   \n",
        "C:\\Users\\E\\Desktop\\Zoology_kaggle\\train\\copepod_calanoid_small_longantennae\\103093.jpg                    19.916480   \n",
        "C:\\Users\\E\\Desktop\\Zoology_kaggle\\train\\copepod_calanoid_small_longantennae\\104949.jpg                    24.215206   \n",
        "C:\\Users\\E\\Desktop\\Zoology_kaggle\\train\\copepod_calanoid_small_longantennae\\106043.jpg                    23.534466   \n",
        "\n",
        "                                                                                        maxregion.minor_axis_length  \\\n",
        "C:\\Users\\E\\Desktop\\Zoology_kaggle\\train\\copepod_calanoid_small_longantennae\\100728.jpg                    10.492020   \n",
        "C:\\Users\\E\\Desktop\\Zoology_kaggle\\train\\copepod_calanoid_small_longantennae\\101339.jpg                     7.832874   \n",
        "C:\\Users\\E\\Desktop\\Zoology_kaggle\\train\\copepod_calanoid_small_longantennae\\103093.jpg                     6.039905   \n",
        "C:\\Users\\E\\Desktop\\Zoology_kaggle\\train\\copepod_calanoid_small_longantennae\\104949.jpg                     6.975945   \n",
        "C:\\Users\\E\\Desktop\\Zoology_kaggle\\train\\copepod_calanoid_small_longantennae\\106043.jpg                     7.834168   \n",
        "\n",
        "                                                                                        maxregion.orientation  \\\n",
        "C:\\Users\\E\\Desktop\\Zoology_kaggle\\train\\copepod_calanoid_small_longantennae\\100728.jpg               1.294766   \n",
        "C:\\Users\\E\\Desktop\\Zoology_kaggle\\train\\copepod_calanoid_small_longantennae\\101339.jpg              -0.781265   \n",
        "C:\\Users\\E\\Desktop\\Zoology_kaggle\\train\\copepod_calanoid_small_longantennae\\103093.jpg              -0.562169   \n",
        "C:\\Users\\E\\Desktop\\Zoology_kaggle\\train\\copepod_calanoid_small_longantennae\\104949.jpg               0.406272   \n",
        "C:\\Users\\E\\Desktop\\Zoology_kaggle\\train\\copepod_calanoid_small_longantennae\\106043.jpg              -0.623086   \n",
        "\n",
        "                                                                                        maxregion.perimeter  \\\n",
        "C:\\Users\\E\\Desktop\\Zoology_kaggle\\train\\copepod_calanoid_small_longantennae\\100728.jpg            52.556349   \n",
        "C:\\Users\\E\\Desktop\\Zoology_kaggle\\train\\copepod_calanoid_small_longantennae\\101339.jpg            46.349242   \n",
        "C:\\Users\\E\\Desktop\\Zoology_kaggle\\train\\copepod_calanoid_small_longantennae\\103093.jpg            37.106602   \n",
        "C:\\Users\\E\\Desktop\\Zoology_kaggle\\train\\copepod_calanoid_small_longantennae\\104949.jpg            44.828427   \n",
        "C:\\Users\\E\\Desktop\\Zoology_kaggle\\train\\copepod_calanoid_small_longantennae\\106043.jpg            46.656854   \n",
        "\n",
        "                                                                                        maxregion.solidity  \n",
        "C:\\Users\\E\\Desktop\\Zoology_kaggle\\train\\copepod_calanoid_small_longantennae\\100728.jpg            0.482517  \n",
        "C:\\Users\\E\\Desktop\\Zoology_kaggle\\train\\copepod_calanoid_small_longantennae\\101339.jpg            0.415254  \n",
        "C:\\Users\\E\\Desktop\\Zoology_kaggle\\train\\copepod_calanoid_small_longantennae\\103093.jpg            0.448276  \n",
        "C:\\Users\\E\\Desktop\\Zoology_kaggle\\train\\copepod_calanoid_small_longantennae\\104949.jpg            0.357143  \n",
        "C:\\Users\\E\\Desktop\\Zoology_kaggle\\train\\copepod_calanoid_small_longantennae\\106043.jpg            0.389706  \n",
        "\n",
        "[5 rows x 48 columns]"
       ]
      }
     ],
     "prompt_number": 3
    },
    {
     "cell_type": "code",
     "collapsed": false,
     "input": [
      "print \"Training\"\n",
      "# n_estimators is the number of decision trees\n",
      "# max_features also known as m_try is set to the default value of the square root of the number of features\n",
      "clf = RandomForestClassifier(n_estimators=200, n_jobs=2)\n",
      "scores = cross_validation.cross_val_score(clf, x_train_hu_df, np.ravel(y_train_df), cv=5, n_jobs=2)\n",
      "print \"Accuracy of all classes\"\n",
      "print np.mean(scores)"
     ],
     "language": "python",
     "metadata": {},
     "outputs": [
      {
       "output_type": "stream",
       "stream": "stdout",
       "text": [
        "Training\n",
        "Accuracy of all classes"
       ]
      },
      {
       "output_type": "stream",
       "stream": "stdout",
       "text": [
        "\n",
        "0.545332928077\n"
       ]
      }
     ],
     "prompt_number": 4
    },
    {
     "cell_type": "code",
     "collapsed": false,
     "input": [
      "kf = KFold(np.ravel(y_train_df), n_folds=5)\n",
      "y_pred = np.array(len(y_train_df) * [0])\n",
      "for train, test in kf:\n",
      "    X_train, X_test, y_train, y_test = np.array(x_train_hu_df)[train,:], np.array(x_train_hu_df)[test,:], np.ravel(y_train_df)[train], np.ravel(y_train_df)[test]\n",
      "    clf = RandomForestClassifier(n_estimators=200, n_jobs=2)\n",
      "    clf.fit(X_train, y_train)\n",
      "    y_pred[test] = clf.predict(X_test)\n",
      "    print clf.score(X_test, y_test)\n",
      "print classification_report(np.ravel(y_train_df), y_pred)"
     ],
     "language": "python",
     "metadata": {},
     "outputs": [
      {
       "output_type": "stream",
       "stream": "stdout",
       "text": [
        "0.549067713445\n",
        "0.541037426133"
       ]
      },
      {
       "output_type": "stream",
       "stream": "stdout",
       "text": [
        "\n",
        "0.542579476198"
       ]
      },
      {
       "output_type": "stream",
       "stream": "stdout",
       "text": [
        "\n",
        "0.550794176042"
       ]
      },
      {
       "output_type": "stream",
       "stream": "stdout",
       "text": [
        "\n",
        "0.547979378014"
       ]
      },
      {
       "output_type": "stream",
       "stream": "stdout",
       "text": [
        "\n",
        "             precision    recall  f1-score   support\n",
        "\n",
        "        0.0       0.57      0.45      0.50        87\n",
        "        1.0       0.00      0.00      0.00        16\n",
        "        2.0       0.00      0.00      0.00        29\n",
        "        3.0       0.23      0.10      0.13       242\n",
        "        4.0       0.62      0.22      0.32        92\n",
        "        5.0       0.43      0.29      0.35       274\n",
        "        6.0       0.00      0.00      0.00        19\n",
        "        7.0       0.54      0.40      0.46       694\n",
        "        8.0       0.00      0.00      0.00        10\n",
        "        9.0       0.68      0.71      0.70       815\n",
        "       10.0       0.81      0.90      0.85       519\n",
        "       11.0       0.45      0.53      0.49       681\n",
        "       12.0       0.70      0.88      0.78       393\n",
        "       13.0       0.18      0.06      0.09        49\n",
        "       14.0       0.47      0.68      0.56       286\n",
        "       15.0       0.47      0.45      0.46       106\n",
        "       16.0       0.56      0.65      0.60       113\n",
        "       17.0       0.00      0.00      0.00        13\n",
        "       18.0       0.43      0.56      0.49       483\n",
        "       19.0       0.45      0.52      0.48       153\n",
        "       20.0       0.20      0.07      0.11        55\n",
        "       21.0       0.50      0.15      0.23        27\n",
        "       22.0       0.36      0.12      0.18        75\n",
        "       23.0       0.60      0.26      0.36        23\n",
        "       24.0       0.00      0.00      0.00         9\n",
        "       25.0       0.13      0.02      0.04       425\n",
        "       26.0       0.44      0.23      0.30        65\n",
        "       27.0       0.00      0.00      0.00        12\n",
        "       28.0       0.62      0.54      0.57       127\n",
        "       29.0       0.00      0.00      0.00        14\n",
        "       30.0       0.00      0.00      0.00        24\n",
        "       31.0       0.35      0.41      0.38       212\n",
        "       32.0       0.51      0.36      0.42        80\n",
        "       33.0       0.38      0.20      0.26        76\n",
        "       34.0       0.52      0.57      0.54       114\n",
        "       35.0       0.50      0.03      0.06        31\n",
        "       36.0       0.67      0.83      0.74       703\n",
        "       37.0       0.47      0.26      0.33       136\n",
        "       38.0       0.40      0.05      0.08        88\n",
        "       39.0       1.00      0.15      0.27        13\n",
        "       40.0       0.31      0.25      0.28       201\n",
        "       41.0       0.51      0.53      0.52       135\n",
        "       42.0       0.73      0.31      0.43        36\n",
        "       43.0       0.93      0.91      0.92       170\n",
        "       44.0       0.31      0.05      0.09       178\n",
        "       45.0       0.47      0.34      0.39       128\n",
        "       46.0       0.38      0.40      0.39       336\n",
        "       47.0       0.00      0.00      0.00        24\n",
        "       48.0       0.32      0.13      0.19       175\n",
        "       49.0       0.56      0.73      0.64       899\n",
        "       50.0       0.69      0.89      0.78       536\n",
        "       51.0       0.69      0.26      0.37        35\n",
        "       52.0       0.00      0.00      0.00        63\n",
        "       53.0       0.46      0.60      0.52      1172\n",
        "       54.0       0.51      0.45      0.48        96\n",
        "       55.0       0.00      0.00      0.00        10\n",
        "       56.0       0.33      0.13      0.19        30\n",
        "       57.0       0.65      0.74      0.70       372\n",
        "       58.0       0.39      0.53      0.45       694\n",
        "       59.0       0.39      0.17      0.24       131\n",
        "       60.0       0.39      0.33      0.36       439\n",
        "       61.0       0.40      0.52      0.45       678\n",
        "       62.0       0.56      0.59      0.58       500\n",
        "       63.0       0.32      0.23      0.27        96\n",
        "       64.0       0.50      0.02      0.05        42\n",
        "       65.0       0.56      0.30      0.39       132\n",
        "       66.0       0.64      0.40      0.49       141\n",
        "       67.0       0.61      0.77      0.68       236\n",
        "       68.0       0.62      0.56      0.59       123\n",
        "       69.0       0.73      0.59      0.65       113\n",
        "       70.0       0.49      0.19      0.27       108\n",
        "       71.0       0.00      0.00      0.00        21\n",
        "       72.0       0.58      0.67      0.62       385\n",
        "       73.0       0.52      0.47      0.49       625\n",
        "       74.0       0.41      0.30      0.34       158\n",
        "       75.0       0.55      0.53      0.54       229\n",
        "       76.0       0.63      0.61      0.62       190\n",
        "       77.0       0.61      0.22      0.32        64\n",
        "       78.0       1.00      0.12      0.22        16\n",
        "       79.0       0.29      0.20      0.24       363\n",
        "       80.0       0.34      0.28      0.31        61\n",
        "       81.0       0.56      0.42      0.48       173\n",
        "       82.0       0.46      0.14      0.21        43\n",
        "       83.0       0.00      0.00      0.00        14\n",
        "       84.0       0.53      0.45      0.49        38\n",
        "       85.0       0.34      0.48      0.40       914\n",
        "       86.0       0.72      0.90      0.80       352\n",
        "       87.0       0.33      0.32      0.32       174\n",
        "       88.0       0.70      0.66      0.68        56\n",
        "       89.0       0.49      0.32      0.39       511\n",
        "       90.0       0.00      0.00      0.00        14\n",
        "       91.0       0.29      0.24      0.26       417\n",
        "       92.0       0.17      0.03      0.05        38\n",
        "       93.0       0.25      0.11      0.16       150\n",
        "       94.0       0.60      0.75      0.67       412\n",
        "       95.0       0.63      0.74      0.68      1189\n",
        "       96.0       0.34      0.24      0.28       317\n",
        "       97.0       0.36      0.42      0.39        85\n",
        "       98.0       0.32      0.29      0.30       247\n",
        "       99.0       0.50      0.13      0.20       287\n",
        "      100.0       0.42      0.34      0.38        71\n",
        "      101.0       0.11      0.02      0.03        52\n",
        "      102.0       0.50      0.03      0.06        29\n",
        "      103.0       0.44      0.16      0.24        49\n",
        "      104.0       0.46      0.36      0.40       179\n",
        "      105.0       0.64      0.56      0.60        73\n",
        "      106.0       0.00      0.00      0.00        53\n",
        "      107.0       0.40      0.42      0.41       532\n",
        "      108.0       0.57      0.73      0.64      1934\n",
        "      109.0       0.52      0.70      0.60       708\n",
        "      110.0       0.14      0.04      0.06        57\n",
        "      111.0       0.56      0.71      0.63        77\n",
        "      112.0       0.18      0.06      0.09       394\n",
        "      113.0       0.00      0.00      0.00        49\n",
        "      114.0       0.00      0.00      0.00        30\n",
        "      115.0       0.79      0.58      0.67        38\n",
        "      116.0       0.00      0.00      0.00        24\n",
        "      117.0       0.52      0.12      0.20       108\n",
        "      118.0       0.71      0.82      0.76       889\n",
        "      119.0       0.83      0.90      0.86      1979\n",
        "      120.0       0.32      0.11      0.16        54\n",
        "\n",
        "avg / total       0.52      0.55      0.52     30334\n"
       ]
      },
      {
       "output_type": "stream",
       "stream": "stdout",
       "text": [
        "\n"
       ]
      },
      {
       "output_type": "stream",
       "stream": "stderr",
       "text": [
        "C:\\Anaconda\\lib\\site-packages\\sklearn\\metrics\\metrics.py:1771: UndefinedMetricWarning: Precision and F-score are ill-defined and being set to 0.0 in labels with no predicted samples.\n",
        "  'precision', 'predicted', average, warn_for)\n"
       ]
      }
     ],
     "prompt_number": 5
    },
    {
     "cell_type": "code",
     "collapsed": false,
     "input": [
      "del clf\n",
      "gc.collect()"
     ],
     "language": "python",
     "metadata": {},
     "outputs": [
      {
       "metadata": {},
       "output_type": "pyout",
       "prompt_number": 17,
       "text": [
        "6"
       ]
      }
     ],
     "prompt_number": 17
    },
    {
     "cell_type": "code",
     "collapsed": false,
     "input": [
      "X_train, X_test, y_train, y_test = cross_validation.train_test_split(x_train_hu_df, y_train_df, test_size=0.15, random_state=10)"
     ],
     "language": "python",
     "metadata": {},
     "outputs": [],
     "prompt_number": 7
    },
    {
     "cell_type": "code",
     "collapsed": false,
     "input": [
      "X_test.shape"
     ],
     "language": "python",
     "metadata": {},
     "outputs": [
      {
       "metadata": {},
       "output_type": "pyout",
       "prompt_number": 8,
       "text": [
        "(4551L, 36L)"
       ]
      }
     ],
     "prompt_number": 8
    },
    {
     "cell_type": "code",
     "collapsed": false,
     "input": [
      "X_train.shape"
     ],
     "language": "python",
     "metadata": {},
     "outputs": [
      {
       "metadata": {},
       "output_type": "pyout",
       "prompt_number": 9,
       "text": [
        "(25783L, 36L)"
       ]
      }
     ],
     "prompt_number": 9
    },
    {
     "cell_type": "code",
     "collapsed": false,
     "input": [
      "clf = RandomForestClassifier(n_estimators=200, n_jobs=2)"
     ],
     "language": "python",
     "metadata": {},
     "outputs": [],
     "prompt_number": 10
    },
    {
     "cell_type": "code",
     "collapsed": false,
     "input": [
      "clf.fit(X_train, np.ravel(y_train))"
     ],
     "language": "python",
     "metadata": {},
     "outputs": [
      {
       "metadata": {},
       "output_type": "pyout",
       "prompt_number": 11,
       "text": [
        "RandomForestClassifier(bootstrap=True, compute_importances=None,\n",
        "            criterion='gini', max_depth=None, max_features='auto',\n",
        "            max_leaf_nodes=None, min_density=None, min_samples_leaf=1,\n",
        "            min_samples_split=2, n_estimators=200, n_jobs=2,\n",
        "            oob_score=False, random_state=None, verbose=0)"
       ]
      }
     ],
     "prompt_number": 11
    },
    {
     "cell_type": "code",
     "collapsed": false,
     "input": [
      "results = clf.predict_proba(X_test)\n",
      "results = results*.975 + (np.ones(results.shape)/121)*.025\n",
      "clf.score(X_test, y_test)"
     ],
     "language": "python",
     "metadata": {},
     "outputs": [
      {
       "ename": "NameError",
       "evalue": "name 'clf' is not defined",
       "output_type": "pyerr",
       "traceback": [
        "\u001b[1;31m---------------------------------------------------------------------------\u001b[0m\n\u001b[1;31mNameError\u001b[0m                                 Traceback (most recent call last)",
        "\u001b[1;32m<ipython-input-20-8e0264ea3e5b>\u001b[0m in \u001b[0;36m<module>\u001b[1;34m()\u001b[0m\n\u001b[1;32m----> 1\u001b[1;33m \u001b[0mresults\u001b[0m \u001b[1;33m=\u001b[0m \u001b[0mclf\u001b[0m\u001b[1;33m.\u001b[0m\u001b[0mpredict_proba\u001b[0m\u001b[1;33m(\u001b[0m\u001b[0mX_test\u001b[0m\u001b[1;33m)\u001b[0m\u001b[1;33m\u001b[0m\u001b[0m\n\u001b[0m\u001b[0;32m      2\u001b[0m \u001b[0mresults\u001b[0m \u001b[1;33m=\u001b[0m \u001b[0mresults\u001b[0m\u001b[1;33m*\u001b[0m\u001b[1;36m1.0\u001b[0m \u001b[1;33m+\u001b[0m \u001b[1;33m(\u001b[0m\u001b[0mnp\u001b[0m\u001b[1;33m.\u001b[0m\u001b[0mones\u001b[0m\u001b[1;33m(\u001b[0m\u001b[0mresults\u001b[0m\u001b[1;33m.\u001b[0m\u001b[0mshape\u001b[0m\u001b[1;33m)\u001b[0m\u001b[1;33m/\u001b[0m\u001b[1;36m121\u001b[0m\u001b[1;33m)\u001b[0m\u001b[1;33m*\u001b[0m\u001b[1;36m0.0\u001b[0m\u001b[1;33m\u001b[0m\u001b[0m\n\u001b[0;32m      3\u001b[0m \u001b[0mclf\u001b[0m\u001b[1;33m.\u001b[0m\u001b[0mscore\u001b[0m\u001b[1;33m(\u001b[0m\u001b[0mX_test\u001b[0m\u001b[1;33m,\u001b[0m \u001b[0my_test\u001b[0m\u001b[1;33m)\u001b[0m\u001b[1;33m\u001b[0m\u001b[0m\n",
        "\u001b[1;31mNameError\u001b[0m: name 'clf' is not defined"
       ]
      }
     ],
     "prompt_number": 20
    },
    {
     "cell_type": "code",
     "collapsed": false,
     "input": [
      "results_predicted = [results[i,int(y_test[i])] for i in xrange(len(results))]"
     ],
     "language": "python",
     "metadata": {},
     "outputs": [],
     "prompt_number": 15
    },
    {
     "cell_type": "code",
     "collapsed": false,
     "input": [
      "np.mean(np.log(results_predicted))"
     ],
     "language": "python",
     "metadata": {},
     "outputs": [
      {
       "metadata": {},
       "output_type": "pyout",
       "prompt_number": 16,
       "text": [
        "-1.725795892498514"
       ]
      }
     ],
     "prompt_number": 16
    },
    {
     "cell_type": "code",
     "collapsed": false,
     "input": [
      "plt.plot(np.log(results_predicted))"
     ],
     "language": "python",
     "metadata": {},
     "outputs": [
      {
       "metadata": {},
       "output_type": "pyout",
       "prompt_number": 21,
       "text": [
        "[<matplotlib.lines.Line2D at 0x213e6588>]"
       ]
      }
     ],
     "prompt_number": 21
    },
    {
     "cell_type": "code",
     "collapsed": false,
     "input": [],
     "language": "python",
     "metadata": {},
     "outputs": []
    }
   ],
   "metadata": {}
  }
 ]
}