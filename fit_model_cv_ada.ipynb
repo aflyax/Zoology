{
 "metadata": {
  "name": "",
  "signature": "sha256:604188d1ecc00f37d75812a17ba0d007a9442a04f58949b782167aa126a4b052"
 },
 "nbformat": 3,
 "nbformat_minor": 0,
 "worksheets": [
  {
   "cells": [
    {
     "cell_type": "code",
     "collapsed": false,
     "input": [
      "import pandas as pd\n",
      "import numpy as np\n",
      "from sklearn import cross_validation\n",
      "import pylab as plt\n",
      "from sklearn.ensemble import RandomForestClassifier\n",
      "from sklearn.ensemble import AdaBoostClassifier\n",
      "from sklearn.tree import DecisionTreeClassifier\n",
      "import gc\n",
      "import pickle\n",
      "%matplotlib inline"
     ],
     "language": "python",
     "metadata": {},
     "outputs": [],
     "prompt_number": 1
    },
    {
     "cell_type": "code",
     "collapsed": false,
     "input": [
      "#Write to csv files.  This is in the windows filesystem.\n",
      "y_train_df = pd.read_csv('C:\\\\Users\\\\E\\\\Desktop\\\\Zoology_kaggle\\\\y_train_df.csv', index_col=0)\n",
      "x_train_df = pd.read_csv('C:\\\\Users\\\\E\\\\Desktop\\\\Zoology_kaggle\\\\x_train_df.csv', index_col=0)\n",
      "x_test_df = pd.read_csv('C:\\\\Users\\\\E\\\\Desktop\\\\Zoology_kaggle\\\\x_test_hu_big_df.csv', index_col=0)\n",
      "x_train_hu_df = pd.read_csv('C:\\\\Users\\\\E\\\\Desktop\\\\Zoology_kaggle\\\\x_train_hu_big_df.csv', index_col=0)\n"
     ],
     "language": "python",
     "metadata": {},
     "outputs": [],
     "prompt_number": 30
    },
    {
     "cell_type": "code",
     "collapsed": false,
     "input": [
      "x_train_df_total = pd.concat([x_train_hu_df, x_train_df], axis=1)"
     ],
     "language": "python",
     "metadata": {},
     "outputs": [],
     "prompt_number": 7
    },
    {
     "cell_type": "code",
     "collapsed": false,
     "input": [
      "y_train_df.head()"
     ],
     "language": "python",
     "metadata": {},
     "outputs": [
      {
       "html": [
        "<div style=\"max-height:1000px;max-width:1500px;overflow:auto;\">\n",
        "<table border=\"1\" class=\"dataframe\">\n",
        "  <thead>\n",
        "    <tr style=\"text-align: right;\">\n",
        "      <th></th>\n",
        "      <th>label</th>\n",
        "    </tr>\n",
        "  </thead>\n",
        "  <tbody>\n",
        "    <tr>\n",
        "      <th>C:\\Users\\E\\Desktop\\Zoology_kaggle\\train\\copepod_calanoid_small_longantennae\\100728.jpg</th>\n",
        "      <td> 0</td>\n",
        "    </tr>\n",
        "    <tr>\n",
        "      <th>C:\\Users\\E\\Desktop\\Zoology_kaggle\\train\\copepod_calanoid_small_longantennae\\101339.jpg</th>\n",
        "      <td> 0</td>\n",
        "    </tr>\n",
        "    <tr>\n",
        "      <th>C:\\Users\\E\\Desktop\\Zoology_kaggle\\train\\copepod_calanoid_small_longantennae\\103093.jpg</th>\n",
        "      <td> 0</td>\n",
        "    </tr>\n",
        "    <tr>\n",
        "      <th>C:\\Users\\E\\Desktop\\Zoology_kaggle\\train\\copepod_calanoid_small_longantennae\\104949.jpg</th>\n",
        "      <td> 0</td>\n",
        "    </tr>\n",
        "    <tr>\n",
        "      <th>C:\\Users\\E\\Desktop\\Zoology_kaggle\\train\\copepod_calanoid_small_longantennae\\106043.jpg</th>\n",
        "      <td> 0</td>\n",
        "    </tr>\n",
        "  </tbody>\n",
        "</table>\n",
        "</div>"
       ],
       "metadata": {},
       "output_type": "pyout",
       "prompt_number": 8,
       "text": [
        "                                                                                        label\n",
        "C:\\Users\\E\\Desktop\\Zoology_kaggle\\train\\copepod_calanoid_small_longantennae\\100728.jpg      0\n",
        "C:\\Users\\E\\Desktop\\Zoology_kaggle\\train\\copepod_calanoid_small_longantennae\\101339.jpg      0\n",
        "C:\\Users\\E\\Desktop\\Zoology_kaggle\\train\\copepod_calanoid_small_longantennae\\103093.jpg      0\n",
        "C:\\Users\\E\\Desktop\\Zoology_kaggle\\train\\copepod_calanoid_small_longantennae\\104949.jpg      0\n",
        "C:\\Users\\E\\Desktop\\Zoology_kaggle\\train\\copepod_calanoid_small_longantennae\\106043.jpg      0"
       ]
      }
     ],
     "prompt_number": 8
    },
    {
     "cell_type": "code",
     "collapsed": false,
     "input": [
      "x_train_df_total.shape"
     ],
     "language": "python",
     "metadata": {},
     "outputs": [
      {
       "metadata": {},
       "output_type": "pyout",
       "prompt_number": 9,
       "text": [
        "(30334, 644)"
       ]
      }
     ],
     "prompt_number": 9
    },
    {
     "cell_type": "code",
     "collapsed": false,
     "input": [
      "x_train_df_total.iloc[:,:19].describe()"
     ],
     "language": "python",
     "metadata": {},
     "outputs": [
      {
       "html": [
        "<div style=\"max-height:1000px;max-width:1500px;overflow:auto;\">\n",
        "<table border=\"1\" class=\"dataframe\">\n",
        "  <thead>\n",
        "    <tr style=\"text-align: right;\">\n",
        "      <th></th>\n",
        "      <th>0</th>\n",
        "      <th>1</th>\n",
        "      <th>2</th>\n",
        "      <th>3</th>\n",
        "      <th>4</th>\n",
        "      <th>5</th>\n",
        "      <th>6</th>\n",
        "      <th>region_count</th>\n",
        "      <th>maxregion.area</th>\n",
        "      <th>maxregion.convex_area</th>\n",
        "      <th>maxregion.eccentricity</th>\n",
        "      <th>maxregion.equivalent_diameter</th>\n",
        "      <th>maxregion.extent</th>\n",
        "      <th>maxregion.filled_area</th>\n",
        "      <th>maxregion.major_axis_length</th>\n",
        "      <th>maxregion.minor_axis_length</th>\n",
        "      <th>maxregion.orientation</th>\n",
        "      <th>maxregion.perimeter</th>\n",
        "      <th>maxregion.solidity</th>\n",
        "    </tr>\n",
        "  </thead>\n",
        "  <tbody>\n",
        "    <tr>\n",
        "      <th>count</th>\n",
        "      <td> 30334.000000</td>\n",
        "      <td> 30334.000000</td>\n",
        "      <td> 30334.000000</td>\n",
        "      <td> 30334.000000</td>\n",
        "      <td> 3.033400e+04</td>\n",
        "      <td> 3.033400e+04</td>\n",
        "      <td> 3.033400e+04</td>\n",
        "      <td> 30334.000000</td>\n",
        "      <td> 30334.000000</td>\n",
        "      <td> 30334.000000</td>\n",
        "      <td> 30334.000000</td>\n",
        "      <td> 30334.000000</td>\n",
        "      <td> 30334.000000</td>\n",
        "      <td> 30334.000000</td>\n",
        "      <td> 30334.000000</td>\n",
        "      <td> 30334.000000</td>\n",
        "      <td> 30334.000000</td>\n",
        "      <td> 30334.000000</td>\n",
        "      <td> 30334.000000</td>\n",
        "    </tr>\n",
        "    <tr>\n",
        "      <th>mean</th>\n",
        "      <td>     0.606440</td>\n",
        "      <td>     0.498581</td>\n",
        "      <td>     0.145458</td>\n",
        "      <td>     0.089539</td>\n",
        "      <td> 1.002320e+00</td>\n",
        "      <td> 2.008213e-01</td>\n",
        "      <td> 2.039832e-02</td>\n",
        "      <td>     3.500330</td>\n",
        "      <td>    86.755489</td>\n",
        "      <td>   137.103745</td>\n",
        "      <td>     0.807225</td>\n",
        "      <td>    10.259654</td>\n",
        "      <td>     0.397553</td>\n",
        "      <td>    90.435485</td>\n",
        "      <td>    19.069002</td>\n",
        "      <td>     9.163944</td>\n",
        "      <td>     0.245992</td>\n",
        "      <td>    53.749433</td>\n",
        "      <td>     0.652935</td>\n",
        "    </tr>\n",
        "    <tr>\n",
        "      <th>std</th>\n",
        "      <td>     0.516422</td>\n",
        "      <td>     1.881993</td>\n",
        "      <td>     1.248208</td>\n",
        "      <td>     0.985158</td>\n",
        "      <td> 3.886499e+01</td>\n",
        "      <td> 3.987541e+00</td>\n",
        "      <td> 2.324231e+00</td>\n",
        "      <td>     4.170427</td>\n",
        "      <td>    39.226412</td>\n",
        "      <td>    65.121877</td>\n",
        "      <td>     0.160767</td>\n",
        "      <td>     2.280391</td>\n",
        "      <td>     0.157737</td>\n",
        "      <td>    43.721222</td>\n",
        "      <td>     5.242852</td>\n",
        "      <td>     3.746975</td>\n",
        "      <td>     0.784878</td>\n",
        "      <td>    22.469926</td>\n",
        "      <td>     0.164448</td>\n",
        "    </tr>\n",
        "    <tr>\n",
        "      <th>min</th>\n",
        "      <td>     0.000000</td>\n",
        "      <td>     0.000000</td>\n",
        "      <td>     0.000000</td>\n",
        "      <td>     0.000000</td>\n",
        "      <td>-1.050113e+02</td>\n",
        "      <td>-2.129958e+01</td>\n",
        "      <td>-4.922230e+01</td>\n",
        "      <td>    -1.000000</td>\n",
        "      <td>     0.000000</td>\n",
        "      <td>     0.000000</td>\n",
        "      <td>     0.000000</td>\n",
        "      <td>     0.000000</td>\n",
        "      <td>     0.000000</td>\n",
        "      <td>     0.000000</td>\n",
        "      <td>     0.000000</td>\n",
        "      <td>     0.000000</td>\n",
        "      <td>    -1.570796</td>\n",
        "      <td>     0.000000</td>\n",
        "      <td>     0.000000</td>\n",
        "    </tr>\n",
        "    <tr>\n",
        "      <th>25%</th>\n",
        "      <td>     0.286725</td>\n",
        "      <td>     0.014585</td>\n",
        "      <td>     0.000646</td>\n",
        "      <td>     0.000142</td>\n",
        "      <td> 4.418118e-13</td>\n",
        "      <td>-1.789740e-08</td>\n",
        "      <td>-8.982558e-07</td>\n",
        "      <td>     1.000000</td>\n",
        "      <td>    59.000000</td>\n",
        "      <td>    98.000000</td>\n",
        "      <td>     0.698716</td>\n",
        "      <td>     8.667245</td>\n",
        "      <td>     0.277311</td>\n",
        "      <td>    59.000000</td>\n",
        "      <td>    15.155177</td>\n",
        "      <td>     6.506856</td>\n",
        "      <td>    -0.449637</td>\n",
        "      <td>    40.627417</td>\n",
        "      <td>     0.527778</td>\n",
        "    </tr>\n",
        "    <tr>\n",
        "      <th>50%</th>\n",
        "      <td>     0.449882</td>\n",
        "      <td>     0.072967</td>\n",
        "      <td>     0.005642</td>\n",
        "      <td>     0.001549</td>\n",
        "      <td> 4.183301e-07</td>\n",
        "      <td> 5.911889e-05</td>\n",
        "      <td>-7.922665e-13</td>\n",
        "      <td>     2.000000</td>\n",
        "      <td>    81.000000</td>\n",
        "      <td>   126.000000</td>\n",
        "      <td>     0.846785</td>\n",
        "      <td>    10.155413</td>\n",
        "      <td>     0.373825</td>\n",
        "      <td>    82.000000</td>\n",
        "      <td>    17.936826</td>\n",
        "      <td>     9.061124</td>\n",
        "      <td>     0.531850</td>\n",
        "      <td>    48.870058</td>\n",
        "      <td>     0.654930</td>\n",
        "    </tr>\n",
        "    <tr>\n",
        "      <th>75%</th>\n",
        "      <td>     0.752470</td>\n",
        "      <td>     0.340635</td>\n",
        "      <td>     0.039808</td>\n",
        "      <td>     0.010838</td>\n",
        "      <td> 6.923344e-05</td>\n",
        "      <td> 2.459990e-03</td>\n",
        "      <td> 6.667638e-07</td>\n",
        "      <td>     4.000000</td>\n",
        "      <td>   107.000000</td>\n",
        "      <td>   160.000000</td>\n",
        "      <td>     0.947029</td>\n",
        "      <td>    11.672045</td>\n",
        "      <td>     0.507937</td>\n",
        "      <td>   113.000000</td>\n",
        "      <td>    22.524034</td>\n",
        "      <td>    11.326123</td>\n",
        "      <td>     0.831159</td>\n",
        "      <td>    60.446961</td>\n",
        "      <td>     0.781818</td>\n",
        "    </tr>\n",
        "    <tr>\n",
        "      <th>max</th>\n",
        "      <td>    10.295014</td>\n",
        "      <td>   105.959252</td>\n",
        "      <td>    62.442061</td>\n",
        "      <td>    56.204006</td>\n",
        "      <td> 3.293997e+03</td>\n",
        "      <td> 2.805702e+02</td>\n",
        "      <td> 2.790385e+02</td>\n",
        "      <td>    40.000000</td>\n",
        "      <td>   348.000000</td>\n",
        "      <td>   616.000000</td>\n",
        "      <td>     1.000000</td>\n",
        "      <td>    21.049640</td>\n",
        "      <td>     1.000000</td>\n",
        "      <td>   490.000000</td>\n",
        "      <td>    40.848002</td>\n",
        "      <td>    30.814722</td>\n",
        "      <td>     1.570290</td>\n",
        "      <td>   224.066017</td>\n",
        "      <td>     1.000000</td>\n",
        "    </tr>\n",
        "  </tbody>\n",
        "</table>\n",
        "</div>"
       ],
       "metadata": {},
       "output_type": "pyout",
       "prompt_number": 10,
       "text": [
        "                  0             1             2             3             4  \\\n",
        "count  30334.000000  30334.000000  30334.000000  30334.000000  3.033400e+04   \n",
        "mean       0.606440      0.498581      0.145458      0.089539  1.002320e+00   \n",
        "std        0.516422      1.881993      1.248208      0.985158  3.886499e+01   \n",
        "min        0.000000      0.000000      0.000000      0.000000 -1.050113e+02   \n",
        "25%        0.286725      0.014585      0.000646      0.000142  4.418118e-13   \n",
        "50%        0.449882      0.072967      0.005642      0.001549  4.183301e-07   \n",
        "75%        0.752470      0.340635      0.039808      0.010838  6.923344e-05   \n",
        "max       10.295014    105.959252     62.442061     56.204006  3.293997e+03   \n",
        "\n",
        "                  5             6  region_count  maxregion.area  \\\n",
        "count  3.033400e+04  3.033400e+04  30334.000000    30334.000000   \n",
        "mean   2.008213e-01  2.039832e-02      3.500330       86.755489   \n",
        "std    3.987541e+00  2.324231e+00      4.170427       39.226412   \n",
        "min   -2.129958e+01 -4.922230e+01     -1.000000        0.000000   \n",
        "25%   -1.789740e-08 -8.982558e-07      1.000000       59.000000   \n",
        "50%    5.911889e-05 -7.922665e-13      2.000000       81.000000   \n",
        "75%    2.459990e-03  6.667638e-07      4.000000      107.000000   \n",
        "max    2.805702e+02  2.790385e+02     40.000000      348.000000   \n",
        "\n",
        "       maxregion.convex_area  maxregion.eccentricity  \\\n",
        "count           30334.000000            30334.000000   \n",
        "mean              137.103745                0.807225   \n",
        "std                65.121877                0.160767   \n",
        "min                 0.000000                0.000000   \n",
        "25%                98.000000                0.698716   \n",
        "50%               126.000000                0.846785   \n",
        "75%               160.000000                0.947029   \n",
        "max               616.000000                1.000000   \n",
        "\n",
        "       maxregion.equivalent_diameter  maxregion.extent  maxregion.filled_area  \\\n",
        "count                   30334.000000      30334.000000           30334.000000   \n",
        "mean                       10.259654          0.397553              90.435485   \n",
        "std                         2.280391          0.157737              43.721222   \n",
        "min                         0.000000          0.000000               0.000000   \n",
        "25%                         8.667245          0.277311              59.000000   \n",
        "50%                        10.155413          0.373825              82.000000   \n",
        "75%                        11.672045          0.507937             113.000000   \n",
        "max                        21.049640          1.000000             490.000000   \n",
        "\n",
        "       maxregion.major_axis_length  maxregion.minor_axis_length  \\\n",
        "count                 30334.000000                 30334.000000   \n",
        "mean                     19.069002                     9.163944   \n",
        "std                       5.242852                     3.746975   \n",
        "min                       0.000000                     0.000000   \n",
        "25%                      15.155177                     6.506856   \n",
        "50%                      17.936826                     9.061124   \n",
        "75%                      22.524034                    11.326123   \n",
        "max                      40.848002                    30.814722   \n",
        "\n",
        "       maxregion.orientation  maxregion.perimeter  maxregion.solidity  \n",
        "count           30334.000000         30334.000000        30334.000000  \n",
        "mean                0.245992            53.749433            0.652935  \n",
        "std                 0.784878            22.469926            0.164448  \n",
        "min                -1.570796             0.000000            0.000000  \n",
        "25%                -0.449637            40.627417            0.527778  \n",
        "50%                 0.531850            48.870058            0.654930  \n",
        "75%                 0.831159            60.446961            0.781818  \n",
        "max                 1.570290           224.066017            1.000000  "
       ]
      }
     ],
     "prompt_number": 10
    },
    {
     "cell_type": "code",
     "collapsed": false,
     "input": [
      "X_train, X_test, y_train, y_test = cross_validation.train_test_split(x_train_hu_df, y_train_df, test_size=0.15, random_state=0)\n",
      "#X_train, X_test, y_train, y_test = cross_validation.train_test_split(x_train_df_total.iloc[:,:19], y_train_df, test_size=0.15, random_state=0)\n",
      "#X_train, X_test, y_train, y_test = cross_validation.train_test_split(x_train_hu_df, y_train_df, test_size=0.15, random_state=0)"
     ],
     "language": "python",
     "metadata": {},
     "outputs": [],
     "prompt_number": 12
    },
    {
     "cell_type": "code",
     "collapsed": false,
     "input": [
      "X_test.shape"
     ],
     "language": "python",
     "metadata": {},
     "outputs": [
      {
       "metadata": {},
       "output_type": "pyout",
       "prompt_number": 13,
       "text": [
        "(4551L, 36L)"
       ]
      }
     ],
     "prompt_number": 13
    },
    {
     "cell_type": "code",
     "collapsed": false,
     "input": [
      "X_train.shape"
     ],
     "language": "python",
     "metadata": {},
     "outputs": [
      {
       "metadata": {},
       "output_type": "pyout",
       "prompt_number": 14,
       "text": [
        "(25783L, 36L)"
       ]
      }
     ],
     "prompt_number": 14
    },
    {
     "cell_type": "code",
     "collapsed": false,
     "input": [
      "clf = AdaBoostClassifier(DecisionTreeClassifier(max_depth=16), n_estimators=100, learning_rate=.125)"
     ],
     "language": "python",
     "metadata": {},
     "outputs": [],
     "prompt_number": 15
    },
    {
     "cell_type": "code",
     "collapsed": false,
     "input": [
      "clf.fit(X_train, np.ravel(y_train))"
     ],
     "language": "python",
     "metadata": {},
     "outputs": [
      {
       "metadata": {},
       "output_type": "pyout",
       "prompt_number": 16,
       "text": [
        "AdaBoostClassifier(algorithm='SAMME.R',\n",
        "          base_estimator=DecisionTreeClassifier(compute_importances=None, criterion='gini',\n",
        "            max_depth=16, max_features=None, max_leaf_nodes=None,\n",
        "            min_density=None, min_samples_leaf=1, min_samples_split=2,\n",
        "            random_state=None, splitter='best'),\n",
        "          learning_rate=0.125, n_estimators=100, random_state=None)"
       ]
      }
     ],
     "prompt_number": 16
    },
    {
     "cell_type": "code",
     "collapsed": false,
     "input": [
      "clf.score(X_test, np.ravel(y_test))"
     ],
     "language": "python",
     "metadata": {},
     "outputs": [
      {
       "metadata": {},
       "output_type": "pyout",
       "prompt_number": 18,
       "text": [
        "0.55086794111184356"
       ]
      }
     ],
     "prompt_number": 18
    },
    {
     "cell_type": "code",
     "collapsed": false,
     "input": [
      "plt.plot(clf.feature_importances_)"
     ],
     "language": "python",
     "metadata": {},
     "outputs": [
      {
       "metadata": {},
       "output_type": "pyout",
       "prompt_number": 17,
       "text": [
        "[<matplotlib.lines.Line2D at 0x334a1550>]"
       ]
      },
      {
       "metadata": {},
       "output_type": "display_data",
       "png": "[encoded data removed]",
       "text": [
        "<matplotlib.figure.Figure at 0x151acd30>"
       ]
      }
     ],
     "prompt_number": 17
    },
    {
     "cell_type": "code",
     "collapsed": false,
     "input": [
      "#results = clf.predict_log_proba(X_test)\n",
      "results = clf.predict_proba(X_test)"
     ],
     "language": "python",
     "metadata": {},
     "outputs": [],
     "prompt_number": 23
    },
    {
     "cell_type": "code",
     "collapsed": false,
     "input": [
      "results_norm = results*1.0 + 0*np.ones(results.shape)/121"
     ],
     "language": "python",
     "metadata": {},
     "outputs": [],
     "prompt_number": 24
    },
    {
     "cell_type": "code",
     "collapsed": false,
     "input": [
      "results_predicted = [results_norm[i,int(y_test[i])] for i in xrange(len(results))]"
     ],
     "language": "python",
     "metadata": {},
     "outputs": [],
     "prompt_number": 31
    },
    {
     "cell_type": "code",
     "collapsed": false,
     "input": [
      "np.mean(results_predicted)"
     ],
     "language": "python",
     "metadata": {},
     "outputs": [
      {
       "metadata": {},
       "output_type": "pyout",
       "prompt_number": 32,
       "text": [
        "0.4451289356322885"
       ]
      }
     ],
     "prompt_number": 32
    },
    {
     "cell_type": "code",
     "collapsed": false,
     "input": [
      "results_predicted > .5"
     ],
     "language": "python",
     "metadata": {},
     "outputs": [
      {
       "metadata": {},
       "output_type": "pyout",
       "prompt_number": 27,
       "text": [
        "True"
       ]
      }
     ],
     "prompt_number": 27
    },
    {
     "cell_type": "code",
     "collapsed": false,
     "input": [
      "plt.hist(y_test, bins=121)"
     ],
     "language": "python",
     "metadata": {},
     "outputs": [
      {
       "metadata": {},
       "output_type": "pyout",
       "prompt_number": 28,
       "text": [
        "(array([  10.,    1.,    4.,   38.,   20.,   29.,    2.,  104.,    1.,\n",
        "         133.,   78.,  103.,   49.,    4.,   41.,   16.,   17.,    3.,\n",
        "          81.,   17.,   10.,    4.,   14.,    2.,    1.,   55.,   10.,\n",
        "           3.,   17.,    2.,    3.,   33.,   13.,   13.,   10.,    6.,\n",
        "          93.,   23.,   16.,    0.,   34.,   23.,    9.,   25.,   24.,\n",
        "          24.,   58.,    3.,   26.,  129.,   76.,    6.,    7.,  161.,\n",
        "          23.,    0.,    3.,   59.,  104.,   15.,   70.,  101.,   74.,\n",
        "          13.,    8.,   22.,   17.,   42.,   14.,   22.,   13.,    3.,\n",
        "          69.,   93.,   18.,   27.,   28.,   12.,    1.,   37.,    9.,\n",
        "          22.,    9.,    2.,    5.,  134.,   63.,   23.,    9.,   87.,\n",
        "           0.,   65.,    9.,   28.,   55.,  177.,   43.,   21.,   35.,\n",
        "          34.,    9.,    6.,    4.,    3.,   32.,    6.,    9.,   71.,\n",
        "         330.,  116.,   12.,   13.,   62.,    9.,    4.,    2.,    3.,\n",
        "          16.,  137.,  292.,   13.]),\n",
        " array([   0.        ,    0.99173554,    1.98347107,    2.97520661,\n",
        "           3.96694215,    4.95867769,    5.95041322,    6.94214876,\n",
        "           7.9338843 ,    8.92561983,    9.91735537,   10.90909091,\n",
        "          11.90082645,   12.89256198,   13.88429752,   14.87603306,\n",
        "          15.8677686 ,   16.85950413,   17.85123967,   18.84297521,\n",
        "          19.83471074,   20.82644628,   21.81818182,   22.80991736,\n",
        "          23.80165289,   24.79338843,   25.78512397,   26.7768595 ,\n",
        "          27.76859504,   28.76033058,   29.75206612,   30.74380165,\n",
        "          31.73553719,   32.72727273,   33.71900826,   34.7107438 ,\n",
        "          35.70247934,   36.69421488,   37.68595041,   38.67768595,\n",
        "          39.66942149,   40.66115702,   41.65289256,   42.6446281 ,\n",
        "          43.63636364,   44.62809917,   45.61983471,   46.61157025,\n",
        "          47.60330579,   48.59504132,   49.58677686,   50.5785124 ,\n",
        "          51.57024793,   52.56198347,   53.55371901,   54.54545455,\n",
        "          55.53719008,   56.52892562,   57.52066116,   58.51239669,\n",
        "          59.50413223,   60.49586777,   61.48760331,   62.47933884,\n",
        "          63.47107438,   64.46280992,   65.45454545,   66.44628099,\n",
        "          67.43801653,   68.42975207,   69.4214876 ,   70.41322314,\n",
        "          71.40495868,   72.39669421,   73.38842975,   74.38016529,\n",
        "          75.37190083,   76.36363636,   77.3553719 ,   78.34710744,\n",
        "          79.33884298,   80.33057851,   81.32231405,   82.31404959,\n",
        "          83.30578512,   84.29752066,   85.2892562 ,   86.28099174,\n",
        "          87.27272727,   88.26446281,   89.25619835,   90.24793388,\n",
        "          91.23966942,   92.23140496,   93.2231405 ,   94.21487603,\n",
        "          95.20661157,   96.19834711,   97.19008264,   98.18181818,\n",
        "          99.17355372,  100.16528926,  101.15702479,  102.14876033,\n",
        "         103.14049587,  104.1322314 ,  105.12396694,  106.11570248,\n",
        "         107.10743802,  108.09917355,  109.09090909,  110.08264463,\n",
        "         111.07438017,  112.0661157 ,  113.05785124,  114.04958678,\n",
        "         115.04132231,  116.03305785,  117.02479339,  118.01652893,\n",
        "         119.00826446,  120.        ]),\n",
        " <a list of 121 Patch objects>)"
       ]
      },
      {
       "metadata": {},
       "output_type": "display_data",
       "png": "[encoded data removed]",
       "text": [
        "<matplotlib.figure.Figure at 0x151d4358>"
       ]
      }
     ],
     "prompt_number": 28
    },
    {
     "cell_type": "code",
     "collapsed": false,
     "input": [
      "clf = RandomForestClassifier(n_estimators=200)"
     ],
     "language": "python",
     "metadata": {},
     "outputs": [],
     "prompt_number": 29
    },
    {
     "cell_type": "code",
     "collapsed": false,
     "input": [
      "clf.fit(x_train_df, np.ravel(y_train_df))"
     ],
     "language": "python",
     "metadata": {},
     "outputs": [
      {
       "metadata": {},
       "output_type": "pyout",
       "prompt_number": 34,
       "text": [
        "RandomForestClassifier(bootstrap=True, compute_importances=None,\n",
        "            criterion='gini', max_depth=None, max_features='auto',\n",
        "            max_leaf_nodes=None, min_density=None, min_samples_leaf=1,\n",
        "            min_samples_split=2, n_estimators=200, n_jobs=1,\n",
        "            oob_score=False, random_state=None, verbose=0)"
       ]
      }
     ],
     "prompt_number": 34
    },
    {
     "cell_type": "code",
     "collapsed": false,
     "input": [
      "gc.collect()"
     ],
     "language": "python",
     "metadata": {},
     "outputs": [
      {
       "metadata": {},
       "output_type": "pyout",
       "prompt_number": 38,
       "text": [
        "0"
       ]
      }
     ],
     "prompt_number": 38
    },
    {
     "cell_type": "code",
     "collapsed": false,
     "input": [
      "results = clf.predict_proba(x_test_df)"
     ],
     "language": "python",
     "metadata": {},
     "outputs": [],
     "prompt_number": 49
    },
    {
     "cell_type": "code",
     "collapsed": false,
     "input": [
      "results.shape"
     ],
     "language": "python",
     "metadata": {},
     "outputs": [
      {
       "metadata": {},
       "output_type": "pyout",
       "prompt_number": 60,
       "text": [
        "(130400L, 121L)"
       ]
      }
     ],
     "prompt_number": 60
    },
    {
     "cell_type": "code",
     "collapsed": false,
     "input": [
      "results_towrite = (results.copy() + .5/121)"
     ],
     "language": "python",
     "metadata": {},
     "outputs": [],
     "prompt_number": 127
    },
    {
     "cell_type": "code",
     "collapsed": false,
     "input": [
      "plt.plot(np.sum(results, axis=0))"
     ],
     "language": "python",
     "metadata": {},
     "outputs": [
      {
       "metadata": {},
       "output_type": "pyout",
       "prompt_number": 128,
       "text": [
        "[<matplotlib.lines.Line2D at 0x50937f98>]"
       ]
      },
      {
       "metadata": {},
       "output_type": "display_data",
       "png": "[encoded data removed]",
       "text": [
        "<matplotlib.figure.Figure at 0x19850d68>"
       ]
      }
     ],
     "prompt_number": 128
    },
    {
     "cell_type": "code",
     "collapsed": false,
     "input": [
      "names = pickle.load(open('C:\\\\Users\\\\E\\\\Desktop\\\\Zoology_kaggle\\\\names.csv', 'r'))"
     ],
     "language": "python",
     "metadata": {},
     "outputs": [],
     "prompt_number": 100
    },
    {
     "cell_type": "code",
     "collapsed": false,
     "input": [
      "names"
     ],
     "language": "python",
     "metadata": {},
     "outputs": [
      {
       "metadata": {},
       "output_type": "pyout",
       "prompt_number": 116,
       "text": [
        "['copepod_calanoid_small_longantennae',\n",
        " 'appendicularian_fritillaridae',\n",
        " 'siphonophore_other_parts',\n",
        " 'appendicularian_straight',\n",
        " 'echinoderm_larva_pluteus_early',\n",
        " 'hydromedusae_shapeA_sideview_small',\n",
        " 'hydromedusae_liriope',\n",
        " 'chaetognath_sagitta',\n",
        " 'heteropod',\n",
        " 'chaetognath_non_sagitta',\n",
        " 'diatom_chain_string',\n",
        " 'copepod_calanoid',\n",
        " 'artifacts',\n",
        " 'amphipods',\n",
        " 'copepod_calanoid_large',\n",
        " 'copepod_calanoid_large_side_antennatucked',\n",
        " 'ctenophore_cestid',\n",
        " 'pteropod_theco_dev_seq',\n",
        " 'siphonophore_calycophoran_rocketship_young',\n",
        " 'shrimp_sergestidae',\n",
        " 'decapods',\n",
        " 'echinopluteus',\n",
        " 'hydromedusae_bell_and_tentacles',\n",
        " 'hydromedusae_narco_dark',\n",
        " 'hydromedusae_haliscera_small_sideview',\n",
        " 'unknown_unclassified',\n",
        " 'pteropod_triangle',\n",
        " 'hydromedusae_other',\n",
        " 'hydromedusae_aglaura',\n",
        " 'invertebrate_larvae_other_A',\n",
        " 'invertebrate_larvae_other_B',\n",
        " 'siphonophore_calycophoran_abylidae',\n",
        " 'echinoderm_larva_pluteus_typeC',\n",
        " 'hydromedusae_sideview_big',\n",
        " 'fish_larvae_myctophids',\n",
        " 'fish_larvae_leptocephali',\n",
        " 'hydromedusae_solmaris',\n",
        " 'euphausiids',\n",
        " 'echinoderm_larva_pluteus_urchin',\n",
        " 'acantharia_protist_big_center',\n",
        " 'crustacean_other',\n",
        " 'siphonophore_calycophoran_rocketship_adult',\n",
        " 'echinoderm_larva_pluteus_brittlestar',\n",
        " 'artifacts_edge',\n",
        " 'copepod_calanoid_flatheads',\n",
        " 'siphonophore_physonect',\n",
        " 'hydromedusae_narco_young',\n",
        " 'stomatopod',\n",
        " 'unknown_sticks',\n",
        " 'copepod_cyclopoid_oithona',\n",
        " 'echinoderm_larva_seastar_brachiolaria',\n",
        " 'hydromedusae_h15',\n",
        " 'copepod_calanoid_frillyAntennae',\n",
        " 'protist_other',\n",
        " 'copepod_calanoid_eucalanus',\n",
        " 'fish_larvae_deep_body',\n",
        " 'copepod_cyclopoid_copilia',\n",
        " 'protist_fuzzy_olive',\n",
        " 'appendicularian_s_shape',\n",
        " 'polychaete',\n",
        " 'tunicate_doliolid',\n",
        " 'trichodesmium_tuft',\n",
        " 'diatom_chain_tube',\n",
        " 'echinoderm_seacucumber_auricularia_larva',\n",
        " 'ctenophore_cydippid_no_tentacles',\n",
        " 'hydromedusae_narcomedusae',\n",
        " 'jellies_tentacles',\n",
        " 'tunicate_salp',\n",
        " 'hydromedusae_solmundella',\n",
        " 'protist_star',\n",
        " 'pteropod_butterfly',\n",
        " 'siphonophore_physonect_young',\n",
        " 'echinoderm_larva_seastar_bipinnaria',\n",
        " 'protist_noctiluca',\n",
        " 'radiolarian_colony',\n",
        " 'hydromedusae_haliscera',\n",
        " 'hydromedusae_partial_dark',\n",
        " 'fish_larvae_thin_body',\n",
        " 'fish_larvae_very_thin_body',\n",
        " 'detritus_blob',\n",
        " 'hydromedusae_typeF',\n",
        " 'copepod_calanoid_eggs',\n",
        " 'hydromedusae_typeD',\n",
        " 'hydromedusae_typeE',\n",
        " 'tornaria_acorn_worm_larvae',\n",
        " 'detritus_other',\n",
        " 'tunicate_partial',\n",
        " 'shrimp_zoea',\n",
        " 'hydromedusae_typeD_bell_and_tentacles',\n",
        " 'fecal_pellet',\n",
        " 'ephyra',\n",
        " 'tunicate_doliolid_nurse',\n",
        " 'euphausiids_young',\n",
        " 'hydromedusae_shapeB',\n",
        " 'hydromedusae_shapeA',\n",
        " 'copepod_cyclopoid_oithona_eggs',\n",
        " 'unknown_blobs_and_smudges',\n",
        " 'fish_larvae_medium_body',\n",
        " 'siphonophore_calycophoran_sphaeronectes_young',\n",
        " 'radiolarian_chain',\n",
        " 'acantharia_protist_halo',\n",
        " 'shrimp-like_other',\n",
        " 'trochophore_larvae',\n",
        " 'shrimp_caridean',\n",
        " 'siphonophore_calycophoran_sphaeronectes',\n",
        " 'tunicate_salp_chains',\n",
        " 'ctenophore_cydippid_tentacles',\n",
        " 'appendicularian_slight_curve',\n",
        " 'chaetognath_other',\n",
        " 'trichodesmium_bowtie',\n",
        " 'siphonophore_calycophoran_sphaeronectes_stem',\n",
        " 'chordate_type1',\n",
        " 'detritus_filamentous',\n",
        " 'copepod_calanoid_octomoms',\n",
        " 'siphonophore_partial',\n",
        " 'ctenophore_lobate',\n",
        " 'copepod_other',\n",
        " 'protist_dark_center',\n",
        " 'acantharia_protist',\n",
        " 'trichodesmium_puff',\n",
        " 'trichodesmium_multiple']"
       ]
      }
     ],
     "prompt_number": 116
    },
    {
     "cell_type": "code",
     "collapsed": true,
     "input": [
      "plt.plot(results_towrite[0])"
     ],
     "language": "python",
     "metadata": {},
     "outputs": [
      {
       "metadata": {},
       "output_type": "pyout",
       "prompt_number": 129,
       "text": [
        "[<matplotlib.lines.Line2D at 0x3bc98cf8>]"
       ]
      },
      {
       "metadata": {},
       "output_type": "display_data",
       "png": "[encoded data removed]",
       "text": [
        "<matplotlib.figure.Figure at 0x5095e080>"
       ]
      }
     ],
     "prompt_number": 129
    },
    {
     "cell_type": "code",
     "collapsed": false,
     "input": [
      "output_df = pd.DataFrame(results_towrite, index=x_test_df.index, columns=names)\n",
      "output_df.index.name = 'image'"
     ],
     "language": "python",
     "metadata": {},
     "outputs": [],
     "prompt_number": 130
    },
    {
     "cell_type": "code",
     "collapsed": false,
     "input": [
      "output_df[0:2]"
     ],
     "language": "python",
     "metadata": {},
     "outputs": [
      {
       "html": [
        "<div style=\"max-height:1000px;max-width:1500px;overflow:auto;\">\n",
        "<table border=\"1\" class=\"dataframe\">\n",
        "  <thead>\n",
        "    <tr style=\"text-align: right;\">\n",
        "      <th></th>\n",
        "      <th>copepod_calanoid_small_longantennae</th>\n",
        "      <th>appendicularian_fritillaridae</th>\n",
        "      <th>siphonophore_other_parts</th>\n",
        "      <th>appendicularian_straight</th>\n",
        "      <th>echinoderm_larva_pluteus_early</th>\n",
        "      <th>hydromedusae_shapeA_sideview_small</th>\n",
        "      <th>hydromedusae_liriope</th>\n",
        "      <th>chaetognath_sagitta</th>\n",
        "      <th>heteropod</th>\n",
        "      <th>chaetognath_non_sagitta</th>\n",
        "      <th>...</th>\n",
        "      <th>chordate_type1</th>\n",
        "      <th>detritus_filamentous</th>\n",
        "      <th>copepod_calanoid_octomoms</th>\n",
        "      <th>siphonophore_partial</th>\n",
        "      <th>ctenophore_lobate</th>\n",
        "      <th>copepod_other</th>\n",
        "      <th>protist_dark_center</th>\n",
        "      <th>acantharia_protist</th>\n",
        "      <th>trichodesmium_puff</th>\n",
        "      <th>trichodesmium_multiple</th>\n",
        "    </tr>\n",
        "    <tr>\n",
        "      <th>image</th>\n",
        "      <th></th>\n",
        "      <th></th>\n",
        "      <th></th>\n",
        "      <th></th>\n",
        "      <th></th>\n",
        "      <th></th>\n",
        "      <th></th>\n",
        "      <th></th>\n",
        "      <th></th>\n",
        "      <th></th>\n",
        "      <th></th>\n",
        "      <th></th>\n",
        "      <th></th>\n",
        "      <th></th>\n",
        "      <th></th>\n",
        "      <th></th>\n",
        "      <th></th>\n",
        "      <th></th>\n",
        "      <th></th>\n",
        "      <th></th>\n",
        "      <th></th>\n",
        "    </tr>\n",
        "  </thead>\n",
        "  <tbody>\n",
        "    <tr>\n",
        "      <th>1.jpg</th>\n",
        "      <td> 0.004132</td>\n",
        "      <td> 0.004132</td>\n",
        "      <td> 0.004132</td>\n",
        "      <td> 0.029132</td>\n",
        "      <td> 0.004132</td>\n",
        "      <td> 0.004132</td>\n",
        "      <td> 0.004132</td>\n",
        "      <td> 0.004132</td>\n",
        "      <td> 0.004132</td>\n",
        "      <td> 0.004132</td>\n",
        "      <td>...</td>\n",
        "      <td> 0.004132</td>\n",
        "      <td> 0.049132</td>\n",
        "      <td> 0.004132</td>\n",
        "      <td> 0.004132</td>\n",
        "      <td> 0.004132</td>\n",
        "      <td> 0.004132</td>\n",
        "      <td> 0.004132</td>\n",
        "      <td> 0.004132</td>\n",
        "      <td> 0.009132</td>\n",
        "      <td> 0.004132</td>\n",
        "    </tr>\n",
        "    <tr>\n",
        "      <th>10.jpg</th>\n",
        "      <td> 0.004132</td>\n",
        "      <td> 0.009132</td>\n",
        "      <td> 0.004132</td>\n",
        "      <td> 0.004132</td>\n",
        "      <td> 0.019132</td>\n",
        "      <td> 0.004132</td>\n",
        "      <td> 0.004132</td>\n",
        "      <td> 0.004132</td>\n",
        "      <td> 0.004132</td>\n",
        "      <td> 0.004132</td>\n",
        "      <td>...</td>\n",
        "      <td> 0.004132</td>\n",
        "      <td> 0.019132</td>\n",
        "      <td> 0.009132</td>\n",
        "      <td> 0.004132</td>\n",
        "      <td> 0.004132</td>\n",
        "      <td> 0.004132</td>\n",
        "      <td> 0.004132</td>\n",
        "      <td> 0.024132</td>\n",
        "      <td> 0.009132</td>\n",
        "      <td> 0.009132</td>\n",
        "    </tr>\n",
        "  </tbody>\n",
        "</table>\n",
        "<p>2 rows \u00d7 121 columns</p>\n",
        "</div>"
       ],
       "metadata": {},
       "output_type": "pyout",
       "prompt_number": 131,
       "text": [
        "        copepod_calanoid_small_longantennae  appendicularian_fritillaridae  \\\n",
        "image                                                                        \n",
        "1.jpg                              0.004132                       0.004132   \n",
        "10.jpg                             0.004132                       0.009132   \n",
        "\n",
        "        siphonophore_other_parts  appendicularian_straight  \\\n",
        "image                                                        \n",
        "1.jpg                   0.004132                  0.029132   \n",
        "10.jpg                  0.004132                  0.004132   \n",
        "\n",
        "        echinoderm_larva_pluteus_early  hydromedusae_shapeA_sideview_small  \\\n",
        "image                                                                        \n",
        "1.jpg                         0.004132                            0.004132   \n",
        "10.jpg                        0.019132                            0.004132   \n",
        "\n",
        "        hydromedusae_liriope  chaetognath_sagitta  heteropod  \\\n",
        "image                                                          \n",
        "1.jpg               0.004132             0.004132   0.004132   \n",
        "10.jpg              0.004132             0.004132   0.004132   \n",
        "\n",
        "        chaetognath_non_sagitta           ...             chordate_type1  \\\n",
        "image                                     ...                              \n",
        "1.jpg                  0.004132           ...                   0.004132   \n",
        "10.jpg                 0.004132           ...                   0.004132   \n",
        "\n",
        "        detritus_filamentous  copepod_calanoid_octomoms  siphonophore_partial  \\\n",
        "image                                                                           \n",
        "1.jpg               0.049132                   0.004132              0.004132   \n",
        "10.jpg              0.019132                   0.009132              0.004132   \n",
        "\n",
        "        ctenophore_lobate  copepod_other  protist_dark_center  \\\n",
        "image                                                           \n",
        "1.jpg            0.004132       0.004132             0.004132   \n",
        "10.jpg           0.004132       0.004132             0.004132   \n",
        "\n",
        "        acantharia_protist  trichodesmium_puff  trichodesmium_multiple  \n",
        "image                                                                   \n",
        "1.jpg             0.004132            0.009132                0.004132  \n",
        "10.jpg            0.024132            0.009132                0.009132  \n",
        "\n",
        "[2 rows x 121 columns]"
       ]
      }
     ],
     "prompt_number": 131
    },
    {
     "cell_type": "code",
     "collapsed": false,
     "input": [
      "output_df.to_csv('C:\\\\Users\\\\E\\\\Desktop\\\\Zoology_kaggle\\\\rotated_ADA_submission_2_121.csv')"
     ],
     "language": "python",
     "metadata": {},
     "outputs": [],
     "prompt_number": 132
    },
    {
     "cell_type": "code",
     "collapsed": false,
     "input": [],
     "language": "python",
     "metadata": {},
     "outputs": []
    }
   ],
   "metadata": {}
  }
 ]
}